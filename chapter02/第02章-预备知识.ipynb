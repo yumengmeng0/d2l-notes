{
 "cells": [
  {
   "cell_type": "markdown",
   "source": [
    "# 第2章 预备知识\n",
    "\n",
    "## 2.1 数据操作\n",
    "\n",
    "*张量（tensor）*：n维数组（n阶数组、具有n个轴的数组）\n",
    "\n",
    "### 2.1.1 入门\n",
    "\n",
    "*向量（vector）*：具有1个轴的张量  \n",
    "*矩阵（matrix）*：具有2个轴的张量  \n",
    "\n",
    "张量中的每个值称为张量的*元素*\n"
   ],
   "metadata": {
    "collapsed": false
   }
  },
  {
   "cell_type": "code",
   "execution_count": 1,
   "id": "ed911499",
   "metadata": {},
   "outputs": [
    {
     "data": {
      "text/plain": "tensor([ 0,  1,  2,  3,  4,  5,  6,  7,  8,  9, 10, 11])"
     },
     "execution_count": 1,
     "metadata": {},
     "output_type": "execute_result"
    }
   ],
   "source": [
    "import torch\n",
    "\n",
    "x = torch.arange(12)\n",
    "x"
   ]
  },
  {
   "cell_type": "code",
   "execution_count": 2,
   "id": "a77c02e5",
   "metadata": {},
   "outputs": [
    {
     "data": {
      "text/plain": "torch.Size([12])"
     },
     "execution_count": 2,
     "metadata": {},
     "output_type": "execute_result"
    }
   ],
   "source": [
    "# 张量的形状 shape\n",
    "x.shape  # torch.Size([12])"
   ]
  },
  {
   "cell_type": "code",
   "execution_count": 3,
   "id": "7eb72c88",
   "metadata": {},
   "outputs": [
    {
     "data": {
      "text/plain": "12"
     },
     "execution_count": 3,
     "metadata": {},
     "output_type": "execute_result"
    }
   ],
   "source": [
    "# 张量的大小 size\n",
    "x.numel()  # 12"
   ]
  },
  {
   "cell_type": "code",
   "execution_count": 4,
   "id": "69ef7b7c",
   "metadata": {},
   "outputs": [
    {
     "data": {
      "text/plain": "tensor([[ 0,  1,  2,  3],\n        [ 4,  5,  6,  7],\n        [ 8,  9, 10, 11]])"
     },
     "execution_count": 4,
     "metadata": {},
     "output_type": "execute_result"
    }
   ],
   "source": [
    "X = x.reshape(3, 4)\n",
    "X"
   ]
  },
  {
   "cell_type": "code",
   "execution_count": 5,
   "id": "c47f7b89",
   "metadata": {},
   "outputs": [
    {
     "data": {
      "text/plain": "tensor([[[0., 0., 0., 0.],\n         [0., 0., 0., 0.],\n         [0., 0., 0., 0.]],\n\n        [[0., 0., 0., 0.],\n         [0., 0., 0., 0.],\n         [0., 0., 0., 0.]]])"
     },
     "execution_count": 5,
     "metadata": {},
     "output_type": "execute_result"
    }
   ],
   "source": [
    "torch.zeros(2, 3, 4)"
   ]
  },
  {
   "cell_type": "code",
   "execution_count": 6,
   "id": "976552c6",
   "metadata": {},
   "outputs": [
    {
     "data": {
      "text/plain": "tensor([[[1., 1., 1., 1.],\n         [1., 1., 1., 1.],\n         [1., 1., 1., 1.]],\n\n        [[1., 1., 1., 1.],\n         [1., 1., 1., 1.],\n         [1., 1., 1., 1.]]])"
     },
     "execution_count": 6,
     "metadata": {},
     "output_type": "execute_result"
    }
   ],
   "source": [
    "torch.ones(2, 3, 4)"
   ]
  },
  {
   "cell_type": "code",
   "execution_count": 7,
   "id": "05a4b8c8",
   "metadata": {},
   "outputs": [
    {
     "data": {
      "text/plain": "tensor([[ 0.4546, -0.4257,  0.8136,  1.4538],\n        [ 0.2599, -1.0891, -1.0295, -1.1443],\n        [-1.9837, -0.4318, -1.2894,  0.4790]])"
     },
     "execution_count": 7,
     "metadata": {},
     "output_type": "execute_result"
    }
   ],
   "source": [
    "torch.randn(3, 4)"
   ]
  },
  {
   "cell_type": "markdown",
   "id": "89374e48",
   "metadata": {},
   "source": [
    "### 2.1.2 运算符"
   ]
  },
  {
   "cell_type": "code",
   "execution_count": 8,
   "id": "a32b773a",
   "metadata": {
    "scrolled": true
   },
   "outputs": [
    {
     "data": {
      "text/plain": "(tensor([ 3.,  4.,  6., 10.]),\n tensor([-1.,  0.,  2.,  6.]),\n tensor([ 2.,  4.,  8., 16.]),\n tensor([0.5000, 1.0000, 2.0000, 4.0000]),\n tensor([ 1.,  4., 16., 64.]))"
     },
     "execution_count": 8,
     "metadata": {},
     "output_type": "execute_result"
    }
   ],
   "source": [
    "# 按元素运行 + - *  / **\n",
    "x = torch.tensor([1.0, 2, 4, 8])\n",
    "y = torch.tensor([2, 2, 2, 2])\n",
    "x + y, x - y, x * y, x / y, x ** y"
   ]
  },
  {
   "cell_type": "code",
   "execution_count": 9,
   "id": "bcdb49f8",
   "metadata": {},
   "outputs": [
    {
     "data": {
      "text/plain": "tensor([2.7183e+00, 7.3891e+00, 5.4598e+01, 2.9810e+03])"
     },
     "execution_count": 9,
     "metadata": {},
     "output_type": "execute_result"
    }
   ],
   "source": [
    "torch.exp(x)"
   ]
  },
  {
   "cell_type": "code",
   "execution_count": 10,
   "id": "7cf450c6",
   "metadata": {},
   "outputs": [
    {
     "data": {
      "text/plain": "(tensor([[ 0.,  1.,  2.,  3.],\n         [ 4.,  5.,  6.,  7.],\n         [ 8.,  9., 10., 11.],\n         [ 2.,  1.,  4.,  3.],\n         [ 1.,  2.,  3.,  4.],\n         [ 4.,  3.,  2.,  1.]]),\n tensor([[ 0.,  1.,  2.,  3.,  2.,  1.,  4.,  3.],\n         [ 4.,  5.,  6.,  7.,  1.,  2.,  3.,  4.],\n         [ 8.,  9., 10., 11.,  4.,  3.,  2.,  1.]]))"
     },
     "execution_count": 10,
     "metadata": {},
     "output_type": "execute_result"
    }
   ],
   "source": [
    "# 连接张量\n",
    "X = torch.arange(12, dtype=torch.float32).reshape(3, 4)\n",
    "Y = torch.tensor([[2.0, 1, 4, 3], [1, 2, 3, 4], [4, 3, 2, 1]])\n",
    "\n",
    "torch.cat((X, Y), dim=0), torch.cat((X, Y), dim=1)  # 按行（轴0）和按列（轴1）连接"
   ]
  },
  {
   "cell_type": "code",
   "execution_count": 11,
   "id": "f0228fa5",
   "metadata": {},
   "outputs": [
    {
     "data": {
      "text/plain": "tensor([[False,  True, False,  True],\n        [False, False, False, False],\n        [False, False, False, False]])"
     },
     "execution_count": 11,
     "metadata": {},
     "output_type": "execute_result"
    }
   ],
   "source": [
    "# 逻辑运算\n",
    "X == Y"
   ]
  },
  {
   "cell_type": "markdown",
   "id": "b93648ce",
   "metadata": {},
   "source": [
    "### 2.1.3 广播机制\n",
    "\n",
    "不同形状的张量调用广播机制进行按元素操作。"
   ]
  },
  {
   "cell_type": "code",
   "execution_count": 12,
   "id": "879bbf0a",
   "metadata": {
    "scrolled": false
   },
   "outputs": [
    {
     "data": {
      "text/plain": "(tensor([[0],\n         [1],\n         [2]]),\n tensor([[0, 1]]))"
     },
     "execution_count": 12,
     "metadata": {},
     "output_type": "execute_result"
    }
   ],
   "source": [
    "a = torch.arange(3).reshape(3, 1)\n",
    "b = torch.arange(2).reshape(1, 2)\n",
    "a, b"
   ]
  },
  {
   "cell_type": "code",
   "execution_count": 13,
   "id": "7d93d252",
   "metadata": {},
   "outputs": [
    {
     "data": {
      "text/plain": "tensor([[0, 1],\n        [1, 2],\n        [2, 3]])"
     },
     "execution_count": 13,
     "metadata": {},
     "output_type": "execute_result"
    }
   ],
   "source": [
    "a + b"
   ]
  },
  {
   "cell_type": "markdown",
   "id": "014a5d5a",
   "metadata": {},
   "source": [
    "### 2.1.4 索引和切片\n",
    "\n",
    "第一个元素的索引是 0，最后一个元素的索引是 -1"
   ]
  },
  {
   "cell_type": "code",
   "execution_count": 14,
   "id": "01f0aa38",
   "metadata": {
    "scrolled": true
   },
   "outputs": [
    {
     "data": {
      "text/plain": "(tensor([ 8.,  9., 10., 11.]),\n tensor([[ 4.,  5.,  6.,  7.],\n         [ 8.,  9., 10., 11.]]))"
     },
     "execution_count": 14,
     "metadata": {},
     "output_type": "execute_result"
    }
   ],
   "source": [
    "X[-1], X[1:3]"
   ]
  },
  {
   "cell_type": "code",
   "execution_count": 15,
   "id": "fdbf0b82",
   "metadata": {},
   "outputs": [
    {
     "data": {
      "text/plain": "tensor([[ 0.,  1.,  2.,  3.],\n        [ 4.,  5.,  9.,  7.],\n        [ 8.,  9., 10., 11.]])"
     },
     "execution_count": 15,
     "metadata": {},
     "output_type": "execute_result"
    }
   ],
   "source": [
    "X[1, 2] = 9\n",
    "X"
   ]
  },
  {
   "cell_type": "code",
   "execution_count": 16,
   "id": "88daa571",
   "metadata": {},
   "outputs": [
    {
     "data": {
      "text/plain": "tensor([[12., 12., 12., 12.],\n        [12., 12., 12., 12.],\n        [ 8.,  9., 10., 11.]])"
     },
     "execution_count": 16,
     "metadata": {},
     "output_type": "execute_result"
    }
   ],
   "source": [
    "X[0:2, :] = 12\n",
    "X"
   ]
  },
  {
   "cell_type": "markdown",
   "id": "8e9abfae",
   "metadata": {},
   "source": [
    "### 2.1.5 节省内存"
   ]
  },
  {
   "cell_type": "code",
   "execution_count": 17,
   "id": "727ee337",
   "metadata": {},
   "outputs": [
    {
     "data": {
      "text/plain": "False"
     },
     "execution_count": 17,
     "metadata": {},
     "output_type": "execute_result"
    }
   ],
   "source": [
    "before = id(Y)\n",
    "Y = Y + X\n",
    "id(Y) == before  # False"
   ]
  },
  {
   "cell_type": "code",
   "execution_count": 18,
   "id": "db4fb969",
   "metadata": {},
   "outputs": [
    {
     "name": "stdout",
     "output_type": "stream",
     "text": [
      "id(Z): 2586615398624\n",
      "id(Z): 2586615398624\n"
     ]
    }
   ],
   "source": [
    "Z = torch.zeros_like(Y)\n",
    "print('id(Z):', id(Z))  # id(Z): 1897904303616\n",
    "Z[:] = X + Y\n",
    "print('id(Z):', id(Z))  # id(Z): 1897904303616"
   ]
  },
  {
   "cell_type": "code",
   "execution_count": 19,
   "id": "5cfb245e",
   "metadata": {},
   "outputs": [
    {
     "data": {
      "text/plain": "True"
     },
     "execution_count": 19,
     "metadata": {},
     "output_type": "execute_result"
    }
   ],
   "source": [
    "before = id(X)\n",
    "X += Y\n",
    "id(X) == before  # True"
   ]
  },
  {
   "cell_type": "markdown",
   "id": "861fc361",
   "metadata": {},
   "source": [
    "### 2.1.6 转换为其他Python对象"
   ]
  },
  {
   "cell_type": "code",
   "execution_count": 20,
   "id": "f4295eec",
   "metadata": {},
   "outputs": [
    {
     "data": {
      "text/plain": "(numpy.ndarray, torch.Tensor)"
     },
     "execution_count": 20,
     "metadata": {},
     "output_type": "execute_result"
    }
   ],
   "source": [
    "A = X.numpy()\n",
    "B = torch.tensor(A)\n",
    "type(A), type(B)  # (numpy.ndarray, torch.Tensor)"
   ]
  },
  {
   "cell_type": "markdown",
   "id": "e8641f10",
   "metadata": {},
   "source": [
    "### 2.1.7 数据预处理\n",
    "\n"
   ]
  },
  {
   "cell_type": "code",
   "execution_count": 21,
   "id": "b7354f6a",
   "metadata": {},
   "outputs": [],
   "source": [
    "import os\n",
    "\n",
    "os.makedirs(os.path.join('..', 'data'), exist_ok=True)\n",
    "data_file = os.path.join('..', 'data', 'house_tiny.csv')\n",
    "with open(data_file, 'w') as f:\n",
    "    f.write('NumRooms,Alley,Price\\n')\n",
    "    f.write('NA,Pave,127500\\n')\n",
    "    f.write('2,NA,106000\\n')\n",
    "    f.write('4,NA,178100\\n')\n",
    "    f.write('NA,NA,140000\\n')"
   ]
  },
  {
   "cell_type": "code",
   "execution_count": 22,
   "outputs": [
    {
     "name": "stdout",
     "output_type": "stream",
     "text": [
      "   NumRooms Alley   Price\n",
      "0       NaN  Pave  127500\n",
      "1       2.0   NaN  106000\n",
      "2       4.0   NaN  178100\n",
      "3       NaN   NaN  140000\n"
     ]
    }
   ],
   "source": [
    "import pandas as pd\n",
    "\n",
    "data = pd.read_csv(data_file)\n",
    "print(data)"
   ],
   "metadata": {
    "collapsed": false
   }
  },
  {
   "cell_type": "markdown",
   "source": [
    "### 2.2.2 处理缺失的值\n",
    "\n",
    "插值法、删除法\n"
   ],
   "metadata": {
    "collapsed": false
   }
  },
  {
   "cell_type": "code",
   "execution_count": 23,
   "outputs": [
    {
     "name": "stdout",
     "output_type": "stream",
     "text": [
      "   NumRooms Alley\n",
      "0       3.0  Pave\n",
      "1       2.0   NaN\n",
      "2       4.0   NaN\n",
      "3       3.0   NaN\n"
     ]
    }
   ],
   "source": [
    "# 插值法\n",
    "inputs, outputs = data.iloc[:, 0:2], data.iloc[:, 2]\n",
    "inputs = inputs.fillna(inputs.mean())  # 用同一列的均值填充NaN\n",
    "print(inputs)"
   ],
   "metadata": {
    "collapsed": false
   }
  },
  {
   "cell_type": "code",
   "execution_count": 24,
   "outputs": [
    {
     "name": "stdout",
     "output_type": "stream",
     "text": [
      "   NumRooms  Alley_Pave  Alley_nan\n",
      "0       3.0           1          0\n",
      "1       2.0           0          1\n",
      "2       4.0           0          1\n",
      "3       3.0           0          1\n"
     ]
    }
   ],
   "source": [
    "inputs = pd.get_dummies(inputs, dummy_na=True)\n",
    "print(inputs)"
   ],
   "metadata": {
    "collapsed": false
   }
  },
  {
   "cell_type": "markdown",
   "source": [
    "### 2.2.3 转换为张量"
   ],
   "metadata": {
    "collapsed": false
   }
  },
  {
   "cell_type": "code",
   "execution_count": 25,
   "outputs": [
    {
     "data": {
      "text/plain": "(tensor([[3., 1., 0.],\n         [2., 0., 1.],\n         [4., 0., 1.],\n         [3., 0., 1.]], dtype=torch.float64),\n tensor([127500, 106000, 178100, 140000]))"
     },
     "execution_count": 25,
     "metadata": {},
     "output_type": "execute_result"
    }
   ],
   "source": [
    "import torch\n",
    "\n",
    "X, y = torch.tensor(inputs.values), torch.tensor(outputs.values)\n",
    "X, y"
   ],
   "metadata": {
    "collapsed": false
   }
  },
  {
   "cell_type": "markdown",
   "source": [
    "## 2.3 线性代数\n",
    "\n",
    "### 2.3.1 标量\n",
    "\n",
    "仅包含一个数值被称为*标量（scalar）*。\n",
    "标量由只有一个元素的张量表示。\n",
    "\n",
    "### 2.3.2 向量\n",
    "\n",
    "向量可以被视为标量值组成的列表。\n",
    "这些标量值被称为向量的*元素（element）*或*分量（component）*。\n",
    "在数学上，具有一个轴的张量表示向量。\n",
    "\n",
    "#### 长度、维度和形状\n",
    "\n",
    "*维度（dimension）*：向量的长度。\n",
    "*形状*：一个元素组，列出了张量沿每个轴的长度（维数）。\n",
    "\n",
    "向量或轴的维度表示向量或轴的长度，即向量或轴的元素数量。\n",
    "张量的维度表示张量具有的轴数。\n",
    "张量的某个轴数，就是这个轴的长度。\n"
   ],
   "metadata": {
    "collapsed": false
   }
  },
  {
   "cell_type": "markdown",
   "source": [
    "### 2.3.3 矩阵"
   ],
   "metadata": {
    "collapsed": false
   }
  },
  {
   "cell_type": "code",
   "execution_count": 26,
   "outputs": [
    {
     "data": {
      "text/plain": "tensor([[ 0,  1,  2,  3],\n        [ 4,  5,  6,  7],\n        [ 8,  9, 10, 11],\n        [12, 13, 14, 15],\n        [16, 17, 18, 19]])"
     },
     "execution_count": 26,
     "metadata": {},
     "output_type": "execute_result"
    }
   ],
   "source": [
    "A = torch.arange(20).reshape(5, 4)\n",
    "A"
   ],
   "metadata": {
    "collapsed": false
   }
  },
  {
   "cell_type": "code",
   "execution_count": 27,
   "outputs": [
    {
     "data": {
      "text/plain": "tensor([[ 0,  4,  8, 12, 16],\n        [ 1,  5,  9, 13, 17],\n        [ 2,  6, 10, 14, 18],\n        [ 3,  7, 11, 15, 19]])"
     },
     "execution_count": 27,
     "metadata": {},
     "output_type": "execute_result"
    }
   ],
   "source": [
    "A.T  # 矩阵的转置"
   ],
   "metadata": {
    "collapsed": false
   }
  },
  {
   "cell_type": "code",
   "execution_count": 28,
   "outputs": [
    {
     "data": {
      "text/plain": "tensor([[1, 2, 3],\n        [2, 0, 4],\n        [3, 4, 5]])"
     },
     "execution_count": 28,
     "metadata": {},
     "output_type": "execute_result"
    }
   ],
   "source": [
    "B = torch.tensor([[1, 2, 3], [2, 0, 4], [3, 4, 5]])  # 对称矩阵\n",
    "B"
   ],
   "metadata": {
    "collapsed": false
   }
  },
  {
   "cell_type": "code",
   "execution_count": 29,
   "outputs": [
    {
     "data": {
      "text/plain": "tensor([[True, True, True],\n        [True, True, True],\n        [True, True, True]])"
     },
     "execution_count": 29,
     "metadata": {},
     "output_type": "execute_result"
    }
   ],
   "source": [
    "B == B.T"
   ],
   "metadata": {
    "collapsed": false
   }
  },
  {
   "cell_type": "code",
   "execution_count": 30,
   "outputs": [
    {
     "data": {
      "text/plain": "tensor([[[ 0,  1,  2,  3],\n         [ 4,  5,  6,  7],\n         [ 8,  9, 10, 11]],\n\n        [[12, 13, 14, 15],\n         [16, 17, 18, 19],\n         [20, 21, 22, 23]]])"
     },
     "execution_count": 30,
     "metadata": {},
     "output_type": "execute_result"
    }
   ],
   "source": [
    "X = torch.arange(24).reshape(2, 3, 4)\n",
    "X"
   ],
   "metadata": {
    "collapsed": false
   }
  },
  {
   "cell_type": "markdown",
   "source": [
    "### 2.3.4 张量\n",
    "\n",
    "张量是描述具有任意数量轴的n维数组的通用方法。\n"
   ],
   "metadata": {
    "collapsed": false
   }
  },
  {
   "cell_type": "markdown",
   "source": [
    "#### 2.3.5 张量算法的基本性质\n",
    "\n",
    "*哈达玛积*：两个矩阵的按元素乘法。"
   ],
   "metadata": {
    "collapsed": false
   }
  },
  {
   "cell_type": "code",
   "execution_count": 31,
   "outputs": [
    {
     "data": {
      "text/plain": "(tensor([[ 0.,  1.,  2.,  3.],\n         [ 4.,  5.,  6.,  7.],\n         [ 8.,  9., 10., 11.],\n         [12., 13., 14., 15.],\n         [16., 17., 18., 19.]]),\n tensor([[ 0.,  2.,  4.,  6.],\n         [ 8., 10., 12., 14.],\n         [16., 18., 20., 22.],\n         [24., 26., 28., 30.],\n         [32., 34., 36., 38.]]))"
     },
     "execution_count": 31,
     "metadata": {},
     "output_type": "execute_result"
    }
   ],
   "source": [
    "A = torch.arange(20, dtype=torch.float32).reshape(5, 4)\n",
    "B = A.clone()\n",
    "A, A + B"
   ],
   "metadata": {
    "collapsed": false
   }
  },
  {
   "cell_type": "code",
   "execution_count": 32,
   "outputs": [
    {
     "data": {
      "text/plain": "tensor([[  0.,   1.,   4.,   9.],\n        [ 16.,  25.,  36.,  49.],\n        [ 64.,  81., 100., 121.],\n        [144., 169., 196., 225.],\n        [256., 289., 324., 361.]])"
     },
     "execution_count": 32,
     "metadata": {},
     "output_type": "execute_result"
    }
   ],
   "source": [
    "A * B  # 哈达玛积"
   ],
   "metadata": {
    "collapsed": false
   }
  },
  {
   "cell_type": "markdown",
   "source": [
    "### 2.3.6 降维\n"
   ],
   "metadata": {
    "collapsed": false
   }
  },
  {
   "cell_type": "code",
   "execution_count": 33,
   "outputs": [
    {
     "data": {
      "text/plain": "(tensor([0., 1., 2., 3.]), tensor(6.))"
     },
     "execution_count": 33,
     "metadata": {},
     "output_type": "execute_result"
    }
   ],
   "source": [
    "x = torch.arange(4, dtype=torch.float32)\n",
    "x, x.sum()  # 计算元素的和"
   ],
   "metadata": {
    "collapsed": false
   }
  },
  {
   "cell_type": "code",
   "execution_count": 34,
   "outputs": [
    {
     "data": {
      "text/plain": "(tensor([[ 0.,  1.,  2.,  3.],\n         [ 4.,  5.,  6.,  7.],\n         [ 8.,  9., 10., 11.],\n         [12., 13., 14., 15.],\n         [16., 17., 18., 19.]]),\n torch.Size([5, 4]),\n tensor(190.))"
     },
     "execution_count": 34,
     "metadata": {},
     "output_type": "execute_result"
    }
   ],
   "source": [
    "A, A.shape, A.sum()"
   ],
   "metadata": {
    "collapsed": false
   }
  },
  {
   "cell_type": "code",
   "execution_count": 35,
   "outputs": [
    {
     "data": {
      "text/plain": "(tensor([40., 45., 50., 55.]), torch.Size([4]))"
     },
     "execution_count": 35,
     "metadata": {},
     "output_type": "execute_result"
    }
   ],
   "source": [
    "A_sum_axis0 = A.sum(axis=0)  # 对所有行元素求和\n",
    "A_sum_axis0, A_sum_axis0.shape"
   ],
   "metadata": {
    "collapsed": false
   }
  },
  {
   "cell_type": "code",
   "execution_count": 36,
   "outputs": [
    {
     "data": {
      "text/plain": "(tensor([ 6., 22., 38., 54., 70.]), torch.Size([5]))"
     },
     "execution_count": 36,
     "metadata": {},
     "output_type": "execute_result"
    }
   ],
   "source": [
    "A_sum_axis1 = A.sum(axis=1)  # 对所有列元素求和\n",
    "A_sum_axis1, A_sum_axis1.shape"
   ],
   "metadata": {
    "collapsed": false
   }
  },
  {
   "cell_type": "code",
   "execution_count": 37,
   "outputs": [
    {
     "data": {
      "text/plain": "tensor(190.)"
     },
     "execution_count": 37,
     "metadata": {},
     "output_type": "execute_result"
    }
   ],
   "source": [
    "A.sum(axis=[0, 1])"
   ],
   "metadata": {
    "collapsed": false
   }
  },
  {
   "cell_type": "code",
   "execution_count": 38,
   "outputs": [
    {
     "data": {
      "text/plain": "(tensor(9.5000), tensor(9.5000))"
     },
     "execution_count": 38,
     "metadata": {},
     "output_type": "execute_result"
    }
   ],
   "source": [
    "A.mean(), A.sum() / A.numel()"
   ],
   "metadata": {
    "collapsed": false
   }
  },
  {
   "cell_type": "markdown",
   "source": [
    "#### 非降维求和"
   ],
   "metadata": {
    "collapsed": false
   }
  },
  {
   "cell_type": "code",
   "execution_count": 39,
   "outputs": [
    {
     "data": {
      "text/plain": "(tensor([[ 0.,  1.,  2.,  3.],\n         [ 4.,  5.,  6.,  7.],\n         [ 8.,  9., 10., 11.],\n         [12., 13., 14., 15.],\n         [16., 17., 18., 19.]]),\n tensor([[ 6.],\n         [22.],\n         [38.],\n         [54.],\n         [70.]]))"
     },
     "execution_count": 39,
     "metadata": {},
     "output_type": "execute_result"
    }
   ],
   "source": [
    "sum_A = A.sum(axis=1, keepdim=True)\n",
    "A, sum_A"
   ],
   "metadata": {
    "collapsed": false
   }
  },
  {
   "cell_type": "code",
   "execution_count": 40,
   "outputs": [
    {
     "data": {
      "text/plain": "tensor([[0.0000, 0.1667, 0.3333, 0.5000],\n        [0.1818, 0.2273, 0.2727, 0.3182],\n        [0.2105, 0.2368, 0.2632, 0.2895],\n        [0.2222, 0.2407, 0.2593, 0.2778],\n        [0.2286, 0.2429, 0.2571, 0.2714]])"
     },
     "execution_count": 40,
     "metadata": {},
     "output_type": "execute_result"
    }
   ],
   "source": [
    "A / sum_A"
   ],
   "metadata": {
    "collapsed": false
   }
  },
  {
   "cell_type": "code",
   "execution_count": 41,
   "outputs": [
    {
     "data": {
      "text/plain": "tensor([[ 0.,  1.,  2.,  3.],\n        [ 4.,  6.,  8., 10.],\n        [12., 15., 18., 21.],\n        [24., 28., 32., 36.],\n        [40., 45., 50., 55.]])"
     },
     "execution_count": 41,
     "metadata": {},
     "output_type": "execute_result"
    }
   ],
   "source": [
    "A.cumsum(axis=0)"
   ],
   "metadata": {
    "collapsed": false
   }
  },
  {
   "cell_type": "markdown",
   "source": [
    "### 2.3.7 点积\n",
    "\n",
    "向量x,y的点积为x.Ty（<x,y>）"
   ],
   "metadata": {
    "collapsed": false
   }
  },
  {
   "cell_type": "code",
   "execution_count": 42,
   "outputs": [
    {
     "data": {
      "text/plain": "(tensor([0., 1., 2., 3.]), tensor([1., 1., 1., 1.]), tensor(6.))"
     },
     "execution_count": 42,
     "metadata": {},
     "output_type": "execute_result"
    }
   ],
   "source": [
    "y = torch.ones(4, dtype=torch.float32)\n",
    "x, y, torch.dot(x, y)\n"
   ],
   "metadata": {
    "collapsed": false
   }
  },
  {
   "cell_type": "markdown",
   "source": [
    "### 2.3.8 矩阵-向量积\n",
    "\n"
   ],
   "metadata": {
    "collapsed": false
   }
  },
  {
   "cell_type": "code",
   "execution_count": 43,
   "outputs": [
    {
     "data": {
      "text/plain": "(torch.Size([5, 4]), torch.Size([4]), tensor([ 14.,  38.,  62.,  86., 110.]))"
     },
     "execution_count": 43,
     "metadata": {},
     "output_type": "execute_result"
    }
   ],
   "source": [
    "A.shape, x.shape, torch.mv(A, x)"
   ],
   "metadata": {
    "collapsed": false
   }
  },
  {
   "cell_type": "markdown",
   "source": [
    "### 2.3.9 矩阵-矩阵乘法\n"
   ],
   "metadata": {
    "collapsed": false
   }
  },
  {
   "cell_type": "code",
   "execution_count": 44,
   "outputs": [
    {
     "data": {
      "text/plain": "(tensor([[ 0.,  1.,  2.,  3.],\n         [ 4.,  5.,  6.,  7.],\n         [ 8.,  9., 10., 11.],\n         [12., 13., 14., 15.],\n         [16., 17., 18., 19.]]),\n tensor([[1., 1., 1.],\n         [1., 1., 1.],\n         [1., 1., 1.],\n         [1., 1., 1.]]),\n tensor([[ 6.,  6.,  6.],\n         [22., 22., 22.],\n         [38., 38., 38.],\n         [54., 54., 54.],\n         [70., 70., 70.]]))"
     },
     "execution_count": 44,
     "metadata": {},
     "output_type": "execute_result"
    }
   ],
   "source": [
    "B = torch.ones(4, 3)\n",
    "A, B, torch.mm(A, B)"
   ],
   "metadata": {
    "collapsed": false
   }
  },
  {
   "cell_type": "markdown",
   "source": [
    "### 2.3.10 范数\n",
    "\n",
    "向量的*范数*表示一个向量的有多大。\n",
    "\n",
    "L1范数：向量元素的绝对值之和。\n",
    "L2范数：向量元素平方和的平方根。\n",
    "\n",
    "#### 范数和目标\n",
    "\n",
    "在深度学习中，解决最优化问题：*最大化*分配给观测数据的概率；最小化预测值和真实观测值之间的距离。\n",
    "在线性代数中，向量范数是将向量映射到标量的函数。\n"
   ],
   "metadata": {
    "collapsed": false
   }
  },
  {
   "cell_type": "code",
   "execution_count": 45,
   "outputs": [
    {
     "data": {
      "text/plain": "tensor(5.)"
     },
     "execution_count": 45,
     "metadata": {},
     "output_type": "execute_result"
    }
   ],
   "source": [
    "u = torch.tensor([3.0, -4.0])\n",
    "torch.norm(u)  # L2范数"
   ],
   "metadata": {
    "collapsed": false
   }
  },
  {
   "cell_type": "code",
   "execution_count": 46,
   "outputs": [
    {
     "data": {
      "text/plain": "tensor(7.)"
     },
     "execution_count": 46,
     "metadata": {},
     "output_type": "execute_result"
    }
   ],
   "source": [
    "torch.abs(u).sum()  # L1范数"
   ],
   "metadata": {
    "collapsed": false
   }
  },
  {
   "cell_type": "markdown",
   "source": [
    "## 2.4 微积分\n",
    "\n",
    "逼近法是积分的起源。\n",
    "微分中最重要的应用是优化问题。\n",
    "\n",
    "最小化一个损失函数。\n",
    "\n",
    "可以将拟合模型任务分解为两个关键问题：\n",
    "* 优化：用模型拟合观察数据的过程。\n",
    "* 泛化：\n",
    "\n",
    "### 2.4.1 导数和微分\n",
    "\n"
   ],
   "metadata": {
    "collapsed": false
   }
  },
  {
   "cell_type": "code",
   "execution_count": 47,
   "outputs": [
    {
     "name": "stdout",
     "output_type": "stream",
     "text": [
      "h=0.10000, numerial lim=2.30000\n",
      "h=0.01000, numerial lim=2.03000\n",
      "h=0.00100, numerial lim=2.00300\n",
      "h=0.00010, numerial lim=2.00030\n",
      "h=0.00001, numerial lim=2.00003\n"
     ]
    }
   ],
   "source": [
    "%matplotlib inline\n",
    "import numpy as np\n",
    "from matplotlib_inline import backend_inline\n",
    "from d2l import torch as d2l\n",
    "\n",
    "\n",
    "def f(x):\n",
    "    return 3 * x ** 2 - 4 * x\n",
    "\n",
    "\n",
    "def numerial_lim(f, x, h):\n",
    "    return (f(x + h) - f(x)) / h\n",
    "\n",
    "\n",
    "h = 0.1\n",
    "for i in range(5):\n",
    "    print(f'h={h:.5f}, numerial lim={numerial_lim(f, 1, h):.5f}')\n",
    "    h *= 0.1"
   ],
   "metadata": {
    "collapsed": false
   }
  },
  {
   "cell_type": "code",
   "execution_count": 48,
   "outputs": [],
   "source": [
    "def use_svg_display():  #@save\n",
    "    \"\"\"使用svg格式在Jupyter中显示绘图\"\"\"\n",
    "    backend_inline.set_matplotlib_formats('svg')\n",
    "\n",
    "\n",
    "def set_figsize(figsize=(3.5, 2.5)):  #@save\n",
    "    \"\"\"设置matplotlib的图表大小\"\"\"\n",
    "    use_svg_display()\n",
    "    d2l.plt.rcParams['figure.figsize'] = figsize\n",
    "\n",
    "\n",
    "#@save\n",
    "def set_axes(axes, xlabel, ylabel, xlim, ylim, xscale, yscale, legend):\n",
    "    \"\"\"设置matplotlib的轴\"\"\"\n",
    "    axes.set_xlabel(xlabel)\n",
    "    axes.set_ylabel(ylabel)\n",
    "    axes.set_xscale(xscale)\n",
    "    axes.set_yscale(yscale)\n",
    "    axes.set_xlim(xlim)\n",
    "    axes.set_ylim(ylim)\n",
    "    if legend:\n",
    "        axes.legend(legend)\n",
    "    axes.grid()\n",
    "\n",
    "\n",
    "#@save\n",
    "def plot(X, Y=None, xlabel=None, ylabel=None, legend=None,\n",
    "         xlim=None, ylim=None, xscale='linear', yscale='linear',\n",
    "         fmts=('-', 'm--', 'g-', 'r:'), figsize=(3.5, 2.5), axes=None):\n",
    "    \"\"\"绘制数据点\"\"\"\n",
    "\n",
    "    if legend is None:\n",
    "        legend = []\n",
    "\n",
    "    set_figsize(figsize)\n",
    "    axes = axes if axes else d2l.plt.gca()\n",
    "\n",
    "    # 如果X有一个轴，输出True\n",
    "    def has_one_axes(X):\n",
    "        return (hasattr(X, \"ndim\") and X.ndim == 1 or isinstance(X, list)\n",
    "                and not hasattr(X[0], \"__len__\"))\n",
    "\n",
    "    if has_one_axes(X):\n",
    "        X = [X]\n",
    "    if Y is None:\n",
    "        X, Y = [[]] * len(X) * X\n",
    "    elif has_one_axes(Y):\n",
    "        Y = [Y]\n",
    "    if len(X) != len(Y):\n",
    "        X = X * len(Y)\n",
    "    axes.cla()\n",
    "    for x, y, fmt in zip(X, Y, fmts):\n",
    "        if len(x):\n",
    "            axes.plot(x, y, fmt)\n",
    "        else:\n",
    "            axes.plot(y, fmt)\n",
    "    set_axes(axes, xlabel, ylabel, xlim, ylim, xscale, yscale, legend)\n"
   ],
   "metadata": {
    "collapsed": false
   }
  },
  {
   "cell_type": "code",
   "execution_count": 49,
   "outputs": [
    {
     "data": {
      "text/plain": "<Figure size 350x250 with 1 Axes>",
      "image/svg+xml": "<?xml version=\"1.0\" encoding=\"utf-8\" standalone=\"no\"?>\n<!DOCTYPE svg PUBLIC \"-//W3C//DTD SVG 1.1//EN\"\n  \"http://www.w3.org/Graphics/SVG/1.1/DTD/svg11.dtd\">\n<svg xmlns:xlink=\"http://www.w3.org/1999/xlink\" width=\"243.529359pt\" height=\"183.35625pt\" viewBox=\"0 0 243.529359 183.35625\" xmlns=\"http://www.w3.org/2000/svg\" version=\"1.1\">\n <metadata>\n  <rdf:RDF xmlns:dc=\"http://purl.org/dc/elements/1.1/\" xmlns:cc=\"http://creativecommons.org/ns#\" xmlns:rdf=\"http://www.w3.org/1999/02/22-rdf-syntax-ns#\">\n   <cc:Work>\n    <dc:type rdf:resource=\"http://purl.org/dc/dcmitype/StillImage\"/>\n    <dc:date>2023-02-28T21:37:55.825916</dc:date>\n    <dc:format>image/svg+xml</dc:format>\n    <dc:creator>\n     <cc:Agent>\n      <dc:title>Matplotlib v3.5.1, https://matplotlib.org/</dc:title>\n     </cc:Agent>\n    </dc:creator>\n   </cc:Work>\n  </rdf:RDF>\n </metadata>\n <defs>\n  <style type=\"text/css\">*{stroke-linejoin: round; stroke-linecap: butt}</style>\n </defs>\n <g id=\"figure_1\">\n  <g id=\"patch_1\">\n   <path d=\"M 0 183.35625 \nL 243.529359 183.35625 \nL 243.529359 0 \nL 0 0 \nz\n\" style=\"fill: #ffffff\"/>\n  </g>\n  <g id=\"axes_1\">\n   <g id=\"patch_2\">\n    <path d=\"M 40.603125 145.8 \nL 235.903125 145.8 \nL 235.903125 7.2 \nL 40.603125 7.2 \nz\n\" style=\"fill: #ffffff\"/>\n   </g>\n   <g id=\"matplotlib.axis_1\">\n    <g id=\"xtick_1\">\n     <g id=\"line2d_1\">\n      <path d=\"M 49.480398 145.8 \nL 49.480398 7.2 \n\" clip-path=\"url(#pb7777ea62c)\" style=\"fill: none; stroke: #b0b0b0; stroke-width: 0.8; stroke-linecap: square\"/>\n     </g>\n     <g id=\"line2d_2\">\n      <defs>\n       <path id=\"m01df533b71\" d=\"M 0 0 \nL 0 3.5 \n\" style=\"stroke: #000000; stroke-width: 0.8\"/>\n      </defs>\n      <g>\n       <use xlink:href=\"#m01df533b71\" x=\"49.480398\" y=\"145.8\" style=\"stroke: #000000; stroke-width: 0.8\"/>\n      </g>\n     </g>\n     <g id=\"text_1\">\n      <!-- 0 -->\n      <g transform=\"translate(46.299148 160.398438)scale(0.1 -0.1)\">\n       <defs>\n        <path id=\"DejaVuSans-30\" d=\"M 2034 4250 \nQ 1547 4250 1301 3770 \nQ 1056 3291 1056 2328 \nQ 1056 1369 1301 889 \nQ 1547 409 2034 409 \nQ 2525 409 2770 889 \nQ 3016 1369 3016 2328 \nQ 3016 3291 2770 3770 \nQ 2525 4250 2034 4250 \nz\nM 2034 4750 \nQ 2819 4750 3233 4129 \nQ 3647 3509 3647 2328 \nQ 3647 1150 3233 529 \nQ 2819 -91 2034 -91 \nQ 1250 -91 836 529 \nQ 422 1150 422 2328 \nQ 422 3509 836 4129 \nQ 1250 4750 2034 4750 \nz\n\" transform=\"scale(0.015625)\"/>\n       </defs>\n       <use xlink:href=\"#DejaVuSans-30\"/>\n      </g>\n     </g>\n    </g>\n    <g id=\"xtick_2\">\n     <g id=\"line2d_3\">\n      <path d=\"M 110.702968 145.8 \nL 110.702968 7.2 \n\" clip-path=\"url(#pb7777ea62c)\" style=\"fill: none; stroke: #b0b0b0; stroke-width: 0.8; stroke-linecap: square\"/>\n     </g>\n     <g id=\"line2d_4\">\n      <g>\n       <use xlink:href=\"#m01df533b71\" x=\"110.702968\" y=\"145.8\" style=\"stroke: #000000; stroke-width: 0.8\"/>\n      </g>\n     </g>\n     <g id=\"text_2\">\n      <!-- 1 -->\n      <g transform=\"translate(107.521718 160.398438)scale(0.1 -0.1)\">\n       <defs>\n        <path id=\"DejaVuSans-31\" d=\"M 794 531 \nL 1825 531 \nL 1825 4091 \nL 703 3866 \nL 703 4441 \nL 1819 4666 \nL 2450 4666 \nL 2450 531 \nL 3481 531 \nL 3481 0 \nL 794 0 \nL 794 531 \nz\n\" transform=\"scale(0.015625)\"/>\n       </defs>\n       <use xlink:href=\"#DejaVuSans-31\"/>\n      </g>\n     </g>\n    </g>\n    <g id=\"xtick_3\">\n     <g id=\"line2d_5\">\n      <path d=\"M 171.925539 145.8 \nL 171.925539 7.2 \n\" clip-path=\"url(#pb7777ea62c)\" style=\"fill: none; stroke: #b0b0b0; stroke-width: 0.8; stroke-linecap: square\"/>\n     </g>\n     <g id=\"line2d_6\">\n      <g>\n       <use xlink:href=\"#m01df533b71\" x=\"171.925539\" y=\"145.8\" style=\"stroke: #000000; stroke-width: 0.8\"/>\n      </g>\n     </g>\n     <g id=\"text_3\">\n      <!-- 2 -->\n      <g transform=\"translate(168.744289 160.398438)scale(0.1 -0.1)\">\n       <defs>\n        <path id=\"DejaVuSans-32\" d=\"M 1228 531 \nL 3431 531 \nL 3431 0 \nL 469 0 \nL 469 531 \nQ 828 903 1448 1529 \nQ 2069 2156 2228 2338 \nQ 2531 2678 2651 2914 \nQ 2772 3150 2772 3378 \nQ 2772 3750 2511 3984 \nQ 2250 4219 1831 4219 \nQ 1534 4219 1204 4116 \nQ 875 4013 500 3803 \nL 500 4441 \nQ 881 4594 1212 4672 \nQ 1544 4750 1819 4750 \nQ 2544 4750 2975 4387 \nQ 3406 4025 3406 3419 \nQ 3406 3131 3298 2873 \nQ 3191 2616 2906 2266 \nQ 2828 2175 2409 1742 \nQ 1991 1309 1228 531 \nz\n\" transform=\"scale(0.015625)\"/>\n       </defs>\n       <use xlink:href=\"#DejaVuSans-32\"/>\n      </g>\n     </g>\n    </g>\n    <g id=\"xtick_4\">\n     <g id=\"line2d_7\">\n      <path d=\"M 233.148109 145.8 \nL 233.148109 7.2 \n\" clip-path=\"url(#pb7777ea62c)\" style=\"fill: none; stroke: #b0b0b0; stroke-width: 0.8; stroke-linecap: square\"/>\n     </g>\n     <g id=\"line2d_8\">\n      <g>\n       <use xlink:href=\"#m01df533b71\" x=\"233.148109\" y=\"145.8\" style=\"stroke: #000000; stroke-width: 0.8\"/>\n      </g>\n     </g>\n     <g id=\"text_4\">\n      <!-- 3 -->\n      <g transform=\"translate(229.966859 160.398438)scale(0.1 -0.1)\">\n       <defs>\n        <path id=\"DejaVuSans-33\" d=\"M 2597 2516 \nQ 3050 2419 3304 2112 \nQ 3559 1806 3559 1356 \nQ 3559 666 3084 287 \nQ 2609 -91 1734 -91 \nQ 1441 -91 1130 -33 \nQ 819 25 488 141 \nL 488 750 \nQ 750 597 1062 519 \nQ 1375 441 1716 441 \nQ 2309 441 2620 675 \nQ 2931 909 2931 1356 \nQ 2931 1769 2642 2001 \nQ 2353 2234 1838 2234 \nL 1294 2234 \nL 1294 2753 \nL 1863 2753 \nQ 2328 2753 2575 2939 \nQ 2822 3125 2822 3475 \nQ 2822 3834 2567 4026 \nQ 2313 4219 1838 4219 \nQ 1578 4219 1281 4162 \nQ 984 4106 628 3988 \nL 628 4550 \nQ 988 4650 1302 4700 \nQ 1616 4750 1894 4750 \nQ 2613 4750 3031 4423 \nQ 3450 4097 3450 3541 \nQ 3450 3153 3228 2886 \nQ 3006 2619 2597 2516 \nz\n\" transform=\"scale(0.015625)\"/>\n       </defs>\n       <use xlink:href=\"#DejaVuSans-33\"/>\n      </g>\n     </g>\n    </g>\n    <g id=\"text_5\">\n     <!-- x -->\n     <g transform=\"translate(135.29375 174.076563)scale(0.1 -0.1)\">\n      <defs>\n       <path id=\"DejaVuSans-78\" d=\"M 3513 3500 \nL 2247 1797 \nL 3578 0 \nL 2900 0 \nL 1881 1375 \nL 863 0 \nL 184 0 \nL 1544 1831 \nL 300 3500 \nL 978 3500 \nL 1906 2253 \nL 2834 3500 \nL 3513 3500 \nz\n\" transform=\"scale(0.015625)\"/>\n      </defs>\n      <use xlink:href=\"#DejaVuSans-78\"/>\n     </g>\n    </g>\n   </g>\n   <g id=\"matplotlib.axis_2\">\n    <g id=\"ytick_1\">\n     <g id=\"line2d_9\">\n      <path d=\"M 40.603125 116.769994 \nL 235.903125 116.769994 \n\" clip-path=\"url(#pb7777ea62c)\" style=\"fill: none; stroke: #b0b0b0; stroke-width: 0.8; stroke-linecap: square\"/>\n     </g>\n     <g id=\"line2d_10\">\n      <defs>\n       <path id=\"mea83e06169\" d=\"M 0 0 \nL -3.5 0 \n\" style=\"stroke: #000000; stroke-width: 0.8\"/>\n      </defs>\n      <g>\n       <use xlink:href=\"#mea83e06169\" x=\"40.603125\" y=\"116.769994\" style=\"stroke: #000000; stroke-width: 0.8\"/>\n      </g>\n     </g>\n     <g id=\"text_6\">\n      <!-- 0 -->\n      <g transform=\"translate(27.240625 120.569213)scale(0.1 -0.1)\">\n       <use xlink:href=\"#DejaVuSans-30\"/>\n      </g>\n     </g>\n    </g>\n    <g id=\"ytick_2\">\n     <g id=\"line2d_11\">\n      <path d=\"M 40.603125 78.886651 \nL 235.903125 78.886651 \n\" clip-path=\"url(#pb7777ea62c)\" style=\"fill: none; stroke: #b0b0b0; stroke-width: 0.8; stroke-linecap: square\"/>\n     </g>\n     <g id=\"line2d_12\">\n      <g>\n       <use xlink:href=\"#mea83e06169\" x=\"40.603125\" y=\"78.886651\" style=\"stroke: #000000; stroke-width: 0.8\"/>\n      </g>\n     </g>\n     <g id=\"text_7\">\n      <!-- 5 -->\n      <g transform=\"translate(27.240625 82.685869)scale(0.1 -0.1)\">\n       <defs>\n        <path id=\"DejaVuSans-35\" d=\"M 691 4666 \nL 3169 4666 \nL 3169 4134 \nL 1269 4134 \nL 1269 2991 \nQ 1406 3038 1543 3061 \nQ 1681 3084 1819 3084 \nQ 2600 3084 3056 2656 \nQ 3513 2228 3513 1497 \nQ 3513 744 3044 326 \nQ 2575 -91 1722 -91 \nQ 1428 -91 1123 -41 \nQ 819 9 494 109 \nL 494 744 \nQ 775 591 1075 516 \nQ 1375 441 1709 441 \nQ 2250 441 2565 725 \nQ 2881 1009 2881 1497 \nQ 2881 1984 2565 2268 \nQ 2250 2553 1709 2553 \nQ 1456 2553 1204 2497 \nQ 953 2441 691 2322 \nL 691 4666 \nz\n\" transform=\"scale(0.015625)\"/>\n       </defs>\n       <use xlink:href=\"#DejaVuSans-35\"/>\n      </g>\n     </g>\n    </g>\n    <g id=\"ytick_3\">\n     <g id=\"line2d_13\">\n      <path d=\"M 40.603125 41.003307 \nL 235.903125 41.003307 \n\" clip-path=\"url(#pb7777ea62c)\" style=\"fill: none; stroke: #b0b0b0; stroke-width: 0.8; stroke-linecap: square\"/>\n     </g>\n     <g id=\"line2d_14\">\n      <g>\n       <use xlink:href=\"#mea83e06169\" x=\"40.603125\" y=\"41.003307\" style=\"stroke: #000000; stroke-width: 0.8\"/>\n      </g>\n     </g>\n     <g id=\"text_8\">\n      <!-- 10 -->\n      <g transform=\"translate(20.878125 44.802526)scale(0.1 -0.1)\">\n       <use xlink:href=\"#DejaVuSans-31\"/>\n       <use xlink:href=\"#DejaVuSans-30\" x=\"63.623047\"/>\n      </g>\n     </g>\n    </g>\n    <g id=\"text_9\">\n     <!-- f(x) -->\n     <g transform=\"translate(14.798437 85.121094)rotate(-90)scale(0.1 -0.1)\">\n      <defs>\n       <path id=\"DejaVuSans-66\" d=\"M 2375 4863 \nL 2375 4384 \nL 1825 4384 \nQ 1516 4384 1395 4259 \nQ 1275 4134 1275 3809 \nL 1275 3500 \nL 2222 3500 \nL 2222 3053 \nL 1275 3053 \nL 1275 0 \nL 697 0 \nL 697 3053 \nL 147 3053 \nL 147 3500 \nL 697 3500 \nL 697 3744 \nQ 697 4328 969 4595 \nQ 1241 4863 1831 4863 \nL 2375 4863 \nz\n\" transform=\"scale(0.015625)\"/>\n       <path id=\"DejaVuSans-28\" d=\"M 1984 4856 \nQ 1566 4138 1362 3434 \nQ 1159 2731 1159 2009 \nQ 1159 1288 1364 580 \nQ 1569 -128 1984 -844 \nL 1484 -844 \nQ 1016 -109 783 600 \nQ 550 1309 550 2009 \nQ 550 2706 781 3412 \nQ 1013 4119 1484 4856 \nL 1984 4856 \nz\n\" transform=\"scale(0.015625)\"/>\n       <path id=\"DejaVuSans-29\" d=\"M 513 4856 \nL 1013 4856 \nQ 1481 4119 1714 3412 \nQ 1947 2706 1947 2009 \nQ 1947 1309 1714 600 \nQ 1481 -109 1013 -844 \nL 513 -844 \nQ 928 -128 1133 580 \nQ 1338 1288 1338 2009 \nQ 1338 2731 1133 3434 \nQ 928 4138 513 4856 \nz\n\" transform=\"scale(0.015625)\"/>\n      </defs>\n      <use xlink:href=\"#DejaVuSans-66\"/>\n      <use xlink:href=\"#DejaVuSans-28\" x=\"35.205078\"/>\n      <use xlink:href=\"#DejaVuSans-78\" x=\"74.21875\"/>\n      <use xlink:href=\"#DejaVuSans-29\" x=\"133.398438\"/>\n     </g>\n    </g>\n   </g>\n   <g id=\"line2d_15\">\n    <path d=\"M 49.480398 116.769994 \nL 55.602655 119.573361 \nL 61.724912 121.922129 \nL 67.847169 123.816296 \nL 73.969426 125.255863 \nL 80.091683 126.24083 \nL 86.21394 126.771197 \nL 92.336197 126.846963 \nL 98.458454 126.46813 \nL 104.580711 125.634696 \nL 110.702968 124.346663 \nL 116.825225 122.604029 \nL 122.947482 120.406795 \nL 129.069739 117.754961 \nL 135.191996 114.648527 \nL 141.314254 111.087492 \nL 147.436511 107.071858 \nL 153.558768 102.601624 \nL 159.681025 97.676789 \nL 165.803282 92.297354 \nL 171.925539 86.463319 \nL 178.047796 80.174684 \nL 184.170053 73.431449 \nL 190.29231 66.233614 \nL 196.414567 58.581179 \nL 202.536824 50.474143 \nL 208.659081 41.912508 \nL 214.781338 32.896272 \nL 220.903595 23.425436 \nL 227.025852 13.5 \n\" clip-path=\"url(#pb7777ea62c)\" style=\"fill: none; stroke: #1f77b4; stroke-width: 1.5; stroke-linecap: square\"/>\n   </g>\n   <g id=\"line2d_16\">\n    <path d=\"M 49.480398 139.5 \nL 55.602655 137.984666 \nL 61.724912 136.469333 \nL 67.847169 134.953999 \nL 73.969426 133.438665 \nL 80.091683 131.923331 \nL 86.21394 130.407998 \nL 92.336197 128.892664 \nL 98.458454 127.37733 \nL 104.580711 125.861996 \nL 110.702968 124.346663 \nL 116.825225 122.831329 \nL 122.947482 121.315995 \nL 129.069739 119.800661 \nL 135.191996 118.285328 \nL 141.314254 116.769994 \nL 147.436511 115.25466 \nL 153.558768 113.739327 \nL 159.681025 112.223993 \nL 165.803282 110.708659 \nL 171.925539 109.193325 \nL 178.047796 107.677992 \nL 184.170053 106.162658 \nL 190.29231 104.647324 \nL 196.414567 103.13199 \nL 202.536824 101.616657 \nL 208.659081 100.101323 \nL 214.781338 98.585989 \nL 220.903595 97.070655 \nL 227.025852 95.555322 \n\" clip-path=\"url(#pb7777ea62c)\" style=\"fill: none; stroke-dasharray: 5.55,2.4; stroke-dashoffset: 0; stroke: #bf00bf; stroke-width: 1.5\"/>\n   </g>\n   <g id=\"patch_3\">\n    <path d=\"M 40.603125 145.8 \nL 40.603125 7.2 \n\" style=\"fill: none; stroke: #000000; stroke-width: 0.8; stroke-linejoin: miter; stroke-linecap: square\"/>\n   </g>\n   <g id=\"patch_4\">\n    <path d=\"M 235.903125 145.8 \nL 235.903125 7.2 \n\" style=\"fill: none; stroke: #000000; stroke-width: 0.8; stroke-linejoin: miter; stroke-linecap: square\"/>\n   </g>\n   <g id=\"patch_5\">\n    <path d=\"M 40.603125 145.8 \nL 235.903125 145.8 \n\" style=\"fill: none; stroke: #000000; stroke-width: 0.8; stroke-linejoin: miter; stroke-linecap: square\"/>\n   </g>\n   <g id=\"patch_6\">\n    <path d=\"M 40.603125 7.2 \nL 235.903125 7.2 \n\" style=\"fill: none; stroke: #000000; stroke-width: 0.8; stroke-linejoin: miter; stroke-linecap: square\"/>\n   </g>\n   <g id=\"legend_1\">\n    <g id=\"patch_7\">\n     <path d=\"M 47.603125 44.55625 \nL 169.751563 44.55625 \nQ 171.751563 44.55625 171.751563 42.55625 \nL 171.751563 14.2 \nQ 171.751563 12.2 169.751563 12.2 \nL 47.603125 12.2 \nQ 45.603125 12.2 45.603125 14.2 \nL 45.603125 42.55625 \nQ 45.603125 44.55625 47.603125 44.55625 \nz\n\" style=\"fill: #ffffff; opacity: 0.8; stroke: #cccccc; stroke-linejoin: miter\"/>\n    </g>\n    <g id=\"line2d_17\">\n     <path d=\"M 49.603125 20.298438 \nL 59.603125 20.298438 \nL 69.603125 20.298438 \n\" style=\"fill: none; stroke: #1f77b4; stroke-width: 1.5; stroke-linecap: square\"/>\n    </g>\n    <g id=\"text_10\">\n     <!-- f(x) -->\n     <g transform=\"translate(77.603125 23.798438)scale(0.1 -0.1)\">\n      <use xlink:href=\"#DejaVuSans-66\"/>\n      <use xlink:href=\"#DejaVuSans-28\" x=\"35.205078\"/>\n      <use xlink:href=\"#DejaVuSans-78\" x=\"74.21875\"/>\n      <use xlink:href=\"#DejaVuSans-29\" x=\"133.398438\"/>\n     </g>\n    </g>\n    <g id=\"line2d_18\">\n     <path d=\"M 49.603125 34.976562 \nL 59.603125 34.976562 \nL 69.603125 34.976562 \n\" style=\"fill: none; stroke-dasharray: 5.55,2.4; stroke-dashoffset: 0; stroke: #bf00bf; stroke-width: 1.5\"/>\n    </g>\n    <g id=\"text_11\">\n     <!-- Targent line (x=1) -->\n     <g transform=\"translate(77.603125 38.476562)scale(0.1 -0.1)\">\n      <defs>\n       <path id=\"DejaVuSans-54\" d=\"M -19 4666 \nL 3928 4666 \nL 3928 4134 \nL 2272 4134 \nL 2272 0 \nL 1638 0 \nL 1638 4134 \nL -19 4134 \nL -19 4666 \nz\n\" transform=\"scale(0.015625)\"/>\n       <path id=\"DejaVuSans-61\" d=\"M 2194 1759 \nQ 1497 1759 1228 1600 \nQ 959 1441 959 1056 \nQ 959 750 1161 570 \nQ 1363 391 1709 391 \nQ 2188 391 2477 730 \nQ 2766 1069 2766 1631 \nL 2766 1759 \nL 2194 1759 \nz\nM 3341 1997 \nL 3341 0 \nL 2766 0 \nL 2766 531 \nQ 2569 213 2275 61 \nQ 1981 -91 1556 -91 \nQ 1019 -91 701 211 \nQ 384 513 384 1019 \nQ 384 1609 779 1909 \nQ 1175 2209 1959 2209 \nL 2766 2209 \nL 2766 2266 \nQ 2766 2663 2505 2880 \nQ 2244 3097 1772 3097 \nQ 1472 3097 1187 3025 \nQ 903 2953 641 2809 \nL 641 3341 \nQ 956 3463 1253 3523 \nQ 1550 3584 1831 3584 \nQ 2591 3584 2966 3190 \nQ 3341 2797 3341 1997 \nz\n\" transform=\"scale(0.015625)\"/>\n       <path id=\"DejaVuSans-72\" d=\"M 2631 2963 \nQ 2534 3019 2420 3045 \nQ 2306 3072 2169 3072 \nQ 1681 3072 1420 2755 \nQ 1159 2438 1159 1844 \nL 1159 0 \nL 581 0 \nL 581 3500 \nL 1159 3500 \nL 1159 2956 \nQ 1341 3275 1631 3429 \nQ 1922 3584 2338 3584 \nQ 2397 3584 2469 3576 \nQ 2541 3569 2628 3553 \nL 2631 2963 \nz\n\" transform=\"scale(0.015625)\"/>\n       <path id=\"DejaVuSans-67\" d=\"M 2906 1791 \nQ 2906 2416 2648 2759 \nQ 2391 3103 1925 3103 \nQ 1463 3103 1205 2759 \nQ 947 2416 947 1791 \nQ 947 1169 1205 825 \nQ 1463 481 1925 481 \nQ 2391 481 2648 825 \nQ 2906 1169 2906 1791 \nz\nM 3481 434 \nQ 3481 -459 3084 -895 \nQ 2688 -1331 1869 -1331 \nQ 1566 -1331 1297 -1286 \nQ 1028 -1241 775 -1147 \nL 775 -588 \nQ 1028 -725 1275 -790 \nQ 1522 -856 1778 -856 \nQ 2344 -856 2625 -561 \nQ 2906 -266 2906 331 \nL 2906 616 \nQ 2728 306 2450 153 \nQ 2172 0 1784 0 \nQ 1141 0 747 490 \nQ 353 981 353 1791 \nQ 353 2603 747 3093 \nQ 1141 3584 1784 3584 \nQ 2172 3584 2450 3431 \nQ 2728 3278 2906 2969 \nL 2906 3500 \nL 3481 3500 \nL 3481 434 \nz\n\" transform=\"scale(0.015625)\"/>\n       <path id=\"DejaVuSans-65\" d=\"M 3597 1894 \nL 3597 1613 \nL 953 1613 \nQ 991 1019 1311 708 \nQ 1631 397 2203 397 \nQ 2534 397 2845 478 \nQ 3156 559 3463 722 \nL 3463 178 \nQ 3153 47 2828 -22 \nQ 2503 -91 2169 -91 \nQ 1331 -91 842 396 \nQ 353 884 353 1716 \nQ 353 2575 817 3079 \nQ 1281 3584 2069 3584 \nQ 2775 3584 3186 3129 \nQ 3597 2675 3597 1894 \nz\nM 3022 2063 \nQ 3016 2534 2758 2815 \nQ 2500 3097 2075 3097 \nQ 1594 3097 1305 2825 \nQ 1016 2553 972 2059 \nL 3022 2063 \nz\n\" transform=\"scale(0.015625)\"/>\n       <path id=\"DejaVuSans-6e\" d=\"M 3513 2113 \nL 3513 0 \nL 2938 0 \nL 2938 2094 \nQ 2938 2591 2744 2837 \nQ 2550 3084 2163 3084 \nQ 1697 3084 1428 2787 \nQ 1159 2491 1159 1978 \nL 1159 0 \nL 581 0 \nL 581 3500 \nL 1159 3500 \nL 1159 2956 \nQ 1366 3272 1645 3428 \nQ 1925 3584 2291 3584 \nQ 2894 3584 3203 3211 \nQ 3513 2838 3513 2113 \nz\n\" transform=\"scale(0.015625)\"/>\n       <path id=\"DejaVuSans-74\" d=\"M 1172 4494 \nL 1172 3500 \nL 2356 3500 \nL 2356 3053 \nL 1172 3053 \nL 1172 1153 \nQ 1172 725 1289 603 \nQ 1406 481 1766 481 \nL 2356 481 \nL 2356 0 \nL 1766 0 \nQ 1100 0 847 248 \nQ 594 497 594 1153 \nL 594 3053 \nL 172 3053 \nL 172 3500 \nL 594 3500 \nL 594 4494 \nL 1172 4494 \nz\n\" transform=\"scale(0.015625)\"/>\n       <path id=\"DejaVuSans-20\" transform=\"scale(0.015625)\"/>\n       <path id=\"DejaVuSans-6c\" d=\"M 603 4863 \nL 1178 4863 \nL 1178 0 \nL 603 0 \nL 603 4863 \nz\n\" transform=\"scale(0.015625)\"/>\n       <path id=\"DejaVuSans-69\" d=\"M 603 3500 \nL 1178 3500 \nL 1178 0 \nL 603 0 \nL 603 3500 \nz\nM 603 4863 \nL 1178 4863 \nL 1178 4134 \nL 603 4134 \nL 603 4863 \nz\n\" transform=\"scale(0.015625)\"/>\n       <path id=\"DejaVuSans-3d\" d=\"M 678 2906 \nL 4684 2906 \nL 4684 2381 \nL 678 2381 \nL 678 2906 \nz\nM 678 1631 \nL 4684 1631 \nL 4684 1100 \nL 678 1100 \nL 678 1631 \nz\n\" transform=\"scale(0.015625)\"/>\n      </defs>\n      <use xlink:href=\"#DejaVuSans-54\"/>\n      <use xlink:href=\"#DejaVuSans-61\" x=\"44.583984\"/>\n      <use xlink:href=\"#DejaVuSans-72\" x=\"105.863281\"/>\n      <use xlink:href=\"#DejaVuSans-67\" x=\"145.226562\"/>\n      <use xlink:href=\"#DejaVuSans-65\" x=\"208.703125\"/>\n      <use xlink:href=\"#DejaVuSans-6e\" x=\"270.226562\"/>\n      <use xlink:href=\"#DejaVuSans-74\" x=\"333.605469\"/>\n      <use xlink:href=\"#DejaVuSans-20\" x=\"372.814453\"/>\n      <use xlink:href=\"#DejaVuSans-6c\" x=\"404.601562\"/>\n      <use xlink:href=\"#DejaVuSans-69\" x=\"432.384766\"/>\n      <use xlink:href=\"#DejaVuSans-6e\" x=\"460.167969\"/>\n      <use xlink:href=\"#DejaVuSans-65\" x=\"523.546875\"/>\n      <use xlink:href=\"#DejaVuSans-20\" x=\"585.070312\"/>\n      <use xlink:href=\"#DejaVuSans-28\" x=\"616.857422\"/>\n      <use xlink:href=\"#DejaVuSans-78\" x=\"655.871094\"/>\n      <use xlink:href=\"#DejaVuSans-3d\" x=\"715.050781\"/>\n      <use xlink:href=\"#DejaVuSans-31\" x=\"798.839844\"/>\n      <use xlink:href=\"#DejaVuSans-29\" x=\"862.462891\"/>\n     </g>\n    </g>\n   </g>\n  </g>\n </g>\n <defs>\n  <clipPath id=\"pb7777ea62c\">\n   <rect x=\"40.603125\" y=\"7.2\" width=\"195.3\" height=\"138.6\"/>\n  </clipPath>\n </defs>\n</svg>\n"
     },
     "metadata": {},
     "output_type": "display_data"
    }
   ],
   "source": [
    "x = np.arange(0, 3, 0.1)\n",
    "plot(x, [f(x), 2 * x - 3], 'x', 'f(x)', legend=['f(x)', 'Targent line (x=1)'])"
   ],
   "metadata": {
    "collapsed": false
   }
  },
  {
   "cell_type": "markdown",
   "source": [
    "### 2.4.2 偏导数\n",
    "\n",
    "*多元函数*\n",
    "\n",
    "### 2.4.3 梯度\n",
    "\n",
    "梯度是一个向量，其分量是多变量函数对于其所有变量的偏导数。\n",
    "\n",
    "### 2.4.4 链式法则\n",
    "\n",
    "链式法则可以用来对复合函数求导。\n"
   ],
   "metadata": {
    "collapsed": false
   }
  },
  {
   "cell_type": "markdown",
   "source": [
    "## 2.5 自动微分\n",
    "\n",
    "深度学习框架通过自动计算导数，即自动微分来加快求导。\n",
    "实践中，根据设计好的模型，系统会构建一个计算图，来跟踪计算哪些数据通过哪些操作，组合起来产生输出。\n",
    "自动微分能够随后反向传播梯度。\n",
    "*反向传播*意味着跟踪整个计算图，填充每个参数的偏导数。"
   ],
   "metadata": {
    "collapsed": false
   }
  },
  {
   "cell_type": "markdown",
   "source": [
    "### 2.5.1 例子\n"
   ],
   "metadata": {
    "collapsed": false
   }
  },
  {
   "cell_type": "code",
   "execution_count": 50,
   "outputs": [
    {
     "data": {
      "text/plain": "tensor([0., 1., 2., 3.])"
     },
     "execution_count": 50,
     "metadata": {},
     "output_type": "execute_result"
    }
   ],
   "source": [
    "import torch\n",
    "\n",
    "x = torch.arange(4.0)\n",
    "x"
   ],
   "metadata": {
    "collapsed": false
   }
  },
  {
   "cell_type": "code",
   "execution_count": 51,
   "outputs": [],
   "source": [
    "x.requires_grad_(True)  # 等价于x = torch.arange(4.0, requires_grad=True)\n",
    "x.grad"
   ],
   "metadata": {
    "collapsed": false
   }
  },
  {
   "cell_type": "code",
   "execution_count": 52,
   "outputs": [
    {
     "data": {
      "text/plain": "tensor(28., grad_fn=<MulBackward0>)"
     },
     "execution_count": 52,
     "metadata": {},
     "output_type": "execute_result"
    }
   ],
   "source": [
    "y = 2 * torch.dot(x, x)\n",
    "y"
   ],
   "metadata": {
    "collapsed": false
   }
  },
  {
   "cell_type": "code",
   "execution_count": 53,
   "outputs": [
    {
     "data": {
      "text/plain": "tensor([ 0.,  4.,  8., 12.])"
     },
     "execution_count": 53,
     "metadata": {},
     "output_type": "execute_result"
    }
   ],
   "source": [
    "y.backward()\n",
    "x.grad"
   ],
   "metadata": {
    "collapsed": false
   }
  },
  {
   "cell_type": "code",
   "execution_count": 54,
   "outputs": [
    {
     "data": {
      "text/plain": "tensor([True, True, True, True])"
     },
     "execution_count": 54,
     "metadata": {},
     "output_type": "execute_result"
    }
   ],
   "source": [
    "x.grad == 4 * x"
   ],
   "metadata": {
    "collapsed": false
   }
  },
  {
   "cell_type": "code",
   "execution_count": 55,
   "outputs": [
    {
     "data": {
      "text/plain": "tensor([1., 1., 1., 1.])"
     },
     "execution_count": 55,
     "metadata": {},
     "output_type": "execute_result"
    }
   ],
   "source": [
    "# 默认情况下，PyTorch会累计梯度，需要清除之前的值\n",
    "x.grad.zero_()\n",
    "y = x.sum()\n",
    "y.backward()\n",
    "x.grad"
   ],
   "metadata": {
    "collapsed": false
   }
  },
  {
   "cell_type": "markdown",
   "source": [
    "### 2.5.2 非标量变量的反向传播\n"
   ],
   "metadata": {
    "collapsed": false
   }
  },
  {
   "cell_type": "markdown",
   "source": [
    "### 2.5.3 分离计算\n"
   ],
   "metadata": {
    "collapsed": false
   }
  },
  {
   "cell_type": "markdown",
   "source": [
    "### 2.5.4 Python控制流的梯度计算\n"
   ],
   "metadata": {
    "collapsed": false
   }
  },
  {
   "cell_type": "markdown",
   "source": [
    "## 2.6 概率\n",
    "\n",
    "### 2.6.1 基本概率论\n",
    "\n",
    "抽样：从概率分布中抽取样本的过程。\n",
    "分布\n",
    "多项分布（multinominal distribution）：将概率分配给一些离散选择的分布。\n"
   ],
   "metadata": {
    "collapsed": false
   }
  },
  {
   "cell_type": "code",
   "execution_count": 56,
   "outputs": [],
   "source": [
    "%matplotlib inline\n",
    "import torch\n",
    "from torch.distributions import multinomial\n",
    "from d2l import torch as d2l"
   ],
   "metadata": {
    "collapsed": false
   }
  },
  {
   "cell_type": "code",
   "execution_count": 57,
   "outputs": [
    {
     "data": {
      "text/plain": "tensor([0., 0., 0., 0., 1., 0.])"
     },
     "execution_count": 57,
     "metadata": {},
     "output_type": "execute_result"
    }
   ],
   "source": [
    "fair_probs = torch.ones([6]) / 6\n",
    "multinomial.Multinomial(1, fair_probs).sample()"
   ],
   "metadata": {
    "collapsed": false
   }
  },
  {
   "cell_type": "code",
   "execution_count": 58,
   "outputs": [
    {
     "data": {
      "text/plain": "tensor([3., 1., 2., 1., 1., 2.])"
     },
     "execution_count": 58,
     "metadata": {},
     "output_type": "execute_result"
    }
   ],
   "source": [
    "multinomial.Multinomial(10, fair_probs).sample()"
   ],
   "metadata": {
    "collapsed": false
   }
  },
  {
   "cell_type": "code",
   "execution_count": 59,
   "outputs": [
    {
     "data": {
      "text/plain": "tensor([0.1580, 0.1980, 0.1500, 0.1780, 0.1510, 0.1650])"
     },
     "execution_count": 59,
     "metadata": {},
     "output_type": "execute_result"
    }
   ],
   "source": [
    "counts = multinomial.Multinomial(1000, fair_probs).sample()\n",
    "counts / 1000"
   ],
   "metadata": {
    "collapsed": false
   }
  },
  {
   "cell_type": "code",
   "execution_count": 60,
   "outputs": [],
   "source": [
    "counts = multinomial.Multinomial(10, fair_probs).sample((500,))  # 进行500次实验，每组抽10个样本\n",
    "cum_counts = counts.cumsum(dim=0)\n",
    "estimates = cum_counts / cum_counts.sum(dim=1, keepdims=True)"
   ],
   "metadata": {
    "collapsed": false
   }
  },
  {
   "cell_type": "code",
   "execution_count": 61,
   "outputs": [
    {
     "data": {
      "text/plain": "<matplotlib.legend.Legend at 0x25a43bb0d90>"
     },
     "execution_count": 61,
     "metadata": {},
     "output_type": "execute_result"
    },
    {
     "data": {
      "text/plain": "<Figure size 600x450 with 1 Axes>",
      "image/svg+xml": "<?xml version=\"1.0\" encoding=\"utf-8\" standalone=\"no\"?>\n<!DOCTYPE svg PUBLIC \"-//W3C//DTD SVG 1.1//EN\"\n  \"http://www.w3.org/Graphics/SVG/1.1/DTD/svg11.dtd\">\n<svg xmlns:xlink=\"http://www.w3.org/1999/xlink\" width=\"392.14375pt\" height=\"294.23625pt\" viewBox=\"0 0 392.14375 294.23625\" xmlns=\"http://www.w3.org/2000/svg\" version=\"1.1\">\n <metadata>\n  <rdf:RDF xmlns:dc=\"http://purl.org/dc/elements/1.1/\" xmlns:cc=\"http://creativecommons.org/ns#\" xmlns:rdf=\"http://www.w3.org/1999/02/22-rdf-syntax-ns#\">\n   <cc:Work>\n    <dc:type rdf:resource=\"http://purl.org/dc/dcmitype/StillImage\"/>\n    <dc:date>2023-02-28T21:37:56.274716</dc:date>\n    <dc:format>image/svg+xml</dc:format>\n    <dc:creator>\n     <cc:Agent>\n      <dc:title>Matplotlib v3.5.1, https://matplotlib.org/</dc:title>\n     </cc:Agent>\n    </dc:creator>\n   </cc:Work>\n  </rdf:RDF>\n </metadata>\n <defs>\n  <style type=\"text/css\">*{stroke-linejoin: round; stroke-linecap: butt}</style>\n </defs>\n <g id=\"figure_1\">\n  <g id=\"patch_1\">\n   <path d=\"M 0 294.23625 \nL 392.14375 294.23625 \nL 392.14375 0 \nL 0 0 \nz\n\" style=\"fill: #ffffff\"/>\n  </g>\n  <g id=\"axes_1\">\n   <g id=\"patch_2\">\n    <path d=\"M 50.14375 256.68 \nL 384.94375 256.68 \nL 384.94375 7.2 \nL 50.14375 7.2 \nz\n\" style=\"fill: #ffffff\"/>\n   </g>\n   <g id=\"matplotlib.axis_1\">\n    <g id=\"xtick_1\">\n     <g id=\"line2d_1\">\n      <defs>\n       <path id=\"m63f2c0ab84\" d=\"M 0 0 \nL 0 3.5 \n\" style=\"stroke: #000000; stroke-width: 0.8\"/>\n      </defs>\n      <g>\n       <use xlink:href=\"#m63f2c0ab84\" x=\"65.361932\" y=\"256.68\" style=\"stroke: #000000; stroke-width: 0.8\"/>\n      </g>\n     </g>\n     <g id=\"text_1\">\n      <!-- 0 -->\n      <g transform=\"translate(62.180682 271.278437)scale(0.1 -0.1)\">\n       <defs>\n        <path id=\"DejaVuSans-30\" d=\"M 2034 4250 \nQ 1547 4250 1301 3770 \nQ 1056 3291 1056 2328 \nQ 1056 1369 1301 889 \nQ 1547 409 2034 409 \nQ 2525 409 2770 889 \nQ 3016 1369 3016 2328 \nQ 3016 3291 2770 3770 \nQ 2525 4250 2034 4250 \nz\nM 2034 4750 \nQ 2819 4750 3233 4129 \nQ 3647 3509 3647 2328 \nQ 3647 1150 3233 529 \nQ 2819 -91 2034 -91 \nQ 1250 -91 836 529 \nQ 422 1150 422 2328 \nQ 422 3509 836 4129 \nQ 1250 4750 2034 4750 \nz\n\" transform=\"scale(0.015625)\"/>\n       </defs>\n       <use xlink:href=\"#DejaVuSans-30\"/>\n      </g>\n     </g>\n    </g>\n    <g id=\"xtick_2\">\n     <g id=\"line2d_2\">\n      <g>\n       <use xlink:href=\"#m63f2c0ab84\" x=\"126.356649\" y=\"256.68\" style=\"stroke: #000000; stroke-width: 0.8\"/>\n      </g>\n     </g>\n     <g id=\"text_2\">\n      <!-- 100 -->\n      <g transform=\"translate(116.812899 271.278437)scale(0.1 -0.1)\">\n       <defs>\n        <path id=\"DejaVuSans-31\" d=\"M 794 531 \nL 1825 531 \nL 1825 4091 \nL 703 3866 \nL 703 4441 \nL 1819 4666 \nL 2450 4666 \nL 2450 531 \nL 3481 531 \nL 3481 0 \nL 794 0 \nL 794 531 \nz\n\" transform=\"scale(0.015625)\"/>\n       </defs>\n       <use xlink:href=\"#DejaVuSans-31\"/>\n       <use xlink:href=\"#DejaVuSans-30\" x=\"63.623047\"/>\n       <use xlink:href=\"#DejaVuSans-30\" x=\"127.246094\"/>\n      </g>\n     </g>\n    </g>\n    <g id=\"xtick_3\">\n     <g id=\"line2d_3\">\n      <g>\n       <use xlink:href=\"#m63f2c0ab84\" x=\"187.351365\" y=\"256.68\" style=\"stroke: #000000; stroke-width: 0.8\"/>\n      </g>\n     </g>\n     <g id=\"text_3\">\n      <!-- 200 -->\n      <g transform=\"translate(177.807615 271.278437)scale(0.1 -0.1)\">\n       <defs>\n        <path id=\"DejaVuSans-32\" d=\"M 1228 531 \nL 3431 531 \nL 3431 0 \nL 469 0 \nL 469 531 \nQ 828 903 1448 1529 \nQ 2069 2156 2228 2338 \nQ 2531 2678 2651 2914 \nQ 2772 3150 2772 3378 \nQ 2772 3750 2511 3984 \nQ 2250 4219 1831 4219 \nQ 1534 4219 1204 4116 \nQ 875 4013 500 3803 \nL 500 4441 \nQ 881 4594 1212 4672 \nQ 1544 4750 1819 4750 \nQ 2544 4750 2975 4387 \nQ 3406 4025 3406 3419 \nQ 3406 3131 3298 2873 \nQ 3191 2616 2906 2266 \nQ 2828 2175 2409 1742 \nQ 1991 1309 1228 531 \nz\n\" transform=\"scale(0.015625)\"/>\n       </defs>\n       <use xlink:href=\"#DejaVuSans-32\"/>\n       <use xlink:href=\"#DejaVuSans-30\" x=\"63.623047\"/>\n       <use xlink:href=\"#DejaVuSans-30\" x=\"127.246094\"/>\n      </g>\n     </g>\n    </g>\n    <g id=\"xtick_4\">\n     <g id=\"line2d_4\">\n      <g>\n       <use xlink:href=\"#m63f2c0ab84\" x=\"248.346082\" y=\"256.68\" style=\"stroke: #000000; stroke-width: 0.8\"/>\n      </g>\n     </g>\n     <g id=\"text_4\">\n      <!-- 300 -->\n      <g transform=\"translate(238.802332 271.278437)scale(0.1 -0.1)\">\n       <defs>\n        <path id=\"DejaVuSans-33\" d=\"M 2597 2516 \nQ 3050 2419 3304 2112 \nQ 3559 1806 3559 1356 \nQ 3559 666 3084 287 \nQ 2609 -91 1734 -91 \nQ 1441 -91 1130 -33 \nQ 819 25 488 141 \nL 488 750 \nQ 750 597 1062 519 \nQ 1375 441 1716 441 \nQ 2309 441 2620 675 \nQ 2931 909 2931 1356 \nQ 2931 1769 2642 2001 \nQ 2353 2234 1838 2234 \nL 1294 2234 \nL 1294 2753 \nL 1863 2753 \nQ 2328 2753 2575 2939 \nQ 2822 3125 2822 3475 \nQ 2822 3834 2567 4026 \nQ 2313 4219 1838 4219 \nQ 1578 4219 1281 4162 \nQ 984 4106 628 3988 \nL 628 4550 \nQ 988 4650 1302 4700 \nQ 1616 4750 1894 4750 \nQ 2613 4750 3031 4423 \nQ 3450 4097 3450 3541 \nQ 3450 3153 3228 2886 \nQ 3006 2619 2597 2516 \nz\n\" transform=\"scale(0.015625)\"/>\n       </defs>\n       <use xlink:href=\"#DejaVuSans-33\"/>\n       <use xlink:href=\"#DejaVuSans-30\" x=\"63.623047\"/>\n       <use xlink:href=\"#DejaVuSans-30\" x=\"127.246094\"/>\n      </g>\n     </g>\n    </g>\n    <g id=\"xtick_5\">\n     <g id=\"line2d_5\">\n      <g>\n       <use xlink:href=\"#m63f2c0ab84\" x=\"309.340799\" y=\"256.68\" style=\"stroke: #000000; stroke-width: 0.8\"/>\n      </g>\n     </g>\n     <g id=\"text_5\">\n      <!-- 400 -->\n      <g transform=\"translate(299.797049 271.278437)scale(0.1 -0.1)\">\n       <defs>\n        <path id=\"DejaVuSans-34\" d=\"M 2419 4116 \nL 825 1625 \nL 2419 1625 \nL 2419 4116 \nz\nM 2253 4666 \nL 3047 4666 \nL 3047 1625 \nL 3713 1625 \nL 3713 1100 \nL 3047 1100 \nL 3047 0 \nL 2419 0 \nL 2419 1100 \nL 313 1100 \nL 313 1709 \nL 2253 4666 \nz\n\" transform=\"scale(0.015625)\"/>\n       </defs>\n       <use xlink:href=\"#DejaVuSans-34\"/>\n       <use xlink:href=\"#DejaVuSans-30\" x=\"63.623047\"/>\n       <use xlink:href=\"#DejaVuSans-30\" x=\"127.246094\"/>\n      </g>\n     </g>\n    </g>\n    <g id=\"xtick_6\">\n     <g id=\"line2d_6\">\n      <g>\n       <use xlink:href=\"#m63f2c0ab84\" x=\"370.335515\" y=\"256.68\" style=\"stroke: #000000; stroke-width: 0.8\"/>\n      </g>\n     </g>\n     <g id=\"text_6\">\n      <!-- 500 -->\n      <g transform=\"translate(360.791765 271.278437)scale(0.1 -0.1)\">\n       <defs>\n        <path id=\"DejaVuSans-35\" d=\"M 691 4666 \nL 3169 4666 \nL 3169 4134 \nL 1269 4134 \nL 1269 2991 \nQ 1406 3038 1543 3061 \nQ 1681 3084 1819 3084 \nQ 2600 3084 3056 2656 \nQ 3513 2228 3513 1497 \nQ 3513 744 3044 326 \nQ 2575 -91 1722 -91 \nQ 1428 -91 1123 -41 \nQ 819 9 494 109 \nL 494 744 \nQ 775 591 1075 516 \nQ 1375 441 1709 441 \nQ 2250 441 2565 725 \nQ 2881 1009 2881 1497 \nQ 2881 1984 2565 2268 \nQ 2250 2553 1709 2553 \nQ 1456 2553 1204 2497 \nQ 953 2441 691 2322 \nL 691 4666 \nz\n\" transform=\"scale(0.015625)\"/>\n       </defs>\n       <use xlink:href=\"#DejaVuSans-35\"/>\n       <use xlink:href=\"#DejaVuSans-30\" x=\"63.623047\"/>\n       <use xlink:href=\"#DejaVuSans-30\" x=\"127.246094\"/>\n      </g>\n     </g>\n    </g>\n    <g id=\"text_7\">\n     <!-- Groups of experiments -->\n     <g transform=\"translate(160.397656 284.956562)scale(0.1 -0.1)\">\n      <defs>\n       <path id=\"DejaVuSans-47\" d=\"M 3809 666 \nL 3809 1919 \nL 2778 1919 \nL 2778 2438 \nL 4434 2438 \nL 4434 434 \nQ 4069 175 3628 42 \nQ 3188 -91 2688 -91 \nQ 1594 -91 976 548 \nQ 359 1188 359 2328 \nQ 359 3472 976 4111 \nQ 1594 4750 2688 4750 \nQ 3144 4750 3555 4637 \nQ 3966 4525 4313 4306 \nL 4313 3634 \nQ 3963 3931 3569 4081 \nQ 3175 4231 2741 4231 \nQ 1884 4231 1454 3753 \nQ 1025 3275 1025 2328 \nQ 1025 1384 1454 906 \nQ 1884 428 2741 428 \nQ 3075 428 3337 486 \nQ 3600 544 3809 666 \nz\n\" transform=\"scale(0.015625)\"/>\n       <path id=\"DejaVuSans-72\" d=\"M 2631 2963 \nQ 2534 3019 2420 3045 \nQ 2306 3072 2169 3072 \nQ 1681 3072 1420 2755 \nQ 1159 2438 1159 1844 \nL 1159 0 \nL 581 0 \nL 581 3500 \nL 1159 3500 \nL 1159 2956 \nQ 1341 3275 1631 3429 \nQ 1922 3584 2338 3584 \nQ 2397 3584 2469 3576 \nQ 2541 3569 2628 3553 \nL 2631 2963 \nz\n\" transform=\"scale(0.015625)\"/>\n       <path id=\"DejaVuSans-6f\" d=\"M 1959 3097 \nQ 1497 3097 1228 2736 \nQ 959 2375 959 1747 \nQ 959 1119 1226 758 \nQ 1494 397 1959 397 \nQ 2419 397 2687 759 \nQ 2956 1122 2956 1747 \nQ 2956 2369 2687 2733 \nQ 2419 3097 1959 3097 \nz\nM 1959 3584 \nQ 2709 3584 3137 3096 \nQ 3566 2609 3566 1747 \nQ 3566 888 3137 398 \nQ 2709 -91 1959 -91 \nQ 1206 -91 779 398 \nQ 353 888 353 1747 \nQ 353 2609 779 3096 \nQ 1206 3584 1959 3584 \nz\n\" transform=\"scale(0.015625)\"/>\n       <path id=\"DejaVuSans-75\" d=\"M 544 1381 \nL 544 3500 \nL 1119 3500 \nL 1119 1403 \nQ 1119 906 1312 657 \nQ 1506 409 1894 409 \nQ 2359 409 2629 706 \nQ 2900 1003 2900 1516 \nL 2900 3500 \nL 3475 3500 \nL 3475 0 \nL 2900 0 \nL 2900 538 \nQ 2691 219 2414 64 \nQ 2138 -91 1772 -91 \nQ 1169 -91 856 284 \nQ 544 659 544 1381 \nz\nM 1991 3584 \nL 1991 3584 \nz\n\" transform=\"scale(0.015625)\"/>\n       <path id=\"DejaVuSans-70\" d=\"M 1159 525 \nL 1159 -1331 \nL 581 -1331 \nL 581 3500 \nL 1159 3500 \nL 1159 2969 \nQ 1341 3281 1617 3432 \nQ 1894 3584 2278 3584 \nQ 2916 3584 3314 3078 \nQ 3713 2572 3713 1747 \nQ 3713 922 3314 415 \nQ 2916 -91 2278 -91 \nQ 1894 -91 1617 61 \nQ 1341 213 1159 525 \nz\nM 3116 1747 \nQ 3116 2381 2855 2742 \nQ 2594 3103 2138 3103 \nQ 1681 3103 1420 2742 \nQ 1159 2381 1159 1747 \nQ 1159 1113 1420 752 \nQ 1681 391 2138 391 \nQ 2594 391 2855 752 \nQ 3116 1113 3116 1747 \nz\n\" transform=\"scale(0.015625)\"/>\n       <path id=\"DejaVuSans-73\" d=\"M 2834 3397 \nL 2834 2853 \nQ 2591 2978 2328 3040 \nQ 2066 3103 1784 3103 \nQ 1356 3103 1142 2972 \nQ 928 2841 928 2578 \nQ 928 2378 1081 2264 \nQ 1234 2150 1697 2047 \nL 1894 2003 \nQ 2506 1872 2764 1633 \nQ 3022 1394 3022 966 \nQ 3022 478 2636 193 \nQ 2250 -91 1575 -91 \nQ 1294 -91 989 -36 \nQ 684 19 347 128 \nL 347 722 \nQ 666 556 975 473 \nQ 1284 391 1588 391 \nQ 1994 391 2212 530 \nQ 2431 669 2431 922 \nQ 2431 1156 2273 1281 \nQ 2116 1406 1581 1522 \nL 1381 1569 \nQ 847 1681 609 1914 \nQ 372 2147 372 2553 \nQ 372 3047 722 3315 \nQ 1072 3584 1716 3584 \nQ 2034 3584 2315 3537 \nQ 2597 3491 2834 3397 \nz\n\" transform=\"scale(0.015625)\"/>\n       <path id=\"DejaVuSans-20\" transform=\"scale(0.015625)\"/>\n       <path id=\"DejaVuSans-66\" d=\"M 2375 4863 \nL 2375 4384 \nL 1825 4384 \nQ 1516 4384 1395 4259 \nQ 1275 4134 1275 3809 \nL 1275 3500 \nL 2222 3500 \nL 2222 3053 \nL 1275 3053 \nL 1275 0 \nL 697 0 \nL 697 3053 \nL 147 3053 \nL 147 3500 \nL 697 3500 \nL 697 3744 \nQ 697 4328 969 4595 \nQ 1241 4863 1831 4863 \nL 2375 4863 \nz\n\" transform=\"scale(0.015625)\"/>\n       <path id=\"DejaVuSans-65\" d=\"M 3597 1894 \nL 3597 1613 \nL 953 1613 \nQ 991 1019 1311 708 \nQ 1631 397 2203 397 \nQ 2534 397 2845 478 \nQ 3156 559 3463 722 \nL 3463 178 \nQ 3153 47 2828 -22 \nQ 2503 -91 2169 -91 \nQ 1331 -91 842 396 \nQ 353 884 353 1716 \nQ 353 2575 817 3079 \nQ 1281 3584 2069 3584 \nQ 2775 3584 3186 3129 \nQ 3597 2675 3597 1894 \nz\nM 3022 2063 \nQ 3016 2534 2758 2815 \nQ 2500 3097 2075 3097 \nQ 1594 3097 1305 2825 \nQ 1016 2553 972 2059 \nL 3022 2063 \nz\n\" transform=\"scale(0.015625)\"/>\n       <path id=\"DejaVuSans-78\" d=\"M 3513 3500 \nL 2247 1797 \nL 3578 0 \nL 2900 0 \nL 1881 1375 \nL 863 0 \nL 184 0 \nL 1544 1831 \nL 300 3500 \nL 978 3500 \nL 1906 2253 \nL 2834 3500 \nL 3513 3500 \nz\n\" transform=\"scale(0.015625)\"/>\n       <path id=\"DejaVuSans-69\" d=\"M 603 3500 \nL 1178 3500 \nL 1178 0 \nL 603 0 \nL 603 3500 \nz\nM 603 4863 \nL 1178 4863 \nL 1178 4134 \nL 603 4134 \nL 603 4863 \nz\n\" transform=\"scale(0.015625)\"/>\n       <path id=\"DejaVuSans-6d\" d=\"M 3328 2828 \nQ 3544 3216 3844 3400 \nQ 4144 3584 4550 3584 \nQ 5097 3584 5394 3201 \nQ 5691 2819 5691 2113 \nL 5691 0 \nL 5113 0 \nL 5113 2094 \nQ 5113 2597 4934 2840 \nQ 4756 3084 4391 3084 \nQ 3944 3084 3684 2787 \nQ 3425 2491 3425 1978 \nL 3425 0 \nL 2847 0 \nL 2847 2094 \nQ 2847 2600 2669 2842 \nQ 2491 3084 2119 3084 \nQ 1678 3084 1418 2786 \nQ 1159 2488 1159 1978 \nL 1159 0 \nL 581 0 \nL 581 3500 \nL 1159 3500 \nL 1159 2956 \nQ 1356 3278 1631 3431 \nQ 1906 3584 2284 3584 \nQ 2666 3584 2933 3390 \nQ 3200 3197 3328 2828 \nz\n\" transform=\"scale(0.015625)\"/>\n       <path id=\"DejaVuSans-6e\" d=\"M 3513 2113 \nL 3513 0 \nL 2938 0 \nL 2938 2094 \nQ 2938 2591 2744 2837 \nQ 2550 3084 2163 3084 \nQ 1697 3084 1428 2787 \nQ 1159 2491 1159 1978 \nL 1159 0 \nL 581 0 \nL 581 3500 \nL 1159 3500 \nL 1159 2956 \nQ 1366 3272 1645 3428 \nQ 1925 3584 2291 3584 \nQ 2894 3584 3203 3211 \nQ 3513 2838 3513 2113 \nz\n\" transform=\"scale(0.015625)\"/>\n       <path id=\"DejaVuSans-74\" d=\"M 1172 4494 \nL 1172 3500 \nL 2356 3500 \nL 2356 3053 \nL 1172 3053 \nL 1172 1153 \nQ 1172 725 1289 603 \nQ 1406 481 1766 481 \nL 2356 481 \nL 2356 0 \nL 1766 0 \nQ 1100 0 847 248 \nQ 594 497 594 1153 \nL 594 3053 \nL 172 3053 \nL 172 3500 \nL 594 3500 \nL 594 4494 \nL 1172 4494 \nz\n\" transform=\"scale(0.015625)\"/>\n      </defs>\n      <use xlink:href=\"#DejaVuSans-47\"/>\n      <use xlink:href=\"#DejaVuSans-72\" x=\"77.490234\"/>\n      <use xlink:href=\"#DejaVuSans-6f\" x=\"116.353516\"/>\n      <use xlink:href=\"#DejaVuSans-75\" x=\"177.535156\"/>\n      <use xlink:href=\"#DejaVuSans-70\" x=\"240.914062\"/>\n      <use xlink:href=\"#DejaVuSans-73\" x=\"304.390625\"/>\n      <use xlink:href=\"#DejaVuSans-20\" x=\"356.490234\"/>\n      <use xlink:href=\"#DejaVuSans-6f\" x=\"388.277344\"/>\n      <use xlink:href=\"#DejaVuSans-66\" x=\"449.458984\"/>\n      <use xlink:href=\"#DejaVuSans-20\" x=\"484.664062\"/>\n      <use xlink:href=\"#DejaVuSans-65\" x=\"516.451172\"/>\n      <use xlink:href=\"#DejaVuSans-78\" x=\"576.224609\"/>\n      <use xlink:href=\"#DejaVuSans-70\" x=\"635.404297\"/>\n      <use xlink:href=\"#DejaVuSans-65\" x=\"698.880859\"/>\n      <use xlink:href=\"#DejaVuSans-72\" x=\"760.404297\"/>\n      <use xlink:href=\"#DejaVuSans-69\" x=\"801.517578\"/>\n      <use xlink:href=\"#DejaVuSans-6d\" x=\"829.300781\"/>\n      <use xlink:href=\"#DejaVuSans-65\" x=\"926.712891\"/>\n      <use xlink:href=\"#DejaVuSans-6e\" x=\"988.236328\"/>\n      <use xlink:href=\"#DejaVuSans-74\" x=\"1051.615234\"/>\n      <use xlink:href=\"#DejaVuSans-73\" x=\"1090.824219\"/>\n     </g>\n    </g>\n   </g>\n   <g id=\"matplotlib.axis_2\">\n    <g id=\"ytick_1\">\n     <g id=\"line2d_7\">\n      <defs>\n       <path id=\"mdfc51d7047\" d=\"M 0 0 \nL -3.5 0 \n\" style=\"stroke: #000000; stroke-width: 0.8\"/>\n      </defs>\n      <g>\n       <use xlink:href=\"#mdfc51d7047\" x=\"50.14375\" y=\"235.479134\" style=\"stroke: #000000; stroke-width: 0.8\"/>\n      </g>\n     </g>\n     <g id=\"text_8\">\n      <!-- 0.10 -->\n      <g transform=\"translate(20.878125 239.278353)scale(0.1 -0.1)\">\n       <defs>\n        <path id=\"DejaVuSans-2e\" d=\"M 684 794 \nL 1344 794 \nL 1344 0 \nL 684 0 \nL 684 794 \nz\n\" transform=\"scale(0.015625)\"/>\n       </defs>\n       <use xlink:href=\"#DejaVuSans-30\"/>\n       <use xlink:href=\"#DejaVuSans-2e\" x=\"63.623047\"/>\n       <use xlink:href=\"#DejaVuSans-31\" x=\"95.410156\"/>\n       <use xlink:href=\"#DejaVuSans-30\" x=\"159.033203\"/>\n      </g>\n     </g>\n    </g>\n    <g id=\"ytick_2\">\n     <g id=\"line2d_8\">\n      <g>\n       <use xlink:href=\"#mdfc51d7047\" x=\"50.14375\" y=\"181.244354\" style=\"stroke: #000000; stroke-width: 0.8\"/>\n      </g>\n     </g>\n     <g id=\"text_9\">\n      <!-- 0.15 -->\n      <g transform=\"translate(20.878125 185.043572)scale(0.1 -0.1)\">\n       <use xlink:href=\"#DejaVuSans-30\"/>\n       <use xlink:href=\"#DejaVuSans-2e\" x=\"63.623047\"/>\n       <use xlink:href=\"#DejaVuSans-31\" x=\"95.410156\"/>\n       <use xlink:href=\"#DejaVuSans-35\" x=\"159.033203\"/>\n      </g>\n     </g>\n    </g>\n    <g id=\"ytick_3\">\n     <g id=\"line2d_9\">\n      <g>\n       <use xlink:href=\"#mdfc51d7047\" x=\"50.14375\" y=\"127.009573\" style=\"stroke: #000000; stroke-width: 0.8\"/>\n      </g>\n     </g>\n     <g id=\"text_10\">\n      <!-- 0.20 -->\n      <g transform=\"translate(20.878125 130.808792)scale(0.1 -0.1)\">\n       <use xlink:href=\"#DejaVuSans-30\"/>\n       <use xlink:href=\"#DejaVuSans-2e\" x=\"63.623047\"/>\n       <use xlink:href=\"#DejaVuSans-32\" x=\"95.410156\"/>\n       <use xlink:href=\"#DejaVuSans-30\" x=\"159.033203\"/>\n      </g>\n     </g>\n    </g>\n    <g id=\"ytick_4\">\n     <g id=\"line2d_10\">\n      <g>\n       <use xlink:href=\"#mdfc51d7047\" x=\"50.14375\" y=\"72.774793\" style=\"stroke: #000000; stroke-width: 0.8\"/>\n      </g>\n     </g>\n     <g id=\"text_11\">\n      <!-- 0.25 -->\n      <g transform=\"translate(20.878125 76.574012)scale(0.1 -0.1)\">\n       <use xlink:href=\"#DejaVuSans-30\"/>\n       <use xlink:href=\"#DejaVuSans-2e\" x=\"63.623047\"/>\n       <use xlink:href=\"#DejaVuSans-32\" x=\"95.410156\"/>\n       <use xlink:href=\"#DejaVuSans-35\" x=\"159.033203\"/>\n      </g>\n     </g>\n    </g>\n    <g id=\"ytick_5\">\n     <g id=\"line2d_11\">\n      <g>\n       <use xlink:href=\"#mdfc51d7047\" x=\"50.14375\" y=\"18.540013\" style=\"stroke: #000000; stroke-width: 0.8\"/>\n      </g>\n     </g>\n     <g id=\"text_12\">\n      <!-- 0.30 -->\n      <g transform=\"translate(20.878125 22.339232)scale(0.1 -0.1)\">\n       <use xlink:href=\"#DejaVuSans-30\"/>\n       <use xlink:href=\"#DejaVuSans-2e\" x=\"63.623047\"/>\n       <use xlink:href=\"#DejaVuSans-33\" x=\"95.410156\"/>\n       <use xlink:href=\"#DejaVuSans-30\" x=\"159.033203\"/>\n      </g>\n     </g>\n    </g>\n    <g id=\"text_13\">\n     <!-- Estimated probability -->\n     <g transform=\"translate(14.798438 185.463437)rotate(-90)scale(0.1 -0.1)\">\n      <defs>\n       <path id=\"DejaVuSans-45\" d=\"M 628 4666 \nL 3578 4666 \nL 3578 4134 \nL 1259 4134 \nL 1259 2753 \nL 3481 2753 \nL 3481 2222 \nL 1259 2222 \nL 1259 531 \nL 3634 531 \nL 3634 0 \nL 628 0 \nL 628 4666 \nz\n\" transform=\"scale(0.015625)\"/>\n       <path id=\"DejaVuSans-61\" d=\"M 2194 1759 \nQ 1497 1759 1228 1600 \nQ 959 1441 959 1056 \nQ 959 750 1161 570 \nQ 1363 391 1709 391 \nQ 2188 391 2477 730 \nQ 2766 1069 2766 1631 \nL 2766 1759 \nL 2194 1759 \nz\nM 3341 1997 \nL 3341 0 \nL 2766 0 \nL 2766 531 \nQ 2569 213 2275 61 \nQ 1981 -91 1556 -91 \nQ 1019 -91 701 211 \nQ 384 513 384 1019 \nQ 384 1609 779 1909 \nQ 1175 2209 1959 2209 \nL 2766 2209 \nL 2766 2266 \nQ 2766 2663 2505 2880 \nQ 2244 3097 1772 3097 \nQ 1472 3097 1187 3025 \nQ 903 2953 641 2809 \nL 641 3341 \nQ 956 3463 1253 3523 \nQ 1550 3584 1831 3584 \nQ 2591 3584 2966 3190 \nQ 3341 2797 3341 1997 \nz\n\" transform=\"scale(0.015625)\"/>\n       <path id=\"DejaVuSans-64\" d=\"M 2906 2969 \nL 2906 4863 \nL 3481 4863 \nL 3481 0 \nL 2906 0 \nL 2906 525 \nQ 2725 213 2448 61 \nQ 2172 -91 1784 -91 \nQ 1150 -91 751 415 \nQ 353 922 353 1747 \nQ 353 2572 751 3078 \nQ 1150 3584 1784 3584 \nQ 2172 3584 2448 3432 \nQ 2725 3281 2906 2969 \nz\nM 947 1747 \nQ 947 1113 1208 752 \nQ 1469 391 1925 391 \nQ 2381 391 2643 752 \nQ 2906 1113 2906 1747 \nQ 2906 2381 2643 2742 \nQ 2381 3103 1925 3103 \nQ 1469 3103 1208 2742 \nQ 947 2381 947 1747 \nz\n\" transform=\"scale(0.015625)\"/>\n       <path id=\"DejaVuSans-62\" d=\"M 3116 1747 \nQ 3116 2381 2855 2742 \nQ 2594 3103 2138 3103 \nQ 1681 3103 1420 2742 \nQ 1159 2381 1159 1747 \nQ 1159 1113 1420 752 \nQ 1681 391 2138 391 \nQ 2594 391 2855 752 \nQ 3116 1113 3116 1747 \nz\nM 1159 2969 \nQ 1341 3281 1617 3432 \nQ 1894 3584 2278 3584 \nQ 2916 3584 3314 3078 \nQ 3713 2572 3713 1747 \nQ 3713 922 3314 415 \nQ 2916 -91 2278 -91 \nQ 1894 -91 1617 61 \nQ 1341 213 1159 525 \nL 1159 0 \nL 581 0 \nL 581 4863 \nL 1159 4863 \nL 1159 2969 \nz\n\" transform=\"scale(0.015625)\"/>\n       <path id=\"DejaVuSans-6c\" d=\"M 603 4863 \nL 1178 4863 \nL 1178 0 \nL 603 0 \nL 603 4863 \nz\n\" transform=\"scale(0.015625)\"/>\n       <path id=\"DejaVuSans-79\" d=\"M 2059 -325 \nQ 1816 -950 1584 -1140 \nQ 1353 -1331 966 -1331 \nL 506 -1331 \nL 506 -850 \nL 844 -850 \nQ 1081 -850 1212 -737 \nQ 1344 -625 1503 -206 \nL 1606 56 \nL 191 3500 \nL 800 3500 \nL 1894 763 \nL 2988 3500 \nL 3597 3500 \nL 2059 -325 \nz\n\" transform=\"scale(0.015625)\"/>\n      </defs>\n      <use xlink:href=\"#DejaVuSans-45\"/>\n      <use xlink:href=\"#DejaVuSans-73\" x=\"63.183594\"/>\n      <use xlink:href=\"#DejaVuSans-74\" x=\"115.283203\"/>\n      <use xlink:href=\"#DejaVuSans-69\" x=\"154.492188\"/>\n      <use xlink:href=\"#DejaVuSans-6d\" x=\"182.275391\"/>\n      <use xlink:href=\"#DejaVuSans-61\" x=\"279.6875\"/>\n      <use xlink:href=\"#DejaVuSans-74\" x=\"340.966797\"/>\n      <use xlink:href=\"#DejaVuSans-65\" x=\"380.175781\"/>\n      <use xlink:href=\"#DejaVuSans-64\" x=\"441.699219\"/>\n      <use xlink:href=\"#DejaVuSans-20\" x=\"505.175781\"/>\n      <use xlink:href=\"#DejaVuSans-70\" x=\"536.962891\"/>\n      <use xlink:href=\"#DejaVuSans-72\" x=\"600.439453\"/>\n      <use xlink:href=\"#DejaVuSans-6f\" x=\"639.302734\"/>\n      <use xlink:href=\"#DejaVuSans-62\" x=\"700.484375\"/>\n      <use xlink:href=\"#DejaVuSans-61\" x=\"763.960938\"/>\n      <use xlink:href=\"#DejaVuSans-62\" x=\"825.240234\"/>\n      <use xlink:href=\"#DejaVuSans-69\" x=\"888.716797\"/>\n      <use xlink:href=\"#DejaVuSans-6c\" x=\"916.5\"/>\n      <use xlink:href=\"#DejaVuSans-69\" x=\"944.283203\"/>\n      <use xlink:href=\"#DejaVuSans-74\" x=\"972.066406\"/>\n      <use xlink:href=\"#DejaVuSans-79\" x=\"1011.275391\"/>\n     </g>\n    </g>\n   </g>\n   <g id=\"line2d_12\">\n    <path d=\"M 65.361932 127.00957 \nL 65.971879 181.244347 \nL 66.581826 199.322606 \nL 67.191773 181.244347 \nL 67.80172 148.703478 \nL 68.411668 181.244347 \nL 69.021615 158.000871 \nL 69.631562 154.126967 \nL 70.241509 175.218261 \nL 71.461403 166.453058 \nL 72.681298 160.384818 \nL 73.291245 173.496522 \nL 73.901192 155.934791 \nL 75.121086 165.292942 \nL 75.731034 175.218261 \nL 76.340981 172.680974 \nL 76.950928 175.820874 \nL 78.170822 151.661752 \nL 78.780769 145.873847 \nL 79.390717 149.607406 \nL 80.000664 144.364703 \nL 80.610611 131.181476 \nL 82.440452 130.749902 \nL 83.660347 123.510555 \nL 84.270294 130.399241 \nL 84.880241 130.296523 \nL 85.490188 127.00957 \nL 86.100135 127.00957 \nL 87.32003 138.736005 \nL 87.929977 138.427417 \nL 88.539924 135.353382 \nL 89.149871 135.144796 \nL 89.759819 137.591972 \nL 90.369766 134.757395 \nL 90.979713 139.622316 \nL 91.58966 136.870446 \nL 92.199607 136.651305 \nL 92.809554 131.725643 \nL 93.419502 133.933168 \nL 94.639396 133.65057 \nL 95.249343 135.687136 \nL 96.469237 131.181476 \nL 97.079185 131.102761 \nL 97.689132 133.035656 \nL 98.909026 132.820443 \nL 100.12892 128.879736 \nL 100.738868 128.84804 \nL 101.348815 130.625219 \nL 101.958762 134.122326 \nL 103.178656 137.340004 \nL 103.788603 137.178598 \nL 104.398551 135.353382 \nL 105.008498 131.94 \nL 105.618445 130.247468 \nL 106.228392 133.390132 \nL 106.838339 134.869681 \nL 107.448286 133.207827 \nL 108.058234 133.12053 \nL 108.668181 131.529131 \nL 109.278128 132.953111 \nL 109.888075 131.406985 \nL 110.498022 131.348361 \nL 111.107969 132.718502 \nL 111.717917 132.644361 \nL 112.327864 131.181476 \nL 114.157705 131.026972 \nL 114.767652 132.300779 \nL 115.3776 132.237015 \nL 115.987547 130.883491 \nL 117.207441 133.315943 \nL 118.427335 133.172624 \nL 119.037283 134.322136 \nL 119.64723 134.240883 \nL 120.257177 132.969436 \nL 120.867124 132.904654 \nL 121.477071 135.173954 \nL 122.087018 135.087093 \nL 122.696966 137.285631 \nL 123.306913 134.918818 \nL 123.91686 134.837274 \nL 124.526807 135.864237 \nL 125.136754 135.77479 \nL 125.746701 134.602439 \nL 126.356649 132.379349 \nL 126.966596 131.263278 \nL 127.576543 131.221981 \nL 128.18649 133.267437 \nL 128.796437 132.174787 \nL 129.406384 134.172658 \nL 130.016332 133.091985 \nL 131.236226 132.980378 \nL 132.45612 134.827204 \nL 133.066067 134.757395 \nL 133.676015 133.728929 \nL 134.895909 135.498495 \nL 136.115803 135.353382 \nL 136.72575 136.201903 \nL 137.335698 135.21315 \nL 138.555592 135.077557 \nL 139.775486 136.710107 \nL 140.385433 136.631877 \nL 140.995381 137.422646 \nL 141.605328 135.618265 \nL 142.215275 136.404573 \nL 142.825222 135.483755 \nL 143.435169 137.09977 \nL 144.045116 137.022154 \nL 145.265011 140.157399 \nL 145.874958 140.874109 \nL 146.484905 139.151691 \nL 147.094852 139.865233 \nL 147.704799 138.175562 \nL 149.534641 140.275633 \nL 150.144588 137.856532 \nL 150.754535 137.779595 \nL 151.364482 138.467631 \nL 151.97443 139.904558 \nL 152.584377 140.568268 \nL 153.194324 140.474764 \nL 153.804271 139.639594 \nL 155.634113 141.569241 \nL 156.24406 141.472181 \nL 156.854007 142.813082 \nL 157.463954 141.995497 \nL 159.293796 141.705448 \nL 159.903743 142.306559 \nL 160.51369 142.209127 \nL 161.123637 142.79944 \nL 161.733584 144.064535 \nL 162.343531 143.280005 \nL 162.953479 143.178952 \nL 164.173373 144.311461 \nL 164.78332 145.528762 \nL 165.393267 146.073915 \nL 166.003214 144.652214 \nL 167.223109 147.024798 \nL 167.833056 147.548195 \nL 168.443003 147.427375 \nL 169.05295 147.942303 \nL 169.662897 147.820594 \nL 170.272845 148.327295 \nL 170.882792 148.204778 \nL 171.492739 148.703478 \nL 172.712633 148.458362 \nL 173.32258 148.947235 \nL 173.932528 148.824686 \nL 175.152422 150.980747 \nL 176.372316 149.533314 \nL 178.812105 151.371719 \nL 179.422052 151.242138 \nL 180.031999 151.687839 \nL 180.641946 150.416165 \nL 181.251894 150.861511 \nL 181.861841 150.737296 \nL 182.471788 150.052331 \nL 183.081735 150.492682 \nL 183.691682 149.815992 \nL 186.741418 149.245835 \nL 187.351365 150.214497 \nL 187.961312 150.099625 \nL 188.57126 149.451544 \nL 189.791154 150.290852 \nL 190.401101 149.124724 \nL 191.011048 149.541896 \nL 192.230943 149.326279 \nL 192.84089 148.703478 \nL 194.060784 149.522129 \nL 194.670731 148.907183 \nL 195.280678 149.311732 \nL 195.890626 148.703478 \nL 196.500573 149.607406 \nL 197.11052 149.503266 \nL 197.720467 149.897649 \nL 198.330414 148.802542 \nL 198.940361 149.196537 \nL 199.550309 149.096131 \nL 201.38015 150.253046 \nL 202.600044 150.047353 \nL 203.819939 150.796761 \nL 204.429886 150.69288 \nL 205.039833 151.061514 \nL 205.64978 151.896523 \nL 206.259727 151.32171 \nL 206.869675 152.148443 \nL 208.089569 151.93449 \nL 208.699516 152.748114 \nL 209.309463 153.097192 \nL 209.91941 152.076064 \nL 210.529358 151.971181 \nL 211.749252 152.664195 \nL 212.359199 151.661752 \nL 212.969146 151.113915 \nL 213.579093 151.904232 \nL 215.408935 151.601867 \nL 216.018882 151.940082 \nL 216.628829 152.711198 \nL 217.238776 153.042269 \nL 217.848724 152.93855 \nL 219.068618 154.448518 \nL 220.288512 155.084056 \nL 220.898459 154.974388 \nL 221.508407 154.021453 \nL 222.118354 154.757607 \nL 223.948195 155.685441 \nL 224.558142 153.919964 \nL 225.16809 154.642509 \nL 225.778037 154.126967 \nL 226.997931 154.738632 \nL 227.607878 154.634783 \nL 228.217825 154.126967 \nL 228.827773 154.429381 \nL 230.047667 154.227033 \nL 230.657614 154.525746 \nL 231.267561 155.219601 \nL 232.487456 155.014441 \nL 234.317297 157.053302 \nL 234.927244 157.334397 \nL 235.537191 158.000871 \nL 236.147139 158.2766 \nL 236.757086 157.781084 \nL 237.367033 158.438911 \nL 238.586927 157.457173 \nL 239.806822 158.000871 \nL 240.416769 157.893273 \nL 242.24661 158.693126 \nL 242.856557 159.327565 \nL 243.466505 158.106643 \nL 244.076452 157.63193 \nL 244.686399 157.528129 \nL 245.296346 157.058571 \nL 245.906293 156.957406 \nL 246.51624 157.220899 \nL 247.126188 156.757079 \nL 247.736135 157.019489 \nL 248.346082 156.559419 \nL 249.565976 154.932429 \nL 250.175923 154.840573 \nL 250.785871 155.46061 \nL 251.395818 155.367623 \nL 252.005765 154.215299 \nL 252.615712 154.479131 \nL 253.225659 153.688168 \nL 253.835606 153.252213 \nL 254.445554 153.167825 \nL 255.055501 153.431641 \nL 255.665448 154.040332 \nL 256.885342 154.557393 \nL 257.495289 154.470225 \nL 258.105237 154.725766 \nL 258.715184 155.320815 \nL 259.325131 155.232063 \nL 259.935078 155.482835 \nL 260.545025 154.38039 \nL 261.154972 154.632261 \nL 261.76492 155.218372 \nL 262.374867 154.461739 \nL 262.984814 154.711025 \nL 264.204708 155.868441 \nL 264.814655 156.111164 \nL 265.424603 156.682098 \nL 266.03455 156.920877 \nL 266.644497 157.485911 \nL 267.254444 157.720827 \nL 268.474338 157.536938 \nL 269.084286 157.769592 \nL 269.694233 157.355231 \nL 270.914127 157.817499 \nL 272.134021 157.636277 \nL 272.743969 157.864551 \nL 273.353916 157.774328 \nL 273.963863 158.317121 \nL 274.57381 157.910777 \nL 275.183757 158.450031 \nL 275.793704 158.359161 \nL 276.403652 158.581406 \nL 277.013599 158.490682 \nL 277.623546 158.711277 \nL 278.233493 159.240526 \nL 279.453387 159.6737 \nL 280.063335 159.581166 \nL 280.673282 160.101977 \nL 281.893176 159.916068 \nL 282.503123 160.431562 \nL 283.11307 160.641199 \nL 283.723018 160.547517 \nL 284.332965 160.153053 \nL 285.552859 160.569224 \nL 286.162806 160.177944 \nL 287.992648 159.906079 \nL 289.212542 159.137792 \nL 289.822489 158.168856 \nL 291.042384 158.000871 \nL 291.652331 158.500735 \nL 292.262278 158.125506 \nL 292.872225 158.042314 \nL 293.482172 157.670301 \nL 294.702067 157.50765 \nL 295.312014 157.140002 \nL 296.531908 158.123211 \nL 298.36175 158.729138 \nL 298.971697 158.364059 \nL 299.581644 158.846095 \nL 300.801538 158.681569 \nL 303.241327 159.467215 \nL 303.851274 159.93784 \nL 304.461221 160.130053 \nL 305.071168 160.045988 \nL 306.291063 160.426971 \nL 306.90101 160.342793 \nL 307.510957 159.441435 \nL 308.120904 159.36015 \nL 308.730851 159.008099 \nL 309.340799 159.198792 \nL 309.950746 159.658378 \nL 310.560693 159.846517 \nL 311.17064 159.496745 \nL 311.780587 159.684352 \nL 312.390534 160.138215 \nL 313.610429 159.975807 \nL 314.830323 160.344119 \nL 316.050217 160.182308 \nL 316.660165 159.839341 \nL 317.270112 159.760044 \nL 317.880059 160.20387 \nL 318.490006 160.384818 \nL 319.099953 160.304793 \nL 319.7099 159.96564 \nL 320.319848 160.404731 \nL 320.929795 160.58348 \nL 321.539742 159.988447 \nL 322.149689 159.910298 \nL 322.759636 160.08895 \nL 323.369583 160.522577 \nL 323.979531 160.69895 \nL 324.589478 160.365244 \nL 325.199425 160.541148 \nL 326.419319 160.384818 \nL 327.029266 160.054958 \nL 327.639214 159.97828 \nL 328.249161 159.650878 \nL 329.469055 160.000311 \nL 330.079002 159.924473 \nL 330.688949 159.351422 \nL 331.298897 159.27741 \nL 331.908844 159.451375 \nL 332.518791 158.883319 \nL 333.128738 159.303918 \nL 333.738685 158.984727 \nL 334.95858 158.840373 \nL 335.568527 159.01298 \nL 336.178474 158.94107 \nL 336.788421 158.626259 \nL 337.398368 158.070212 \nL 338.008315 158.000871 \nL 338.618263 158.415022 \nL 339.838157 158.275743 \nL 340.448104 158.44654 \nL 341.058051 158.856051 \nL 341.667998 158.308053 \nL 342.277946 158.716062 \nL 342.887893 158.646527 \nL 343.49784 159.051998 \nL 344.107787 159.218867 \nL 344.717734 158.91238 \nL 345.937629 159.244567 \nL 346.547576 158.235658 \nL 347.157523 158.402495 \nL 347.76747 158.101067 \nL 348.377417 158.500735 \nL 349.597312 157.901338 \nL 350.207259 157.835328 \nL 350.817206 158.000871 \nL 351.427153 157.934941 \nL 352.0371 158.09958 \nL 353.256995 157.968108 \nL 353.866942 158.131648 \nL 354.476889 158.52283 \nL 355.696783 158.390712 \nL 356.306731 158.551973 \nL 357.526625 158.420549 \nL 358.746519 159.190371 \nL 359.356466 159.348318 \nL 359.966414 159.057397 \nL 361.186308 158.925521 \nL 363.626097 159.55044 \nL 364.236044 159.263251 \nL 364.845991 159.41816 \nL 365.455938 159.352424 \nL 366.065885 159.067385 \nL 366.675832 159.221744 \nL 367.28578 158.938112 \nL 367.895727 159.092115 \nL 368.505674 159.027689 \nL 369.115621 159.1809 \nL 369.725568 158.682685 \nL 369.725568 158.682685 \n\" clip-path=\"url(#pac4765d9b7)\" style=\"fill: none; stroke: #1f77b4; stroke-width: 1.5; stroke-linecap: square\"/>\n   </g>\n   <g id=\"line2d_13\">\n    <path d=\"M 65.361932 127.00957 \nL 66.581826 127.00957 \nL 67.191773 181.244347 \nL 67.80172 148.703478 \nL 68.411668 145.087829 \nL 69.021615 142.505221 \nL 69.631562 154.126967 \nL 70.241509 139.061743 \nL 70.851456 116.162624 \nL 71.461403 107.287835 \nL 72.071351 117.970449 \nL 72.681298 118.665758 \nL 73.291245 127.00957 \nL 73.901192 141.472181 \nL 74.511139 147.347609 \nL 75.121086 139.770694 \nL 75.731034 120.983484 \nL 76.340981 132.718502 \nL 76.950928 121.586097 \nL 77.560875 132.174787 \nL 78.170822 127.00957 \nL 78.780769 131.725643 \nL 79.390717 131.529131 \nL 80.000664 127.00957 \nL 81.830505 127.00957 \nL 82.440452 134.490233 \nL 83.660347 134.007616 \nL 84.270294 130.399241 \nL 84.880241 130.296523 \nL 85.490188 127.00957 \nL 86.100135 127.00957 \nL 86.710083 133.035656 \nL 87.32003 135.804401 \nL 87.929977 135.572959 \nL 89.149871 145.991741 \nL 89.759819 140.237569 \nL 90.369766 142.505221 \nL 92.199607 141.472181 \nL 92.809554 145.873847 \nL 93.419502 143.164616 \nL 94.639396 146.932554 \nL 95.249343 146.534098 \nL 95.85929 144.024402 \nL 96.469237 147.8691 \nL 97.079185 147.475525 \nL 97.689132 145.087829 \nL 99.518973 149.845264 \nL 100.12892 151.32171 \nL 101.348815 150.511318 \nL 101.958762 151.904232 \nL 102.568709 151.502706 \nL 104.398551 155.378534 \nL 105.008498 154.948705 \nL 105.618445 156.150651 \nL 106.228392 152.531818 \nL 106.838339 152.161939 \nL 107.448286 153.352183 \nL 109.278128 147.811963 \nL 109.888075 150.462457 \nL 111.717917 149.548701 \nL 112.327864 152.041006 \nL 112.937811 150.351124 \nL 113.547758 150.059362 \nL 114.157705 148.435653 \nL 114.767652 149.497173 \nL 116.597494 148.703478 \nL 117.207441 149.712499 \nL 117.817388 149.451544 \nL 118.427335 150.429144 \nL 119.037283 152.603518 \nL 120.867124 155.305977 \nL 121.477071 153.835382 \nL 122.087018 155.857854 \nL 123.306913 155.256857 \nL 123.91686 156.083881 \nL 125.136754 155.496525 \nL 126.356649 159.228258 \nL 128.18649 158.298873 \nL 128.796437 159.033928 \nL 129.406384 160.778392 \nL 130.016332 161.47653 \nL 131.846173 160.536526 \nL 132.45612 161.21168 \nL 133.066067 160.906308 \nL 134.285962 162.214608 \nL 134.895909 161.908476 \nL 135.505856 163.47778 \nL 136.115803 162.238998 \nL 136.72575 161.940447 \nL 137.945645 164.973912 \nL 138.555592 164.660168 \nL 139.165539 162.573367 \nL 140.385433 161.99975 \nL 140.995381 163.455345 \nL 141.605328 163.166088 \nL 142.215275 163.735486 \nL 142.825222 162.601151 \nL 143.435169 163.166088 \nL 144.045116 162.05359 \nL 144.655064 161.786072 \nL 145.265011 163.166088 \nL 145.874958 160.447563 \nL 147.704799 162.102661 \nL 148.314747 160.263011 \nL 148.924694 160.02205 \nL 149.534641 160.564908 \nL 150.144588 160.325224 \nL 150.754535 160.858238 \nL 151.97443 160.384818 \nL 152.584377 159.399782 \nL 153.194324 160.672539 \nL 154.414218 158.738771 \nL 155.024165 158.524382 \nL 155.634113 157.584878 \nL 156.24406 157.381044 \nL 156.854007 156.461567 \nL 157.463954 156.267818 \nL 158.073901 156.785526 \nL 158.683848 158.000871 \nL 159.293796 156.401326 \nL 161.123637 155.843259 \nL 161.733584 154.979706 \nL 162.343531 155.482835 \nL 162.953479 156.653424 \nL 163.563426 156.47044 \nL 164.173373 152.962406 \nL 166.613162 157.536938 \nL 167.223109 156.063919 \nL 167.833056 155.892007 \nL 169.662897 157.280153 \nL 170.272845 156.478182 \nL 170.882792 156.308824 \nL 172.102686 157.208485 \nL 173.32258 156.869171 \nL 173.932528 157.914301 \nL 175.152422 158.771372 \nL 175.762369 158.596858 \nL 176.982263 159.432545 \nL 177.592211 158.670966 \nL 178.202158 159.083904 \nL 178.812105 158.91238 \nL 179.422052 159.319661 \nL 180.031999 159.148703 \nL 180.641946 159.55044 \nL 181.251894 158.812168 \nL 181.861841 159.211481 \nL 183.081735 158.879488 \nL 183.691682 159.272319 \nL 186.131471 158.623818 \nL 186.741418 159.55044 \nL 187.351365 158.848891 \nL 187.961312 159.765233 \nL 188.57126 159.603875 \nL 189.181207 159.975807 \nL 189.791154 159.814999 \nL 190.401101 160.708858 \nL 191.011048 160.02205 \nL 192.230943 159.70614 \nL 192.84089 160.066968 \nL 193.450837 159.910298 \nL 194.060784 160.778392 \nL 194.670731 161.129102 \nL 195.280678 161.983409 \nL 195.890626 162.325245 \nL 196.500573 160.655228 \nL 197.11052 161.499902 \nL 197.720467 160.844112 \nL 198.330414 161.680203 \nL 198.940361 160.043483 \nL 200.160256 158.768673 \nL 200.770203 159.599075 \nL 201.38015 159.45359 \nL 202.600044 160.126384 \nL 203.209992 159.024812 \nL 204.429886 159.692547 \nL 205.64978 159.409577 \nL 206.259727 160.205002 \nL 206.869675 159.59699 \nL 208.089569 160.242807 \nL 208.699516 160.101977 \nL 211.139305 161.358264 \nL 211.749252 160.765655 \nL 212.969146 161.380585 \nL 213.579093 160.795169 \nL 214.798988 161.402357 \nL 215.408935 161.263111 \nL 216.018882 161.562373 \nL 216.628829 160.987997 \nL 217.848724 160.717247 \nL 219.068618 161.308255 \nL 220.898459 160.906308 \nL 223.338248 162.05359 \nL 223.948195 161.919322 \nL 224.558142 162.200077 \nL 225.16809 161.24142 \nL 226.387984 160.983051 \nL 226.997931 159.224217 \nL 228.217825 159.793276 \nL 228.827773 160.477869 \nL 229.43772 160.755667 \nL 230.047667 160.631129 \nL 230.657614 159.709954 \nL 231.267561 159.192844 \nL 232.487456 159.747663 \nL 233.097403 158.843024 \nL 233.70735 158.336517 \nL 234.317297 157.443482 \nL 234.927244 157.723171 \nL 236.147139 157.504579 \nL 236.757086 157.781084 \nL 237.367033 157.672354 \nL 237.97698 156.800509 \nL 238.586927 156.315386 \nL 240.416769 157.140002 \nL 241.026716 156.285097 \nL 242.24661 156.829377 \nL 242.856557 155.984315 \nL 243.466505 156.625833 \nL 244.076452 156.525104 \nL 245.296346 157.791477 \nL 245.906293 156.957406 \nL 246.51624 156.856903 \nL 247.126188 157.48263 \nL 247.736135 157.019489 \nL 248.346082 156.19906 \nL 248.956029 156.102404 \nL 249.565976 156.364377 \nL 250.175923 156.981424 \nL 250.785871 157.238791 \nL 251.395818 157.848953 \nL 252.615712 157.648707 \nL 253.225659 158.251611 \nL 253.835606 157.800932 \nL 255.055501 158.298873 \nL 255.665448 158.891998 \nL 256.885342 158.68957 \nL 258.105237 159.174047 \nL 258.715184 157.708511 \nL 259.325131 156.932207 \nL 259.935078 156.499728 \nL 260.545025 156.745781 \nL 261.154972 157.327156 \nL 262.374867 157.80958 \nL 262.984814 157.714798 \nL 263.594761 156.622423 \nL 264.814655 157.103263 \nL 265.424603 156.3524 \nL 266.644497 156.830508 \nL 267.254444 157.39412 \nL 267.864391 157.302879 \nL 269.084286 157.769592 \nL 269.694233 158.323699 \nL 270.30418 157.908919 \nL 271.524074 159.006499 \nL 272.134021 158.91238 \nL 272.743969 159.455012 \nL 273.353916 159.042979 \nL 273.963863 158.000871 \nL 274.57381 158.226106 \nL 275.183757 158.135624 \nL 275.793704 158.672647 \nL 277.013599 159.114065 \nL 277.623546 159.643685 \nL 278.233493 159.55044 \nL 278.84344 159.148703 \nL 279.453387 159.057397 \nL 280.063335 159.273887 \nL 281.283229 158.481016 \nL 281.893176 158.697312 \nL 282.503123 158.608544 \nL 283.723018 159.641083 \nL 284.942912 160.061246 \nL 285.552859 160.569224 \nL 286.772753 160.980804 \nL 287.382701 160.293382 \nL 287.992648 160.202448 \nL 289.822489 160.814452 \nL 292.872225 160.362512 \nL 293.482172 160.85208 \nL 294.092119 160.762067 \nL 294.702067 160.384818 \nL 295.312014 160.870442 \nL 295.921961 161.067293 \nL 296.531908 160.977668 \nL 297.141855 160.31913 \nL 297.751802 160.23193 \nL 298.36175 159.578758 \nL 298.971697 159.493949 \nL 300.191591 159.887653 \nL 300.801538 159.802699 \nL 301.411485 159.159063 \nL 302.021433 159.355252 \nL 302.63138 159.828576 \nL 303.241327 159.744625 \nL 303.851274 158.830998 \nL 306.90101 159.796347 \nL 308.120904 159.631999 \nL 308.730851 160.092797 \nL 309.340799 160.280791 \nL 309.950746 160.198019 \nL 310.560693 160.653984 \nL 312.390534 160.405377 \nL 313.000482 160.589832 \nL 316.050217 160.182308 \nL 317.270112 160.546062 \nL 317.880059 160.465246 \nL 318.490006 159.863327 \nL 319.099953 160.044662 \nL 319.7099 159.96564 \nL 320.319848 159.369234 \nL 320.929795 159.55044 \nL 321.539742 159.988447 \nL 322.149689 159.910298 \nL 322.759636 160.345379 \nL 323.979531 160.69895 \nL 324.589478 161.129102 \nL 325.199425 160.541148 \nL 325.809372 160.716228 \nL 326.419319 160.637659 \nL 327.029266 160.811721 \nL 327.639214 161.236619 \nL 328.249161 161.157403 \nL 328.859108 161.329041 \nL 329.469055 160.500174 \nL 330.688949 160.346543 \nL 331.908844 159.699028 \nL 332.518791 159.871651 \nL 333.128738 159.303918 \nL 333.738685 159.230682 \nL 334.95858 160.064624 \nL 336.178474 158.94107 \nL 336.788421 159.112675 \nL 337.398368 159.040845 \nL 338.008315 159.211481 \nL 338.618263 158.898173 \nL 339.838157 159.718796 \nL 341.058051 160.053277 \nL 341.667998 160.458344 \nL 342.277946 160.146426 \nL 342.887893 160.073756 \nL 343.49784 160.238767 \nL 344.107787 159.92937 \nL 345.937629 160.421023 \nL 346.547576 160.818267 \nL 347.157523 160.745241 \nL 348.377417 160.133609 \nL 349.597312 159.99176 \nL 350.207259 159.689508 \nL 350.817206 160.082387 \nL 351.427153 160.242807 \nL 352.0371 160.632842 \nL 352.647048 160.791403 \nL 353.256995 160.719994 \nL 353.866942 160.877699 \nL 354.476889 160.578049 \nL 355.086836 160.735398 \nL 355.696783 160.4373 \nL 356.916678 160.750624 \nL 357.526625 160.002396 \nL 358.136572 160.384818 \nL 358.746519 160.315574 \nL 359.356466 160.695766 \nL 359.966414 160.850286 \nL 361.186308 161.603767 \nL 361.796255 161.310017 \nL 362.406202 161.461999 \nL 363.016149 161.16972 \nL 364.845991 161.622823 \nL 365.455938 161.332597 \nL 366.065885 161.702266 \nL 366.675832 161.851307 \nL 367.895727 161.711107 \nL 369.115621 162.441507 \nL 369.725568 162.58759 \nL 369.725568 162.58759 \n\" clip-path=\"url(#pac4765d9b7)\" style=\"fill: none; stroke: #ff7f0e; stroke-width: 1.5; stroke-linecap: square\"/>\n   </g>\n   <g id=\"line2d_14\">\n    <path d=\"M 65.361932 127.00957 \nL 65.971879 18.54 \nL 66.581826 90.853052 \nL 67.191773 72.774793 \nL 67.80172 105.315663 \nL 68.411668 108.931311 \nL 69.021615 142.505221 \nL 69.631562 140.568268 \nL 70.241509 127.00957 \nL 71.461403 146.731306 \nL 72.681298 143.697194 \nL 73.291245 142.505221 \nL 73.901192 134.240883 \nL 74.511139 120.230229 \nL 75.731034 133.035656 \nL 76.340981 132.718502 \nL 76.950928 143.280005 \nL 78.170822 141.800876 \nL 78.780769 145.873847 \nL 79.390717 145.087829 \nL 80.000664 148.703478 \nL 80.610611 156.212912 \nL 81.220558 151.113915 \nL 81.830505 150.253046 \nL 82.440452 145.711229 \nL 83.660347 151.502706 \nL 84.880241 143.444353 \nL 85.490188 149.341537 \nL 86.100135 145.604357 \nL 86.710083 139.061743 \nL 87.32003 135.804401 \nL 87.929977 138.427417 \nL 88.539924 132.572111 \nL 89.149871 135.144796 \nL 90.979713 134.577224 \nL 91.58966 136.870446 \nL 92.809554 136.441717 \nL 93.419502 140.85675 \nL 94.639396 135.864237 \nL 95.85929 139.770694 \nL 96.469237 143.697194 \nL 97.079185 145.428938 \nL 97.689132 145.087829 \nL 98.299079 148.703478 \nL 99.518973 147.942303 \nL 100.12892 149.451544 \nL 100.738868 152.748114 \nL 101.348815 152.319142 \nL 101.958762 148.347854 \nL 102.568709 149.753198 \nL 103.178656 147.670438 \nL 103.788603 149.042453 \nL 104.398551 148.703478 \nL 105.618445 151.293796 \nL 106.228392 150.936686 \nL 106.838339 152.161939 \nL 107.448286 151.802614 \nL 109.278128 155.241373 \nL 110.498022 154.488522 \nL 111.107969 155.554196 \nL 111.717917 155.183492 \nL 112.327864 156.212912 \nL 114.157705 163.166088 \nL 114.767652 162.725155 \nL 115.987547 164.4574 \nL 117.207441 161.063964 \nL 117.817388 163.166088 \nL 119.037283 159.916068 \nL 119.64723 160.755667 \nL 120.257177 160.384818 \nL 121.477071 161.99975 \nL 122.087018 161.627511 \nL 123.306913 165.425868 \nL 123.91686 165.029837 \nL 124.526807 163.53503 \nL 125.136754 163.166088 \nL 128.18649 166.642684 \nL 128.796437 167.298265 \nL 129.406384 164.871583 \nL 130.016332 166.545204 \nL 130.626279 166.179139 \nL 131.236226 162.834386 \nL 131.846173 160.536526 \nL 133.066067 159.93784 \nL 134.285962 157.457173 \nL 134.895909 158.135624 \nL 135.505856 157.867298 \nL 136.72575 155.505819 \nL 137.335698 156.177854 \nL 137.945645 157.742615 \nL 138.555592 157.488626 \nL 139.775486 158.756761 \nL 140.385433 160.250243 \nL 140.995381 159.984325 \nL 141.605328 161.444349 \nL 142.825222 162.601151 \nL 143.435169 162.325245 \nL 144.655064 163.442091 \nL 145.265011 163.166088 \nL 145.874958 162.078675 \nL 146.484905 163.435917 \nL 147.094852 162.362614 \nL 147.704799 163.69781 \nL 148.924694 164.738123 \nL 149.534641 163.686334 \nL 150.754535 163.166088 \nL 151.364482 163.675343 \nL 151.97443 164.935993 \nL 152.584377 163.919359 \nL 153.804271 163.413741 \nL 155.024165 164.387591 \nL 155.634113 165.592705 \nL 156.24406 163.889231 \nL 158.073901 165.292942 \nL 158.683848 163.635662 \nL 159.293796 164.099159 \nL 161.123637 163.394927 \nL 163.563426 165.174789 \nL 164.173373 166.271561 \nL 166.003214 165.562011 \nL 166.613162 162.733075 \nL 167.223109 160.58348 \nL 167.833056 161.668485 \nL 168.443003 162.102661 \nL 169.05295 161.263111 \nL 169.662897 161.063964 \nL 170.272845 160.240124 \nL 170.882792 161.295922 \nL 172.102686 162.138915 \nL 172.712633 163.166088 \nL 173.32258 163.572351 \nL 173.932528 162.762105 \nL 174.542475 163.166088 \nL 175.152422 162.367059 \nL 175.762369 160.980804 \nL 177.592211 162.188892 \nL 178.202158 161.99975 \nL 178.812105 160.072496 \nL 179.422052 159.896623 \nL 180.641946 160.692226 \nL 181.251894 161.651691 \nL 181.861841 161.471261 \nL 182.471788 162.416729 \nL 183.081735 161.675095 \nL 183.691682 161.497332 \nL 184.301629 160.767951 \nL 186.131471 160.259035 \nL 186.741418 160.635137 \nL 187.351365 160.467848 \nL 187.961312 159.765233 \nL 188.57126 160.138215 \nL 189.181207 159.975807 \nL 191.011048 161.070057 \nL 191.620995 161.949288 \nL 192.230943 161.782112 \nL 192.84089 162.649576 \nL 194.060784 163.336642 \nL 194.670731 162.65685 \nL 196.500573 163.668263 \nL 197.11052 163.499325 \nL 198.940361 165.959998 \nL 199.550309 166.274567 \nL 200.160256 166.097709 \nL 203.209992 167.625926 \nL 203.819939 166.496294 \nL 204.429886 165.850202 \nL 205.039833 165.681328 \nL 205.64978 166.453058 \nL 206.259727 166.750574 \nL 206.869675 166.58002 \nL 207.479622 165.947359 \nL 208.089569 165.78167 \nL 208.699516 165.157769 \nL 210.529358 166.040459 \nL 211.139305 165.877825 \nL 211.749252 166.166629 \nL 212.359199 166.004835 \nL 212.969146 165.397971 \nL 213.579093 165.685191 \nL 214.189041 165.084598 \nL 214.798988 164.929819 \nL 215.408935 165.654594 \nL 216.018882 165.936141 \nL 219.068618 165.166853 \nL 219.678565 165.443664 \nL 220.288512 166.143693 \nL 220.898459 166.414524 \nL 221.508407 167.105324 \nL 222.118354 166.109072 \nL 222.728301 165.958107 \nL 223.338248 166.225496 \nL 223.948195 166.075242 \nL 224.558142 166.754146 \nL 225.16809 165.778162 \nL 225.778037 165.631303 \nL 226.387984 165.076242 \nL 226.997931 164.933149 \nL 227.607878 164.38486 \nL 228.217825 164.650131 \nL 228.827773 163.703742 \nL 229.43772 163.567825 \nL 230.047667 163.032677 \nL 230.657614 163.69781 \nL 231.267561 163.960737 \nL 232.487456 163.692007 \nL 233.097403 164.345115 \nL 233.70735 164.601916 \nL 234.927244 164.332426 \nL 235.537191 164.973912 \nL 236.147139 164.83882 \nL 236.757086 163.935377 \nL 237.97698 164.439217 \nL 238.586927 165.069065 \nL 239.196874 165.315264 \nL 239.806822 165.181788 \nL 240.416769 165.425868 \nL 241.026716 164.54229 \nL 241.636663 165.160937 \nL 242.24661 165.029837 \nL 242.856557 165.271089 \nL 243.466505 165.140507 \nL 244.076452 165.379755 \nL 244.686399 164.514295 \nL 245.296346 165.120497 \nL 245.906293 165.357401 \nL 246.51624 164.86473 \nL 247.126188 164.738123 \nL 247.736135 164.973912 \nL 248.956029 166.159178 \nL 249.565976 166.387968 \nL 250.175923 166.972042 \nL 250.785871 166.485384 \nL 251.395818 166.356369 \nL 252.005765 166.934851 \nL 252.615712 166.805222 \nL 253.835606 167.248288 \nL 254.445554 167.118902 \nL 255.055501 166.642684 \nL 255.665448 167.209157 \nL 256.275395 167.081128 \nL 256.885342 167.298265 \nL 258.105237 167.044082 \nL 259.325131 167.473135 \nL 259.935078 167.34669 \nL 260.545025 167.558945 \nL 262.374867 167.18349 \nL 262.984814 166.726119 \nL 263.594761 167.269753 \nL 264.204708 167.146621 \nL 264.814655 167.685665 \nL 265.424603 167.562016 \nL 266.03455 167.110448 \nL 266.644497 167.644691 \nL 267.864391 167.400643 \nL 268.474338 167.604461 \nL 269.694233 167.362837 \nL 270.30418 167.564958 \nL 270.914127 167.124058 \nL 271.524074 166.365792 \nL 272.134021 165.931002 \nL 272.743969 165.816857 \nL 274.57381 166.424384 \nL 275.183757 166.93894 \nL 277.013599 165.659653 \nL 277.623546 165.859706 \nL 278.233493 164.818956 \nL 278.84344 164.402219 \nL 280.673282 165.004558 \nL 283.11307 164.580031 \nL 283.723018 163.871096 \nL 285.552859 164.464528 \nL 286.162806 164.062533 \nL 286.772753 164.258738 \nL 287.382701 164.156684 \nL 287.992648 163.758826 \nL 288.602595 163.658695 \nL 289.212542 163.853849 \nL 290.432436 163.068365 \nL 291.042384 163.263552 \nL 291.652331 163.166088 \nL 292.262278 162.778349 \nL 292.872225 162.682711 \nL 293.482172 161.719835 \nL 294.702067 162.111131 \nL 295.312014 162.018273 \nL 295.921961 161.639698 \nL 297.141855 162.027308 \nL 297.751802 161.93563 \nL 298.971697 162.88362 \nL 299.581644 162.226956 \nL 300.191591 162.416729 \nL 300.801538 162.044958 \nL 301.411485 161.954671 \nL 302.63138 162.33171 \nL 303.241327 162.796209 \nL 303.851274 162.981617 \nL 304.461221 163.442091 \nL 305.071168 163.349622 \nL 306.291063 164.261745 \nL 306.90101 164.167917 \nL 307.510957 164.619615 \nL 308.120904 163.981652 \nL 308.730851 163.075703 \nL 309.340799 163.526754 \nL 309.950746 162.896275 \nL 310.560693 162.538066 \nL 311.17064 162.718609 \nL 313.000482 161.655877 \nL 314.220376 161.486454 \nL 314.830323 161.666917 \nL 316.050217 161.498674 \nL 316.660165 161.677811 \nL 317.270112 161.332063 \nL 317.880059 160.726621 \nL 319.099953 161.085138 \nL 319.7099 160.484625 \nL 320.319848 160.14586 \nL 321.539742 160.50373 \nL 322.149689 160.93844 \nL 322.759636 160.345379 \nL 323.369583 160.01093 \nL 323.979531 159.422831 \nL 324.589478 159.346751 \nL 325.199425 159.779068 \nL 325.809372 159.702503 \nL 327.029266 160.559461 \nL 327.639214 160.73328 \nL 328.249161 161.157403 \nL 328.859108 160.828029 \nL 329.469055 161.24997 \nL 330.079002 161.171255 \nL 330.688949 161.590465 \nL 331.298897 161.759548 \nL 331.908844 161.184913 \nL 332.518791 161.601229 \nL 333.128738 161.522612 \nL 333.738685 161.690321 \nL 334.348632 160.87563 \nL 334.95858 160.799194 \nL 335.568527 160.967389 \nL 338.008315 162.601151 \nL 338.618263 162.280295 \nL 339.22821 162.201919 \nL 340.448104 162.526154 \nL 341.058051 161.968862 \nL 341.667998 162.130769 \nL 343.49784 161.900217 \nL 344.107787 162.060879 \nL 344.717734 161.984508 \nL 345.327681 162.144281 \nL 346.547576 161.522612 \nL 347.157523 161.682353 \nL 347.76747 162.075167 \nL 348.377417 162.233018 \nL 348.987365 162.157438 \nL 349.597312 162.546713 \nL 350.207259 162.470779 \nL 350.817206 162.626447 \nL 351.427153 162.319879 \nL 352.0371 162.244914 \nL 352.647048 161.940447 \nL 353.256995 161.866597 \nL 353.866942 161.335377 \nL 354.476889 161.034757 \nL 355.086836 160.963283 \nL 355.696783 161.119501 \nL 356.306731 161.04814 \nL 356.916678 160.29773 \nL 357.526625 160.68033 \nL 358.136572 160.610327 \nL 358.746519 160.315574 \nL 359.966414 160.177944 \nL 360.576361 160.556859 \nL 361.186308 160.264644 \nL 361.796255 160.419084 \nL 362.406202 160.350632 \nL 363.016149 160.504264 \nL 363.626097 160.878636 \nL 364.236044 161.030571 \nL 364.845991 160.520492 \nL 365.455938 160.892553 \nL 366.065885 160.604395 \nL 366.675832 160.09826 \nL 367.28578 160.250243 \nL 367.895727 159.965107 \nL 369.115621 159.833021 \nL 369.725568 159.984325 \nL 369.725568 159.984325 \n\" clip-path=\"url(#pac4765d9b7)\" style=\"fill: none; stroke: #2ca02c; stroke-width: 1.5; stroke-linecap: square\"/>\n   </g>\n   <g id=\"line2d_15\">\n    <path d=\"M 65.361932 235.479132 \nL 65.971879 235.479132 \nL 66.581826 199.322606 \nL 67.191773 154.126967 \nL 67.80172 170.397401 \nL 68.411668 163.166088 \nL 69.021615 173.496522 \nL 69.631562 154.126967 \nL 70.241509 139.061743 \nL 71.461403 176.313917 \nL 72.681298 185.416253 \nL 73.291245 181.244347 \nL 74.511139 188.023704 \nL 75.121086 190.81519 \nL 76.340981 184.098821 \nL 76.950928 186.667836 \nL 77.560875 183.826956 \nL 78.170822 186.174793 \nL 78.780769 193.03453 \nL 79.390717 194.803045 \nL 80.000664 192.091309 \nL 81.220558 195.305221 \nL 81.830505 192.866093 \nL 82.440452 183.114513 \nL 83.0504 188.47566 \nL 84.270294 184.634034 \nL 84.880241 186.174793 \nL 85.490188 184.434628 \nL 86.100135 185.893052 \nL 86.710083 172.205226 \nL 87.32003 165.120497 \nL 87.929977 169.8265 \nL 88.539924 171.5099 \nL 89.759819 169.339163 \nL 90.979713 172.415428 \nL 91.58966 168.918272 \nL 93.419502 173.166841 \nL 94.029449 172.205226 \nL 94.639396 173.496522 \nL 96.469237 170.81459 \nL 97.079185 167.94148 \nL 97.689132 167.18349 \nL 98.299079 162.508697 \nL 98.909026 159.93784 \nL 99.518973 161.263111 \nL 100.12892 164.412871 \nL 100.738868 165.617387 \nL 101.348815 163.166088 \nL 101.958762 164.351547 \nL 103.788603 162.601151 \nL 104.398551 163.722345 \nL 105.008498 161.522612 \nL 105.618445 164.245387 \nL 106.228392 165.292942 \nL 106.838339 164.738123 \nL 107.448286 167.298265 \nL 108.058234 168.258554 \nL 108.668181 170.6987 \nL 111.107969 162.690356 \nL 111.717917 165.044352 \nL 112.327864 161.775453 \nL 112.937811 161.335377 \nL 114.157705 155.131317 \nL 114.767652 156.111164 \nL 115.3776 155.760535 \nL 115.987547 156.709575 \nL 116.597494 156.360159 \nL 117.207441 157.280153 \nL 117.817388 156.932207 \nL 118.427335 155.359574 \nL 119.037283 156.259785 \nL 119.64723 155.934791 \nL 120.257177 156.808898 \nL 120.867124 156.485003 \nL 121.477071 158.500735 \nL 122.087018 158.16572 \nL 123.306913 159.776418 \nL 123.91686 161.675095 \nL 124.526807 161.321379 \nL 125.136754 159.879135 \nL 125.746701 159.55044 \nL 126.356649 158.154293 \nL 126.966596 158.91238 \nL 127.576543 158.602644 \nL 128.18649 157.255892 \nL 129.406384 156.685201 \nL 130.016332 157.421597 \nL 130.626279 157.140002 \nL 131.236226 158.853853 \nL 133.676015 161.566252 \nL 134.285962 161.263111 \nL 134.895909 161.908476 \nL 135.505856 161.60763 \nL 136.115803 162.238998 \nL 136.72575 161.940447 \nL 137.335698 158.91238 \nL 137.945645 155.030879 \nL 138.555592 155.695737 \nL 139.165539 154.571504 \nL 140.385433 155.876474 \nL 142.215275 155.19458 \nL 142.825222 155.821794 \nL 143.435169 157.280153 \nL 144.045116 156.212912 \nL 144.655064 155.989988 \nL 145.265011 154.948705 \nL 145.874958 156.36976 \nL 146.484905 156.960121 \nL 147.094852 155.934791 \nL 147.704799 155.722099 \nL 148.314747 157.096022 \nL 149.534641 156.663122 \nL 150.144588 158.000871 \nL 150.754535 157.011795 \nL 151.364482 156.800509 \nL 152.584377 154.880221 \nL 153.194324 154.688008 \nL 156.854007 157.898251 \nL 157.463954 158.408653 \nL 158.073901 158.203429 \nL 158.683848 157.296526 \nL 159.293796 157.101129 \nL 159.903743 158.298873 \nL 161.733584 157.708511 \nL 162.343531 158.872505 \nL 162.953479 157.327156 \nL 163.563426 156.47044 \nL 164.78332 157.433962 \nL 166.003214 157.067397 \nL 166.613162 157.536938 \nL 167.223109 158.646527 \nL 167.833056 157.175658 \nL 168.443003 156.998218 \nL 169.05295 157.457173 \nL 169.662897 156.649513 \nL 170.272845 157.732158 \nL 172.102686 159.057397 \nL 172.712633 158.876336 \nL 173.32258 159.306682 \nL 174.542475 158.947826 \nL 175.152422 159.370656 \nL 175.762369 160.384818 \nL 176.372316 160.202448 \nL 177.592211 161.01625 \nL 178.202158 160.833412 \nL 178.812105 161.812644 \nL 179.422052 162.204489 \nL 180.031999 160.296534 \nL 180.641946 161.263111 \nL 181.861841 160.906308 \nL 182.471788 159.606639 \nL 183.081735 159.997741 \nL 183.691682 159.828576 \nL 184.911577 161.697805 \nL 185.521524 161.522612 \nL 186.741418 162.262176 \nL 189.791154 161.402357 \nL 191.620995 164.035233 \nL 192.84089 164.715656 \nL 193.450837 164.536956 \nL 194.060784 162.824996 \nL 194.670731 163.166088 \nL 195.280678 162.997134 \nL 197.11052 163.999189 \nL 197.720467 163.829524 \nL 198.330414 164.156684 \nL 198.940361 164.973912 \nL 199.550309 165.292942 \nL 200.160256 164.631899 \nL 200.770203 163.490371 \nL 201.38015 163.32751 \nL 201.990097 164.130273 \nL 203.209992 164.758893 \nL 203.819939 164.117585 \nL 204.429886 163.955532 \nL 205.039833 164.266513 \nL 206.259727 163.945333 \nL 206.869675 164.252338 \nL 207.479622 165.020269 \nL 208.699516 164.698152 \nL 209.309463 163.166088 \nL 211.749252 164.366304 \nL 212.359199 164.211946 \nL 212.969146 164.951607 \nL 213.579093 163.90701 \nL 214.798988 165.370752 \nL 215.408935 165.215456 \nL 216.018882 164.624011 \nL 216.628829 164.472949 \nL 217.848724 165.903039 \nL 218.458671 164.887827 \nL 220.288512 164.442207 \nL 220.898459 164.719697 \nL 223.338248 164.139534 \nL 224.558142 165.512132 \nL 225.16809 165.778162 \nL 225.778037 165.631303 \nL 226.387984 166.30421 \nL 226.997931 166.564261 \nL 227.607878 166.009862 \nL 228.827773 166.526358 \nL 229.43772 166.38 \nL 230.047667 166.634991 \nL 230.657614 166.489295 \nL 231.267561 166.742007 \nL 232.487456 165.664179 \nL 233.097403 165.524125 \nL 233.70735 164.993502 \nL 234.317297 165.247039 \nL 234.927244 164.721217 \nL 235.537191 163.42436 \nL 236.147139 163.294764 \nL 237.367033 163.804907 \nL 237.97698 164.439217 \nL 239.196874 163.418929 \nL 239.806822 163.670025 \nL 240.416769 163.166088 \nL 241.026716 163.416311 \nL 241.636663 162.916738 \nL 242.856557 163.413741 \nL 243.466505 163.289494 \nL 244.076452 162.797146 \nL 244.686399 161.940447 \nL 245.296346 161.822439 \nL 247.126188 162.56147 \nL 247.736135 162.08139 \nL 248.346082 161.964886 \nL 248.956029 161.489962 \nL 250.175923 162.690356 \nL 250.785871 162.573367 \nL 251.395818 162.102661 \nL 252.005765 162.694995 \nL 252.615712 162.579137 \nL 253.225659 162.815055 \nL 255.055501 162.470779 \nL 255.665448 162.70403 \nL 256.275395 162.244914 \nL 257.495289 162.021893 \nL 258.105237 161.569275 \nL 258.715184 162.142794 \nL 259.325131 162.032658 \nL 259.935078 162.601151 \nL 260.545025 162.82818 \nL 261.76492 162.606388 \nL 262.374867 163.166088 \nL 262.984814 163.054837 \nL 263.594761 163.277 \nL 264.204708 162.834386 \nL 264.814655 162.063756 \nL 265.424603 161.627511 \nL 266.03455 161.851307 \nL 266.644497 159.452135 \nL 267.864391 159.908746 \nL 268.474338 159.810247 \nL 269.084286 159.064751 \nL 270.914127 158.780246 \nL 272.134021 159.869469 \nL 272.743969 159.13692 \nL 273.963863 159.582071 \nL 274.57381 160.118011 \nL 275.183757 159.707643 \nL 275.793704 159.613137 \nL 276.403652 159.206583 \nL 277.013599 159.114065 \nL 277.623546 158.400475 \nL 278.233493 158.310785 \nL 278.84344 158.839678 \nL 279.453387 158.441093 \nL 280.063335 158.659329 \nL 281.283229 159.703214 \nL 283.11307 159.429248 \nL 283.723018 159.943222 \nL 284.332965 159.851738 \nL 284.942912 160.361704 \nL 285.552859 159.96994 \nL 286.162806 159.879135 \nL 286.772753 159.490846 \nL 287.382701 159.996205 \nL 288.602595 159.816438 \nL 290.432436 161.309402 \nL 291.652331 161.124996 \nL 293.482172 161.719835 \nL 294.092119 162.204489 \nL 294.702067 162.111131 \nL 295.312014 161.731311 \nL 295.921961 161.639698 \nL 296.531908 161.834012 \nL 297.141855 161.45791 \nL 297.751802 161.651691 \nL 298.971697 160.906308 \nL 299.581644 161.100008 \nL 300.191591 160.730678 \nL 300.801538 161.204115 \nL 301.411485 161.395536 \nL 302.021433 161.864835 \nL 303.851274 161.598078 \nL 304.461221 161.234066 \nL 305.681116 162.1592 \nL 308.120904 162.894239 \nL 308.730851 163.346874 \nL 309.340799 162.715263 \nL 309.950746 163.166088 \nL 310.560693 162.807216 \nL 311.17064 163.255584 \nL 311.780587 163.433913 \nL 312.390534 162.809867 \nL 313.000482 163.254937 \nL 313.610429 163.431957 \nL 314.220376 163.87331 \nL 316.050217 164.394719 \nL 316.660165 164.304189 \nL 317.270112 164.738123 \nL 318.490006 164.556723 \nL 319.099953 164.986924 \nL 319.7099 165.155571 \nL 320.319848 165.58228 \nL 320.929795 165.232185 \nL 321.539742 165.399038 \nL 322.759636 164.704665 \nL 323.369583 164.871583 \nL 323.979531 164.782508 \nL 324.589478 164.948455 \nL 325.199425 164.859606 \nL 325.809372 164.517738 \nL 326.419319 163.924628 \nL 327.029266 163.586526 \nL 327.639214 163.501653 \nL 328.249161 163.919359 \nL 328.859108 163.834114 \nL 330.079002 164.163521 \nL 330.688949 164.078292 \nL 331.298897 164.241686 \nL 331.908844 164.156684 \nL 332.518791 164.566227 \nL 333.128738 164.727391 \nL 333.738685 164.641871 \nL 334.348632 165.047536 \nL 334.95858 164.961677 \nL 337.398368 165.592705 \nL 338.008315 165.506588 \nL 338.618263 165.662417 \nL 339.838157 165.009989 \nL 340.448104 164.925924 \nL 341.058051 165.081673 \nL 341.667998 165.475651 \nL 342.277946 165.629509 \nL 343.49784 165.46049 \nL 344.107787 165.613362 \nL 344.717734 166.001893 \nL 345.327681 165.445523 \nL 345.937629 165.597441 \nL 346.547576 165.983484 \nL 347.76747 166.283037 \nL 348.377417 165.498765 \nL 348.987365 165.648937 \nL 349.597312 166.030745 \nL 350.207259 165.715594 \nL 350.817206 165.864344 \nL 351.427153 166.243243 \nL 352.0371 165.469057 \nL 352.647048 165.617387 \nL 353.866942 165.454477 \nL 354.476889 165.601902 \nL 355.086836 165.520827 \nL 355.696783 165.894893 \nL 356.306731 165.359696 \nL 356.916678 165.732533 \nL 357.526625 165.877825 \nL 358.136572 165.797025 \nL 358.746519 165.941588 \nL 359.356466 165.636411 \nL 359.966414 165.780716 \nL 360.576361 166.148074 \nL 361.186308 166.067548 \nL 361.796255 166.432805 \nL 362.406202 166.574298 \nL 363.016149 166.493385 \nL 363.626097 166.634166 \nL 364.236044 166.332545 \nL 364.845991 166.252634 \nL 366.065885 166.532888 \nL 366.675832 166.891307 \nL 367.895727 167.16731 \nL 369.115621 166.571615 \nL 369.725568 166.926365 \nL 369.725568 166.926365 \n\" clip-path=\"url(#pac4765d9b7)\" style=\"fill: none; stroke: #d62728; stroke-width: 1.5; stroke-linecap: square\"/>\n   </g>\n   <g id=\"line2d_16\">\n    <path d=\"M 65.361932 127.00957 \nL 65.971879 181.244347 \nL 66.581826 127.00957 \nL 67.191773 181.244347 \nL 67.80172 192.091309 \nL 68.411668 163.166088 \nL 69.021615 173.496522 \nL 69.631562 181.244347 \nL 70.241509 187.270433 \nL 70.851456 192.091309 \nL 71.461403 186.174793 \nL 72.071351 163.166088 \nL 72.681298 152.041006 \nL 73.291245 127.00957 \nL 73.901192 134.240883 \nL 74.511139 133.788927 \nL 75.121086 120.629008 \nL 75.731034 127.00957 \nL 76.340981 115.591723 \nL 77.560875 116.679136 \nL 78.170822 127.00957 \nL 78.780769 122.293513 \nL 79.390717 122.490009 \nL 80.000664 131.348361 \nL 81.220558 139.061743 \nL 81.830505 146.379141 \nL 82.440452 149.451544 \nL 83.0504 145.087829 \nL 83.660347 144.50466 \nL 85.490188 162.102661 \nL 87.32003 176.846932 \nL 88.539924 179.853712 \nL 89.149871 178.532611 \nL 89.759819 182.567145 \nL 90.979713 174.93799 \nL 92.199607 177.628699 \nL 94.029449 174.465006 \nL 95.249343 176.905572 \nL 95.85929 180.18092 \nL 96.469237 179.158402 \nL 98.299079 182.230433 \nL 98.909026 185.118268 \nL 99.518973 186.001798 \nL 100.12892 183.114513 \nL 100.738868 178.486659 \nL 101.348815 179.436523 \nL 101.958762 178.577076 \nL 102.568709 179.49484 \nL 103.178656 178.661739 \nL 103.788603 176.159849 \nL 104.398551 177.072441 \nL 105.008498 179.600871 \nL 106.838339 172.598234 \nL 107.448286 173.496522 \nL 108.058234 175.897262 \nL 109.278128 177.52965 \nL 110.498022 181.96749 \nL 111.107969 179.817118 \nL 111.717917 180.540002 \nL 112.327864 179.853712 \nL 114.157705 181.913925 \nL 114.767652 179.921549 \nL 115.3776 180.590916 \nL 115.987547 182.535659 \nL 116.597494 183.158525 \nL 117.207441 181.244347 \nL 118.427335 182.476955 \nL 119.037283 180.634977 \nL 120.867124 182.423374 \nL 121.477071 180.661178 \nL 122.087018 181.244347 \nL 122.696966 179.531676 \nL 123.306913 180.114457 \nL 123.91686 178.44874 \nL 125.136754 181.792183 \nL 125.746701 181.244347 \nL 126.966596 184.434628 \nL 127.576543 184.930209 \nL 128.18649 186.459234 \nL 129.406384 185.337538 \nL 130.016332 183.778692 \nL 131.846173 185.188707 \nL 134.285962 183.147324 \nL 134.895909 181.715958 \nL 135.505856 181.244347 \nL 136.115803 181.707892 \nL 136.72575 183.082817 \nL 137.945645 183.9561 \nL 138.555592 182.589014 \nL 139.165539 183.022544 \nL 139.775486 180.803414 \nL 140.385433 180.369593 \nL 140.995381 179.074968 \nL 141.605328 179.522608 \nL 142.215275 177.400943 \nL 142.825222 178.702098 \nL 143.435169 177.460536 \nL 144.045116 178.741213 \nL 144.655064 177.518304 \nL 145.265011 175.492179 \nL 145.874958 175.943214 \nL 146.484905 174.768551 \nL 147.094852 174.414787 \nL 147.704799 174.863785 \nL 148.924694 174.170254 \nL 149.534641 173.050611 \nL 150.754535 173.936113 \nL 151.97443 173.279805 \nL 152.584377 174.465006 \nL 153.194324 174.885799 \nL 153.804271 176.043765 \nL 155.634113 175.056499 \nL 156.854007 175.856789 \nL 157.463954 175.535432 \nL 158.073901 175.927212 \nL 158.683848 177.018262 \nL 159.293796 177.395431 \nL 159.903743 176.377132 \nL 161.123637 177.125263 \nL 162.343531 176.498808 \nL 162.953479 176.865148 \nL 163.563426 176.5574 \nL 164.173373 177.584331 \nL 164.78332 177.275952 \nL 165.393267 175.656527 \nL 166.613162 175.073923 \nL 167.833056 175.78879 \nL 168.443003 175.501845 \nL 169.05295 175.852587 \nL 170.272845 177.795907 \nL 170.882792 178.127415 \nL 171.492739 176.595658 \nL 172.712633 176.03536 \nL 173.932528 176.699539 \nL 174.542475 176.423488 \nL 175.152422 176.749759 \nL 175.762369 177.668428 \nL 176.372316 177.391616 \nL 176.982263 175.349264 \nL 177.592211 174.501648 \nL 178.202158 173.079979 \nL 178.812105 173.413669 \nL 179.422052 173.166841 \nL 180.031999 174.070446 \nL 180.641946 173.822744 \nL 181.251894 173.00975 \nL 185.521524 175.218261 \nL 186.741418 174.736176 \nL 187.351365 175.578038 \nL 188.57126 176.16819 \nL 189.181207 175.927212 \nL 189.791154 174.630356 \nL 190.401101 172.819541 \nL 191.011048 173.12223 \nL 192.230943 172.680974 \nL 192.84089 171.430442 \nL 193.450837 171.733987 \nL 194.060784 171.011378 \nL 195.280678 171.613878 \nL 195.890626 170.901904 \nL 196.500573 171.200875 \nL 197.11052 169.997507 \nL 197.720467 169.800316 \nL 198.330414 169.109629 \nL 198.940361 169.411315 \nL 199.550309 169.219442 \nL 200.770203 169.813699 \nL 201.38015 169.138383 \nL 201.990097 167.986964 \nL 202.600044 167.325694 \nL 203.209992 167.148092 \nL 204.429886 167.744871 \nL 205.039833 168.510975 \nL 206.869675 166.58002 \nL 207.479622 166.410904 \nL 208.089569 165.78167 \nL 208.699516 165.617387 \nL 209.309463 165.912155 \nL 209.91941 165.748697 \nL 210.529358 164.678917 \nL 211.139305 164.973912 \nL 211.749252 164.816386 \nL 212.359199 165.10839 \nL 213.579093 166.574298 \nL 214.189041 165.527341 \nL 215.408935 164.337162 \nL 216.018882 164.186634 \nL 216.628829 164.472949 \nL 217.848724 164.174447 \nL 218.458671 164.4574 \nL 219.068618 163.880648 \nL 219.678565 163.735486 \nL 220.898459 162.601151 \nL 221.508407 162.462665 \nL 222.118354 162.745667 \nL 222.728301 162.188892 \nL 223.338248 162.05359 \nL 223.948195 161.503717 \nL 224.558142 161.786072 \nL 225.778037 163.166088 \nL 226.387984 163.029654 \nL 227.607878 164.38486 \nL 228.217825 164.650131 \nL 229.43772 164.371315 \nL 230.657614 164.894163 \nL 231.267561 163.960737 \nL 231.877508 164.617626 \nL 232.487456 164.875317 \nL 233.097403 164.345115 \nL 233.70735 164.601916 \nL 234.317297 164.466694 \nL 236.147139 162.908753 \nL 237.97698 164.821138 \nL 238.586927 165.069065 \nL 239.196874 164.556723 \nL 239.806822 163.670025 \nL 241.026716 164.917616 \nL 242.24661 163.911585 \nL 242.856557 163.042278 \nL 244.076452 163.53503 \nL 244.686399 164.146614 \nL 245.296346 164.021139 \nL 248.346082 165.20815 \nL 248.956029 165.800015 \nL 249.565976 165.671986 \nL 250.175923 164.831191 \nL 250.785871 164.351547 \nL 251.395818 164.583991 \nL 252.005765 164.461603 \nL 252.615712 164.692187 \nL 253.225659 164.570236 \nL 253.835606 165.148863 \nL 255.055501 165.599704 \nL 255.665448 164.783316 \nL 256.275395 165.35391 \nL 256.885342 165.232185 \nL 257.495289 165.797736 \nL 258.715184 165.553784 \nL 259.325131 165.77299 \nL 259.935078 165.312888 \nL 260.545025 165.531479 \nL 261.154972 164.738123 \nL 261.76492 164.621312 \nL 262.374867 164.84 \nL 262.984814 165.391118 \nL 264.204708 165.156363 \nL 264.814655 164.709353 \nL 265.424603 164.924469 \nL 266.03455 164.480869 \nL 266.644497 165.023081 \nL 267.254444 164.25515 \nL 267.864391 164.1433 \nL 268.474338 164.356881 \nL 269.084286 164.892967 \nL 269.694233 165.103057 \nL 270.30418 165.633744 \nL 271.524074 165.405875 \nL 272.134021 165.611972 \nL 272.743969 165.498765 \nL 273.353916 166.020562 \nL 273.963863 166.223055 \nL 274.57381 165.163103 \nL 276.403652 164.83326 \nL 277.013599 165.036254 \nL 277.623546 164.927298 \nL 278.233493 165.438783 \nL 278.84344 165.020269 \nL 280.063335 165.419468 \nL 280.673282 164.698152 \nL 281.283229 164.897525 \nL 281.893176 165.400492 \nL 283.11307 165.186006 \nL 283.723018 164.47539 \nL 284.332965 164.672614 \nL 284.942912 163.366399 \nL 285.552859 163.265977 \nL 286.162806 163.464914 \nL 286.772753 163.960737 \nL 289.822489 164.929819 \nL 290.432436 164.827344 \nL 291.042384 165.017779 \nL 291.652331 165.498765 \nL 292.262278 165.686387 \nL 292.872225 165.582975 \nL 293.482172 166.05861 \nL 294.092119 165.66628 \nL 295.312014 166.609566 \nL 295.921961 166.218885 \nL 296.531908 166.115699 \nL 297.141855 166.58246 \nL 297.751802 166.194915 \nL 298.36175 166.375813 \nL 298.971697 166.838243 \nL 299.581644 166.734783 \nL 301.411485 167.26631 \nL 302.021433 167.720513 \nL 302.63138 167.894251 \nL 303.241327 167.234857 \nL 303.851274 167.685665 \nL 304.461221 167.030149 \nL 305.071168 166.92858 \nL 305.681116 166.278301 \nL 306.291063 165.357401 \nL 306.90101 165.534033 \nL 307.510957 165.982304 \nL 308.120904 166.156479 \nL 308.730851 166.05861 \nL 309.340799 166.502226 \nL 310.560693 166.306231 \nL 311.17064 166.745951 \nL 311.780587 166.38 \nL 313.000482 166.719557 \nL 313.610429 167.153943 \nL 314.220376 167.0558 \nL 315.44027 167.388747 \nL 316.050217 167.290749 \nL 316.660165 166.930568 \nL 317.880059 167.260928 \nL 318.490006 167.685665 \nL 319.099953 167.067874 \nL 320.319848 167.912176 \nL 320.929795 167.298265 \nL 321.539742 167.46022 \nL 322.149689 167.107329 \nL 322.759636 167.012531 \nL 323.369583 167.174002 \nL 323.979531 167.079512 \nL 324.589478 167.494697 \nL 325.199425 167.653904 \nL 325.809372 167.558945 \nL 326.419319 167.717264 \nL 327.029266 167.622596 \nL 328.249161 166.932394 \nL 328.859108 167.341211 \nL 329.469055 167.498204 \nL 330.079002 167.903852 \nL 331.298897 168.213119 \nL 331.908844 168.614339 \nL 332.518791 168.766645 \nL 333.128738 168.671751 \nL 334.348632 169.464848 \nL 335.568527 169.762219 \nL 336.178474 169.666145 \nL 337.398368 169.960606 \nL 338.008315 169.380492 \nL 338.618263 169.527707 \nL 339.22821 169.192174 \nL 340.448104 169.005538 \nL 341.058051 169.152267 \nL 341.667998 169.537292 \nL 342.277946 169.682211 \nL 343.49784 169.495461 \nL 344.107787 169.639524 \nL 344.717734 169.310344 \nL 345.327681 169.218375 \nL 346.547576 169.974782 \nL 347.157523 169.881989 \nL 347.76747 170.023368 \nL 348.377417 170.397401 \nL 348.987365 170.304285 \nL 349.597312 169.979307 \nL 350.207259 170.351045 \nL 350.817206 170.027344 \nL 351.427153 170.166607 \nL 352.0371 170.074977 \nL 352.647048 170.213545 \nL 353.256995 170.580854 \nL 354.476889 170.397401 \nL 355.086836 170.534126 \nL 355.696783 170.215484 \nL 356.916678 170.03507 \nL 357.526625 170.397401 \nL 358.136572 170.081685 \nL 358.746519 169.992319 \nL 359.966414 170.262923 \nL 360.576361 169.72645 \nL 361.186308 170.084934 \nL 361.796255 169.328285 \nL 362.406202 169.463846 \nL 363.626097 169.29056 \nL 365.455938 169.693331 \nL 366.065885 170.046078 \nL 367.28578 169.872549 \nL 368.505674 170.136026 \nL 369.115621 170.049601 \nL 369.725568 170.180459 \nL 369.725568 170.180459 \n\" clip-path=\"url(#pac4765d9b7)\" style=\"fill: none; stroke: #9467bd; stroke-width: 1.5; stroke-linecap: square\"/>\n   </g>\n   <g id=\"line2d_17\">\n    <path d=\"M 65.361932 235.479132 \nL 66.581826 235.479132 \nL 67.191773 208.361744 \nL 67.80172 213.785225 \nL 68.411668 217.400873 \nL 69.021615 188.992172 \nL 69.631562 194.803045 \nL 70.241509 211.374787 \nL 71.461403 196.035653 \nL 72.681298 218.791509 \nL 73.291245 227.731307 \nL 74.511139 228.699783 \nL 75.121086 235.479132 \nL 75.731034 235.479132 \nL 76.340981 241.188056 \nL 76.950928 235.479132 \nL 78.170822 245.34 \nL 79.390717 235.479132 \nL 81.220558 235.479132 \nL 81.830505 231.60522 \nL 82.440452 235.479132 \nL 83.0504 235.479132 \nL 83.660347 238.978155 \nL 85.490188 229.09857 \nL 86.100135 226.181747 \nL 86.710083 229.453046 \nL 87.32003 226.684302 \nL 87.929977 218.352362 \nL 88.539924 218.791509 \nL 89.149871 213.785225 \nL 89.759819 214.314344 \nL 90.369766 217.400873 \nL 90.979713 215.298749 \nL 91.58966 218.222612 \nL 92.199607 216.195654 \nL 92.809554 216.614864 \nL 93.419502 212.400505 \nL 94.029449 215.141093 \nL 94.639396 213.34249 \nL 95.249343 209.446442 \nL 95.85929 209.956884 \nL 96.469237 206.275783 \nL 97.689132 207.357393 \nL 99.518973 203.12856 \nL 100.12892 201.816171 \nL 101.348815 202.938271 \nL 101.958762 201.693541 \nL 102.568709 198.739437 \nL 103.788603 199.887559 \nL 104.398551 198.766365 \nL 105.008498 200.966099 \nL 105.618445 199.862264 \nL 106.228392 201.981182 \nL 106.838339 202.46666 \nL 108.058234 197.28562 \nL 108.668181 196.309571 \nL 109.278128 196.846142 \nL 109.888075 195.902403 \nL 110.498022 196.430084 \nL 111.107969 198.371126 \nL 111.717917 196.035653 \nL 112.327864 197.931971 \nL 112.937811 197.034233 \nL 113.547758 197.514782 \nL 114.157705 199.322606 \nL 115.3776 197.58013 \nL 115.987547 195.448702 \nL 117.207441 196.379639 \nL 117.817388 194.335508 \nL 118.427335 196.035653 \nL 119.037283 195.260077 \nL 119.64723 193.29652 \nL 120.257177 192.568092 \nL 122.087018 187.014004 \nL 122.696966 184.098821 \nL 124.526807 182.351189 \nL 125.136754 182.887824 \nL 126.356649 181.781338 \nL 126.966596 180.18092 \nL 127.576543 179.664699 \nL 128.18649 177.072441 \nL 128.796437 177.628699 \nL 130.016332 176.682552 \nL 130.626279 177.226962 \nL 131.236226 178.75652 \nL 131.846173 179.272175 \nL 132.45612 177.824144 \nL 133.066067 178.338927 \nL 133.676015 179.804495 \nL 134.285962 180.292867 \nL 135.505856 179.374181 \nL 136.115803 180.780802 \nL 136.72575 180.325112 \nL 137.335698 181.700102 \nL 137.945645 182.148259 \nL 139.165539 184.800725 \nL 139.775486 185.212758 \nL 140.385433 183.868624 \nL 140.995381 183.413743 \nL 142.215275 184.233671 \nL 142.825222 183.786612 \nL 143.435169 181.664785 \nL 144.045116 182.078741 \nL 144.655064 181.658352 \nL 145.265011 182.066085 \nL 145.874958 183.283257 \nL 146.484905 183.672775 \nL 147.094852 184.860012 \nL 148.924694 183.602384 \nL 150.144588 185.893052 \nL 150.754535 186.244731 \nL 151.364482 185.827575 \nL 151.97443 184.657729 \nL 152.584377 185.763924 \nL 153.194324 184.610646 \nL 153.804271 184.95906 \nL 154.414218 184.564855 \nL 155.634113 182.336335 \nL 156.24406 183.413743 \nL 156.854007 181.603526 \nL 157.463954 181.95797 \nL 158.073901 180.889871 \nL 158.683848 181.244347 \nL 159.293796 182.294052 \nL 159.903743 181.939673 \nL 160.51369 182.280685 \nL 161.733584 181.585456 \nL 162.343531 180.566413 \nL 162.953479 180.233774 \nL 164.173373 180.911627 \nL 164.78332 178.598751 \nL 165.393267 178.94348 \nL 166.003214 179.937486 \nL 166.613162 180.270076 \nL 167.223109 181.244347 \nL 168.443003 180.606304 \nL 169.05295 179.658541 \nL 169.662897 179.352442 \nL 170.272845 178.422895 \nL 170.882792 176.880632 \nL 171.492739 176.595658 \nL 172.102686 175.697614 \nL 172.712633 175.422548 \nL 173.32258 173.931797 \nL 173.932528 173.669662 \nL 175.152422 170.756969 \nL 177.592211 172.156364 \nL 178.202158 173.079979 \nL 178.812105 173.413669 \nL 179.422052 173.166841 \nL 180.031999 173.496522 \nL 180.641946 173.251859 \nL 181.251894 173.577661 \nL 181.861841 173.335116 \nL 182.471788 174.219115 \nL 183.081735 173.975778 \nL 183.691682 174.291171 \nL 184.301629 174.049951 \nL 184.911577 173.260555 \nL 186.131471 173.885862 \nL 186.741418 172.566781 \nL 187.351365 171.800482 \nL 187.961312 171.578755 \nL 188.57126 171.893534 \nL 189.181207 171.673504 \nL 190.401101 173.346091 \nL 191.620995 170.81459 \nL 192.84089 171.430442 \nL 193.450837 170.705844 \nL 194.060784 171.523025 \nL 194.670731 171.823289 \nL 195.280678 170.093274 \nL 195.890626 170.397401 \nL 196.500573 170.196525 \nL 197.11052 170.497371 \nL 198.330414 170.100224 \nL 198.940361 169.411315 \nL 199.550309 169.710254 \nL 200.160256 170.495124 \nL 200.770203 169.813699 \nL 201.38015 170.106851 \nL 202.600044 169.725464 \nL 203.209992 170.015125 \nL 203.819939 170.777997 \nL 204.429886 171.06053 \nL 205.039833 169.925791 \nL 205.64978 169.270437 \nL 206.869675 169.838752 \nL 207.479622 169.65572 \nL 208.089569 170.397401 \nL 210.529358 171.486625 \nL 211.139305 170.397401 \nL 211.749252 170.217359 \nL 212.359199 170.935265 \nL 212.969146 170.308116 \nL 213.579093 170.130676 \nL 214.189041 170.840128 \nL 214.798988 170.661961 \nL 215.408935 170.924371 \nL 216.628829 170.571641 \nL 217.238776 169.963516 \nL 220.288512 169.121283 \nL 221.508407 169.637681 \nL 222.118354 169.472461 \nL 222.728301 169.727323 \nL 223.338248 169.145818 \nL 224.558142 168.82417 \nL 225.778037 169.329142 \nL 226.387984 169.169433 \nL 226.997931 169.8265 \nL 227.607878 170.072391 \nL 228.217825 169.506969 \nL 228.827773 169.34899 \nL 230.047667 169.837039 \nL 230.657614 169.679576 \nL 231.267561 169.920602 \nL 231.877508 169.763997 \nL 233.097403 170.240198 \nL 233.70735 170.084126 \nL 234.317297 170.319365 \nL 236.147139 172.173061 \nL 236.757086 172.397552 \nL 237.367033 170.704018 \nL 237.97698 170.550176 \nL 238.586927 171.158592 \nL 239.806822 171.606815 \nL 240.416769 171.075336 \nL 241.026716 171.673504 \nL 242.24661 171.366548 \nL 244.686399 173.706644 \nL 245.296346 173.182422 \nL 245.906293 173.392172 \nL 246.51624 173.236536 \nL 247.126188 172.719152 \nL 247.736135 172.928352 \nL 248.346082 173.496522 \nL 248.956029 173.701762 \nL 249.565976 173.547662 \nL 250.175923 172.680974 \nL 250.785871 172.886861 \nL 251.395818 172.736931 \nL 252.005765 172.941315 \nL 253.225659 172.644009 \nL 253.835606 172.846712 \nL 255.055501 172.55288 \nL 255.665448 171.367728 \nL 256.885342 171.0861 \nL 257.495289 170.603353 \nL 258.715184 171.011378 \nL 259.325131 171.553492 \nL 261.154972 172.149075 \nL 261.76492 171.673504 \nL 264.204708 171.127155 \nL 264.814655 171.32336 \nL 265.424603 171.848051 \nL 266.03455 172.040878 \nL 266.644497 172.560235 \nL 267.254444 172.423041 \nL 267.864391 172.612393 \nL 268.474338 172.151095 \nL 269.694233 171.882398 \nL 270.30418 171.427371 \nL 272.134021 171.035461 \nL 272.743969 171.224441 \nL 273.353916 170.777997 \nL 273.963863 170.650388 \nL 274.57381 171.154164 \nL 275.183757 170.711808 \nL 275.793704 170.898995 \nL 276.403652 171.397695 \nL 277.013599 171.581842 \nL 277.623546 171.454121 \nL 278.233493 171.637056 \nL 278.84344 172.127965 \nL 279.453387 171.999791 \nL 280.063335 171.257786 \nL 281.283229 171.008501 \nL 281.893176 170.580207 \nL 282.503123 170.458159 \nL 283.11307 170.03381 \nL 283.723018 170.518254 \nL 284.332965 170.397401 \nL 284.942912 170.577686 \nL 285.552859 170.157685 \nL 286.162806 170.636456 \nL 286.772753 170.218604 \nL 287.382701 170.397401 \nL 287.992648 170.871582 \nL 288.602595 171.047632 \nL 289.212542 170.338454 \nL 289.822489 170.808933 \nL 290.432436 170.983722 \nL 291.042384 170.865197 \nL 291.652331 170.164134 \nL 292.262278 170.630039 \nL 293.482172 170.975899 \nL 295.312014 170.626968 \nL 295.921961 170.798072 \nL 296.531908 170.111959 \nL 298.36175 170.623961 \nL 300.801538 170.173169 \nL 301.411485 170.341493 \nL 302.021433 168.835889 \nL 302.63138 167.894251 \nL 303.241327 168.067101 \nL 303.851274 167.962363 \nL 304.461221 168.134162 \nL 305.071168 167.754488 \nL 305.681116 167.102124 \nL 306.291063 167.000878 \nL 306.90101 166.626925 \nL 307.510957 166.527376 \nL 308.730851 167.414478 \nL 309.340799 166.772734 \nL 309.950746 166.673815 \nL 310.560693 166.844547 \nL 311.17064 166.208977 \nL 312.390534 167.084539 \nL 314.220376 165.994959 \nL 314.830323 165.370752 \nL 315.44027 165.277425 \nL 316.050217 165.447818 \nL 316.660165 165.880023 \nL 317.270112 165.524125 \nL 317.880059 165.692691 \nL 319.099953 165.507169 \nL 319.7099 165.934056 \nL 320.319848 165.58228 \nL 320.929795 166.006969 \nL 321.539742 165.656679 \nL 322.759636 166.499672 \nL 323.369583 165.894893 \nL 323.979531 166.313844 \nL 324.589478 165.712329 \nL 325.199425 165.621686 \nL 325.809372 166.038342 \nL 327.029266 166.361315 \nL 328.249161 166.179139 \nL 328.859108 165.838176 \nL 329.469055 165.748697 \nL 330.079002 165.410287 \nL 330.688949 165.570998 \nL 331.298897 165.482763 \nL 331.908844 165.890222 \nL 332.518791 165.307489 \nL 333.128738 165.466955 \nL 333.738685 165.379755 \nL 334.95858 164.71682 \nL 335.568527 164.631899 \nL 336.178474 164.791106 \nL 336.788421 164.219979 \nL 337.398368 164.136738 \nL 338.008315 164.295978 \nL 338.618263 164.212948 \nL 339.22821 164.612357 \nL 339.838157 164.528971 \nL 341.058051 163.88443 \nL 341.667998 163.086452 \nL 342.277946 162.768764 \nL 342.887893 163.166088 \nL 344.107787 162.534542 \nL 345.327681 162.851681 \nL 345.937629 162.30336 \nL 346.547576 162.461743 \nL 347.157523 162.150892 \nL 347.76747 162.075167 \nL 348.377417 162.233018 \nL 348.987365 162.622971 \nL 349.597312 162.546713 \nL 350.207259 162.934324 \nL 350.817206 162.395167 \nL 351.427153 162.089084 \nL 352.0371 162.475207 \nL 353.256995 162.325245 \nL 353.866942 162.70841 \nL 354.476889 162.861621 \nL 355.086836 162.786301 \nL 355.696783 162.938688 \nL 356.916678 163.69448 \nL 357.526625 163.618044 \nL 358.136572 163.316438 \nL 358.746519 163.241102 \nL 359.356466 162.941516 \nL 359.966414 162.867279 \nL 360.576361 162.346047 \nL 361.186308 162.050147 \nL 361.796255 162.423663 \nL 362.406202 161.906537 \nL 363.016149 162.057 \nL 363.626097 161.321379 \nL 364.845991 161.622823 \nL 366.065885 161.04355 \nL 366.675832 160.974791 \nL 367.28578 161.124996 \nL 369.115621 160.919901 \nL 369.725568 160.635137 \nL 369.725568 160.635137 \n\" clip-path=\"url(#pac4765d9b7)\" style=\"fill: none; stroke: #8c564b; stroke-width: 1.5; stroke-linecap: square\"/>\n   </g>\n   <g id=\"line2d_18\">\n    <path d=\"M 50.14375 162.804528 \nL 384.94375 162.804528 \n\" clip-path=\"url(#pac4765d9b7)\" style=\"fill: none; stroke-dasharray: 5.55,2.4; stroke-dashoffset: 0; stroke: #000000; stroke-width: 1.5\"/>\n   </g>\n   <g id=\"patch_3\">\n    <path d=\"M 50.14375 256.68 \nL 50.14375 7.2 \n\" style=\"fill: none; stroke: #000000; stroke-width: 0.8; stroke-linejoin: miter; stroke-linecap: square\"/>\n   </g>\n   <g id=\"patch_4\">\n    <path d=\"M 384.94375 256.68 \nL 384.94375 7.2 \n\" style=\"fill: none; stroke: #000000; stroke-width: 0.8; stroke-linejoin: miter; stroke-linecap: square\"/>\n   </g>\n   <g id=\"patch_5\">\n    <path d=\"M 50.14375 256.68 \nL 384.94375 256.68 \n\" style=\"fill: none; stroke: #000000; stroke-width: 0.8; stroke-linejoin: miter; stroke-linecap: square\"/>\n   </g>\n   <g id=\"patch_6\">\n    <path d=\"M 50.14375 7.2 \nL 384.94375 7.2 \n\" style=\"fill: none; stroke: #000000; stroke-width: 0.8; stroke-linejoin: miter; stroke-linecap: square\"/>\n   </g>\n   <g id=\"legend_1\">\n    <g id=\"patch_7\">\n     <path d=\"M 302.089063 103.26875 \nL 377.94375 103.26875 \nQ 379.94375 103.26875 379.94375 101.26875 \nL 379.94375 14.2 \nQ 379.94375 12.2 377.94375 12.2 \nL 302.089063 12.2 \nQ 300.089063 12.2 300.089063 14.2 \nL 300.089063 101.26875 \nQ 300.089063 103.26875 302.089063 103.26875 \nz\n\" style=\"fill: #ffffff; opacity: 0.8; stroke: #cccccc; stroke-linejoin: miter\"/>\n    </g>\n    <g id=\"line2d_19\">\n     <path d=\"M 304.089063 20.298437 \nL 314.089063 20.298437 \nL 324.089063 20.298437 \n\" style=\"fill: none; stroke: #1f77b4; stroke-width: 1.5; stroke-linecap: square\"/>\n    </g>\n    <g id=\"text_14\">\n     <!-- P(die=1) -->\n     <g transform=\"translate(332.089063 23.798437)scale(0.1 -0.1)\">\n      <defs>\n       <path id=\"DejaVuSans-50\" d=\"M 1259 4147 \nL 1259 2394 \nL 2053 2394 \nQ 2494 2394 2734 2622 \nQ 2975 2850 2975 3272 \nQ 2975 3691 2734 3919 \nQ 2494 4147 2053 4147 \nL 1259 4147 \nz\nM 628 4666 \nL 2053 4666 \nQ 2838 4666 3239 4311 \nQ 3641 3956 3641 3272 \nQ 3641 2581 3239 2228 \nQ 2838 1875 2053 1875 \nL 1259 1875 \nL 1259 0 \nL 628 0 \nL 628 4666 \nz\n\" transform=\"scale(0.015625)\"/>\n       <path id=\"DejaVuSans-28\" d=\"M 1984 4856 \nQ 1566 4138 1362 3434 \nQ 1159 2731 1159 2009 \nQ 1159 1288 1364 580 \nQ 1569 -128 1984 -844 \nL 1484 -844 \nQ 1016 -109 783 600 \nQ 550 1309 550 2009 \nQ 550 2706 781 3412 \nQ 1013 4119 1484 4856 \nL 1984 4856 \nz\n\" transform=\"scale(0.015625)\"/>\n       <path id=\"DejaVuSans-3d\" d=\"M 678 2906 \nL 4684 2906 \nL 4684 2381 \nL 678 2381 \nL 678 2906 \nz\nM 678 1631 \nL 4684 1631 \nL 4684 1100 \nL 678 1100 \nL 678 1631 \nz\n\" transform=\"scale(0.015625)\"/>\n       <path id=\"DejaVuSans-29\" d=\"M 513 4856 \nL 1013 4856 \nQ 1481 4119 1714 3412 \nQ 1947 2706 1947 2009 \nQ 1947 1309 1714 600 \nQ 1481 -109 1013 -844 \nL 513 -844 \nQ 928 -128 1133 580 \nQ 1338 1288 1338 2009 \nQ 1338 2731 1133 3434 \nQ 928 4138 513 4856 \nz\n\" transform=\"scale(0.015625)\"/>\n      </defs>\n      <use xlink:href=\"#DejaVuSans-50\"/>\n      <use xlink:href=\"#DejaVuSans-28\" x=\"60.302734\"/>\n      <use xlink:href=\"#DejaVuSans-64\" x=\"99.316406\"/>\n      <use xlink:href=\"#DejaVuSans-69\" x=\"162.792969\"/>\n      <use xlink:href=\"#DejaVuSans-65\" x=\"190.576172\"/>\n      <use xlink:href=\"#DejaVuSans-3d\" x=\"252.099609\"/>\n      <use xlink:href=\"#DejaVuSans-31\" x=\"335.888672\"/>\n      <use xlink:href=\"#DejaVuSans-29\" x=\"399.511719\"/>\n     </g>\n    </g>\n    <g id=\"line2d_20\">\n     <path d=\"M 304.089063 34.976562 \nL 314.089063 34.976562 \nL 324.089063 34.976562 \n\" style=\"fill: none; stroke: #ff7f0e; stroke-width: 1.5; stroke-linecap: square\"/>\n    </g>\n    <g id=\"text_15\">\n     <!-- P(die=2) -->\n     <g transform=\"translate(332.089063 38.476562)scale(0.1 -0.1)\">\n      <use xlink:href=\"#DejaVuSans-50\"/>\n      <use xlink:href=\"#DejaVuSans-28\" x=\"60.302734\"/>\n      <use xlink:href=\"#DejaVuSans-64\" x=\"99.316406\"/>\n      <use xlink:href=\"#DejaVuSans-69\" x=\"162.792969\"/>\n      <use xlink:href=\"#DejaVuSans-65\" x=\"190.576172\"/>\n      <use xlink:href=\"#DejaVuSans-3d\" x=\"252.099609\"/>\n      <use xlink:href=\"#DejaVuSans-32\" x=\"335.888672\"/>\n      <use xlink:href=\"#DejaVuSans-29\" x=\"399.511719\"/>\n     </g>\n    </g>\n    <g id=\"line2d_21\">\n     <path d=\"M 304.089063 49.654687 \nL 314.089063 49.654687 \nL 324.089063 49.654687 \n\" style=\"fill: none; stroke: #2ca02c; stroke-width: 1.5; stroke-linecap: square\"/>\n    </g>\n    <g id=\"text_16\">\n     <!-- P(die=3) -->\n     <g transform=\"translate(332.089063 53.154687)scale(0.1 -0.1)\">\n      <use xlink:href=\"#DejaVuSans-50\"/>\n      <use xlink:href=\"#DejaVuSans-28\" x=\"60.302734\"/>\n      <use xlink:href=\"#DejaVuSans-64\" x=\"99.316406\"/>\n      <use xlink:href=\"#DejaVuSans-69\" x=\"162.792969\"/>\n      <use xlink:href=\"#DejaVuSans-65\" x=\"190.576172\"/>\n      <use xlink:href=\"#DejaVuSans-3d\" x=\"252.099609\"/>\n      <use xlink:href=\"#DejaVuSans-33\" x=\"335.888672\"/>\n      <use xlink:href=\"#DejaVuSans-29\" x=\"399.511719\"/>\n     </g>\n    </g>\n    <g id=\"line2d_22\">\n     <path d=\"M 304.089063 64.332812 \nL 314.089063 64.332812 \nL 324.089063 64.332812 \n\" style=\"fill: none; stroke: #d62728; stroke-width: 1.5; stroke-linecap: square\"/>\n    </g>\n    <g id=\"text_17\">\n     <!-- P(die=4) -->\n     <g transform=\"translate(332.089063 67.832812)scale(0.1 -0.1)\">\n      <use xlink:href=\"#DejaVuSans-50\"/>\n      <use xlink:href=\"#DejaVuSans-28\" x=\"60.302734\"/>\n      <use xlink:href=\"#DejaVuSans-64\" x=\"99.316406\"/>\n      <use xlink:href=\"#DejaVuSans-69\" x=\"162.792969\"/>\n      <use xlink:href=\"#DejaVuSans-65\" x=\"190.576172\"/>\n      <use xlink:href=\"#DejaVuSans-3d\" x=\"252.099609\"/>\n      <use xlink:href=\"#DejaVuSans-34\" x=\"335.888672\"/>\n      <use xlink:href=\"#DejaVuSans-29\" x=\"399.511719\"/>\n     </g>\n    </g>\n    <g id=\"line2d_23\">\n     <path d=\"M 304.089063 79.010937 \nL 314.089063 79.010937 \nL 324.089063 79.010937 \n\" style=\"fill: none; stroke: #9467bd; stroke-width: 1.5; stroke-linecap: square\"/>\n    </g>\n    <g id=\"text_18\">\n     <!-- P(die=5) -->\n     <g transform=\"translate(332.089063 82.510937)scale(0.1 -0.1)\">\n      <use xlink:href=\"#DejaVuSans-50\"/>\n      <use xlink:href=\"#DejaVuSans-28\" x=\"60.302734\"/>\n      <use xlink:href=\"#DejaVuSans-64\" x=\"99.316406\"/>\n      <use xlink:href=\"#DejaVuSans-69\" x=\"162.792969\"/>\n      <use xlink:href=\"#DejaVuSans-65\" x=\"190.576172\"/>\n      <use xlink:href=\"#DejaVuSans-3d\" x=\"252.099609\"/>\n      <use xlink:href=\"#DejaVuSans-35\" x=\"335.888672\"/>\n      <use xlink:href=\"#DejaVuSans-29\" x=\"399.511719\"/>\n     </g>\n    </g>\n    <g id=\"line2d_24\">\n     <path d=\"M 304.089063 93.689062 \nL 314.089063 93.689062 \nL 324.089063 93.689062 \n\" style=\"fill: none; stroke: #8c564b; stroke-width: 1.5; stroke-linecap: square\"/>\n    </g>\n    <g id=\"text_19\">\n     <!-- P(die=6) -->\n     <g transform=\"translate(332.089063 97.189062)scale(0.1 -0.1)\">\n      <defs>\n       <path id=\"DejaVuSans-36\" d=\"M 2113 2584 \nQ 1688 2584 1439 2293 \nQ 1191 2003 1191 1497 \nQ 1191 994 1439 701 \nQ 1688 409 2113 409 \nQ 2538 409 2786 701 \nQ 3034 994 3034 1497 \nQ 3034 2003 2786 2293 \nQ 2538 2584 2113 2584 \nz\nM 3366 4563 \nL 3366 3988 \nQ 3128 4100 2886 4159 \nQ 2644 4219 2406 4219 \nQ 1781 4219 1451 3797 \nQ 1122 3375 1075 2522 \nQ 1259 2794 1537 2939 \nQ 1816 3084 2150 3084 \nQ 2853 3084 3261 2657 \nQ 3669 2231 3669 1497 \nQ 3669 778 3244 343 \nQ 2819 -91 2113 -91 \nQ 1303 -91 875 529 \nQ 447 1150 447 2328 \nQ 447 3434 972 4092 \nQ 1497 4750 2381 4750 \nQ 2619 4750 2861 4703 \nQ 3103 4656 3366 4563 \nz\n\" transform=\"scale(0.015625)\"/>\n      </defs>\n      <use xlink:href=\"#DejaVuSans-50\"/>\n      <use xlink:href=\"#DejaVuSans-28\" x=\"60.302734\"/>\n      <use xlink:href=\"#DejaVuSans-64\" x=\"99.316406\"/>\n      <use xlink:href=\"#DejaVuSans-69\" x=\"162.792969\"/>\n      <use xlink:href=\"#DejaVuSans-65\" x=\"190.576172\"/>\n      <use xlink:href=\"#DejaVuSans-3d\" x=\"252.099609\"/>\n      <use xlink:href=\"#DejaVuSans-36\" x=\"335.888672\"/>\n      <use xlink:href=\"#DejaVuSans-29\" x=\"399.511719\"/>\n     </g>\n    </g>\n   </g>\n  </g>\n </g>\n <defs>\n  <clipPath id=\"pac4765d9b7\">\n   <rect x=\"50.14375\" y=\"7.2\" width=\"334.8\" height=\"249.48\"/>\n  </clipPath>\n </defs>\n</svg>\n"
     },
     "metadata": {},
     "output_type": "display_data"
    }
   ],
   "source": [
    "\n",
    "d2l.set_figsize((6, 4.5))\n",
    "for i in range(6):\n",
    "    d2l.plt.plot(estimates[:, i].numpy(),\n",
    "                 label=(\"P(die=\" + str(i + 1) + \")\"))\n",
    "d2l.plt.axhline(y=0.167, color='black', linestyle='dashed')\n",
    "d2l.plt.gca().set_xlabel('Groups of experiments')\n",
    "d2l.plt.gca().set_ylabel('Estimated probability')\n",
    "d2l.plt.legend()"
   ],
   "metadata": {
    "collapsed": false
   }
  },
  {
   "cell_type": "markdown",
   "source": [
    "#### 1. 概率论公理\n",
    "\n",
    "样本空间/结果空间\n",
    "结果\n",
    "事件\n",
    "概率\n",
    "互斥事件\n",
    "\n",
    "#### 2. 随机变量\n",
    "\n",
    "离散随机变量\n",
    "连续随机变量\n",
    "\n",
    "密度\n",
    "\n",
    "### 2.6.2 处理多个随机变量\n",
    "\n",
    "#### 1. 联合概率\n",
    "\n",
    "#### 2. 条件概率\n",
    "\n",
    "#### 3. 贝叶斯定理\n",
    "\n",
    "#### 4. 边际化\n",
    "\n",
    "#### 5. 独立性\n",
    "\n",
    "#### 6. 应用\n",
    "\n",
    "### 2.6.3 期望和方差\n",
    "\n"
   ],
   "metadata": {
    "collapsed": false
   }
  },
  {
   "cell_type": "markdown",
   "source": [
    "## 2.7 查阅文档\n",
    "\n",
    "### 2.7.1 查找模块中的所有函数和类"
   ],
   "metadata": {
    "collapsed": false
   }
  },
  {
   "cell_type": "code",
   "execution_count": 62,
   "outputs": [
    {
     "name": "stdout",
     "output_type": "stream",
     "text": [
      "['AbsTransform', 'AffineTransform', 'Bernoulli', 'Beta', 'Binomial', 'CatTransform', 'Categorical', 'Cauchy', 'Chi2', 'ComposeTransform', 'ContinuousBernoulli', 'CorrCholeskyTransform', 'CumulativeDistributionTransform', 'Dirichlet', 'Distribution', 'ExpTransform', 'Exponential', 'ExponentialFamily', 'FisherSnedecor', 'Gamma', 'Geometric', 'Gumbel', 'HalfCauchy', 'HalfNormal', 'Independent', 'IndependentTransform', 'Kumaraswamy', 'LKJCholesky', 'Laplace', 'LogNormal', 'LogisticNormal', 'LowRankMultivariateNormal', 'LowerCholeskyTransform', 'MixtureSameFamily', 'Multinomial', 'MultivariateNormal', 'NegativeBinomial', 'Normal', 'OneHotCategorical', 'OneHotCategoricalStraightThrough', 'Pareto', 'Poisson', 'PowerTransform', 'RelaxedBernoulli', 'RelaxedOneHotCategorical', 'ReshapeTransform', 'SigmoidTransform', 'SoftmaxTransform', 'SoftplusTransform', 'StackTransform', 'StickBreakingTransform', 'StudentT', 'TanhTransform', 'Transform', 'TransformedDistribution', 'Uniform', 'VonMises', 'Weibull', 'Wishart', '__all__', '__builtins__', '__cached__', '__doc__', '__file__', '__loader__', '__name__', '__package__', '__path__', '__spec__', 'bernoulli', 'beta', 'biject_to', 'binomial', 'categorical', 'cauchy', 'chi2', 'constraint_registry', 'constraints', 'continuous_bernoulli', 'dirichlet', 'distribution', 'exp_family', 'exponential', 'fishersnedecor', 'gamma', 'geometric', 'gumbel', 'half_cauchy', 'half_normal', 'identity_transform', 'independent', 'kl', 'kl_divergence', 'kumaraswamy', 'laplace', 'lkj_cholesky', 'log_normal', 'logistic_normal', 'lowrank_multivariate_normal', 'mixture_same_family', 'multinomial', 'multivariate_normal', 'negative_binomial', 'normal', 'one_hot_categorical', 'pareto', 'poisson', 'register_kl', 'relaxed_bernoulli', 'relaxed_categorical', 'studentT', 'transform_to', 'transformed_distribution', 'transforms', 'uniform', 'utils', 'von_mises', 'weibull', 'wishart']\n"
     ]
    }
   ],
   "source": [
    "import torch\n",
    "\n",
    "print(dir(torch.distributions))"
   ],
   "metadata": {
    "collapsed": false
   }
  },
  {
   "cell_type": "markdown",
   "source": [
    "### 2.7.2 查找特定函数和类的方法"
   ],
   "metadata": {
    "collapsed": false
   }
  },
  {
   "cell_type": "code",
   "execution_count": 64,
   "outputs": [
    {
     "name": "stdout",
     "output_type": "stream",
     "text": [
      "Help on built-in function ones in module torch:\n",
      "\n",
      "ones(...)\n",
      "    ones(*size, *, out=None, dtype=None, layout=torch.strided, device=None, requires_grad=False) -> Tensor\n",
      "    \n",
      "    Returns a tensor filled with the scalar value `1`, with the shape defined\n",
      "    by the variable argument :attr:`size`.\n",
      "    \n",
      "    Args:\n",
      "        size (int...): a sequence of integers defining the shape of the output tensor.\n",
      "            Can be a variable number of arguments or a collection like a list or tuple.\n",
      "    \n",
      "    Keyword arguments:\n",
      "        out (Tensor, optional): the output tensor.\n",
      "        dtype (:class:`torch.dtype`, optional): the desired data type of returned tensor.\n",
      "            Default: if ``None``, uses a global default (see :func:`torch.set_default_tensor_type`).\n",
      "        layout (:class:`torch.layout`, optional): the desired layout of returned Tensor.\n",
      "            Default: ``torch.strided``.\n",
      "        device (:class:`torch.device`, optional): the desired device of returned tensor.\n",
      "            Default: if ``None``, uses the current device for the default tensor type\n",
      "            (see :func:`torch.set_default_tensor_type`). :attr:`device` will be the CPU\n",
      "            for CPU tensor types and the current CUDA device for CUDA tensor types.\n",
      "        requires_grad (bool, optional): If autograd should record operations on the\n",
      "            returned tensor. Default: ``False``.\n",
      "    \n",
      "    Example::\n",
      "    \n",
      "        >>> torch.ones(2, 3)\n",
      "        tensor([[ 1.,  1.,  1.],\n",
      "                [ 1.,  1.,  1.]])\n",
      "    \n",
      "        >>> torch.ones(5)\n",
      "        tensor([ 1.,  1.,  1.,  1.,  1.])\n",
      "\n"
     ]
    }
   ],
   "source": [
    "help(torch.ones)"
   ],
   "metadata": {
    "collapsed": false
   }
  }
 ],
 "metadata": {
  "kernelspec": {
   "display_name": "Python 3 (ipykernel)",
   "language": "python",
   "name": "python3"
  },
  "language_info": {
   "codemirror_mode": {
    "name": "ipython",
    "version": 3
   },
   "file_extension": ".py",
   "mimetype": "text/x-python",
   "name": "python",
   "nbconvert_exporter": "python",
   "pygments_lexer": "ipython3",
   "version": "3.9.16"
  }
 },
 "nbformat": 4,
 "nbformat_minor": 5
}
